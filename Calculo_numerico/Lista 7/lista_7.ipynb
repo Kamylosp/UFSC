{
 "cells": [
  {
   "attachments": {},
   "cell_type": "markdown",
   "metadata": {},
   "source": [
    "### Questão 1"
   ]
  },
  {
   "cell_type": "code",
   "execution_count": 143,
   "metadata": {},
   "outputs": [],
   "source": [
    "import numpy as np"
   ]
  },
  {
   "cell_type": "code",
   "execution_count": 144,
   "metadata": {},
   "outputs": [],
   "source": [
    "def g(x, f, intervalo):\n",
    "    ''' Calcula g(x) tal que g(x) = I[c->d] f(x,y) dy pelo método do trapézio\n",
    "    \n",
    "    Parametros\n",
    "    x : valor de x\n",
    "    f : função de duas variáveis\n",
    "    intervalo : array com os valores entre c e d já discretizados\n",
    "    \n",
    "    Retornos\n",
    "    integral : valor de g(x)'''\n",
    "\n",
    "    integral = 0\n",
    "    for i in range(len(intervalo)-1):\n",
    "        integral += (f(x, intervalo[i]) + f(x, intervalo[i+1]))/2 * (intervalo[i+1] - intervalo[i])\n",
    "        \n",
    "    return integral\n",
    "\n",
    "def Trapezio2D (f, a, b, c, d, m, n):\n",
    "    '''Calcula integral dupla na função f pelo método do trapézio\n",
    "    \n",
    "    Parametros\n",
    "    f : função \n",
    "    a : intervalo inferior da integração em x\n",
    "    b : intervalo superior da integração em x\n",
    "    c : intervalo inferior da integração em y\n",
    "    d : intervalo superior da integração em y\n",
    "    m : número de discretizações a serem feitas no intervalo a-b\n",
    "    n : número de discretizações a serem feitas no intervalo c-d\n",
    "    \n",
    "    Retornos\n",
    "    integral_dupla : valor da integral dupla da função nos parâmetros fornecidos'''\n",
    "\n",
    "    int_a_b = np.linspace(a, b, m+1)\n",
    "    int_c_d = np.linspace(c, d, n+1)\n",
    "\n",
    "    integral_dupla = 0\n",
    "\n",
    "    for i in range(m):\n",
    "        integral_dupla += (g(int_a_b[i],f, int_c_d) + g(int_a_b[i+1], f, int_c_d))/2 * (int_a_b[i+1] - int_a_b[i])\n",
    "    \n",
    "    return integral_dupla\n"
   ]
  },
  {
   "cell_type": "code",
   "execution_count": 145,
   "metadata": {},
   "outputs": [],
   "source": [
    "def f(x, y):\n",
    "    return 4*x + (3*x*x*y)/2 + (y**3)/3"
   ]
  },
  {
   "cell_type": "code",
   "execution_count": 146,
   "metadata": {},
   "outputs": [
    {
     "data": {
      "text/plain": [
       "32.83334953703704"
      ]
     },
     "execution_count": 146,
     "metadata": {},
     "output_type": "execute_result"
    }
   ],
   "source": [
    "Trapezio2D(f, 1, 2, 3, 4, 300, 300)"
   ]
  },
  {
   "attachments": {},
   "cell_type": "markdown",
   "metadata": {},
   "source": [
    "### Questão 2"
   ]
  },
  {
   "cell_type": "code",
   "execution_count": 147,
   "metadata": {},
   "outputs": [],
   "source": [
    "def g2(x, f, intervalo):\n",
    "    ''' Calcula g(x) tal que g(x) = I[c->d] f(x,y) dy pelo método de Simpson\n",
    "    \n",
    "    Parametros\n",
    "    x : valor de x\n",
    "    f : função de duas variáveis\n",
    "    intervalo : array com os valores entre c e d já discretizados\n",
    "    \n",
    "    Retornos\n",
    "    integral : valor de g(x)'''\n",
    "\n",
    "    c = intervalo[0]\n",
    "    d = intervalo[-1]\n",
    "\n",
    "    n = (int)((len(intervalo)-1)/2)\n",
    "\n",
    "    h = (d-c)/(2*n)\n",
    "\n",
    "    y = f(x, c)\n",
    "\n",
    "    for i in range(1, n):\n",
    "        y += 2*f(x, intervalo[2*i])\n",
    "    \n",
    "    for i in range(1, n+1):\n",
    "        y += 4 * f(x, intervalo[2*i-1])\n",
    "\n",
    "    y += f(x, intervalo[2*n])\n",
    "    \n",
    "    return (h*y)/3\n",
    "\n",
    "\n",
    "def Simpson2D( f, a, b, c, d, m, n):\n",
    "    '''Calcula integral dupla na função f pelo método de Simpson\n",
    "    \n",
    "    Parametros\n",
    "    f : função \n",
    "    a : intervalo inferior da integração em x\n",
    "    b : intervalo superior da integração em x\n",
    "    c : intervalo inferior da integração em y\n",
    "    d : intervalo superior da integração em y\n",
    "    m : número de discretizações a serem feitas no intervalo a-b\n",
    "    n : número de discretizações a serem feitas no intervalo c-d\n",
    "    \n",
    "    Retornos\n",
    "    integral_dupla : valor da integral dupla da função nos parâmetros fornecidos'''\n",
    "    \n",
    "    h = (b-a)/(2*n)\n",
    "\n",
    "    intervalo_a_b = np.linspace(a, b, 2*m+1)\n",
    "    intervalo_c_d = np.linspace(c, d, 2*n+1)\n",
    "\n",
    "    y = g2(a, f, intervalo_c_d)\n",
    "\n",
    "    for i in range(1, m):\n",
    "        y += 2 * g2(intervalo_a_b[2*i], f, intervalo_c_d)\n",
    "    \n",
    "    for i in range(1, m+1):\n",
    "        y += 4 * g2(intervalo_a_b[2*i-1], f, intervalo_c_d)\n",
    "\n",
    "    y += g2(b, f, intervalo_c_d)\n",
    "    \n",
    "    return (h*y)/3\n",
    "    "
   ]
  },
  {
   "cell_type": "code",
   "execution_count": 148,
   "metadata": {},
   "outputs": [
    {
     "data": {
      "text/plain": [
       "32.833333333333364"
      ]
     },
     "execution_count": 148,
     "metadata": {},
     "output_type": "execute_result"
    }
   ],
   "source": [
    "Simpson2D(f, 1, 2, 3, 4, 300, 300)"
   ]
  }
 ],
 "metadata": {
  "kernelspec": {
   "display_name": "Python 3",
   "language": "python",
   "name": "python3"
  },
  "language_info": {
   "codemirror_mode": {
    "name": "ipython",
    "version": 3
   },
   "file_extension": ".py",
   "mimetype": "text/x-python",
   "name": "python",
   "nbconvert_exporter": "python",
   "pygments_lexer": "ipython3",
   "version": "3.9.4"
  },
  "orig_nbformat": 4
 },
 "nbformat": 4,
 "nbformat_minor": 2
}
