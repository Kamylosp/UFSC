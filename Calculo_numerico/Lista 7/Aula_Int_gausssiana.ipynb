{
 "cells": [
  {
   "cell_type": "markdown",
   "metadata": {},
   "source": [
    "# Cálculo Numérico - Integração por Newton&ndash;Cotes"
   ]
  },
  {
   "cell_type": "markdown",
   "metadata": {},
   "source": [
    "**Professor**: Luiz Cordeiro"
   ]
  },
  {
   "cell_type": "code",
   "execution_count": 1,
   "metadata": {
    "tags": []
   },
   "outputs": [],
   "source": [
    "import numpy as np\n",
    "import matplotlib.pyplot as plt"
   ]
  },
  {
   "cell_type": "markdown",
   "metadata": {},
   "source": [
    "Vamos nos concentrar em métodos de Newton-Cotes para intervalos uniformemente discretizados (i.e., com um passo constante). Seja $f\\colon[a,b]\\to\\mathbb{R}$ uma função contínua. Discretizamos a função com um conjunto de dados $(x,y)=(x_i,y_i)_{i=0,1,\\ldots,n}$, de modo que\n",
    " - $h=\\dfrac{b-a}{n}$;\n",
    " - $x_i = a+i\\cdot h$;\n",
    " - $y_i = f(x_i)$.\n",
    " \n",
    "As seguintes regras de integração permitem aproximar a integral $\\int_a^b f(t)dt$:\n",
    "\n",
    "1. **Somas de Riemann à esquerda**: $\\displaystyle\\int_a^b f(t)dt\\approx h\\cdot \\sum_{i=0}^{n-1} y_i$\n",
    "2. **Somas de Riemann à direita**: $\\displaystyle\\int_a^b f(t)dt\\approx h\\cdot \\sum_{i=1}^{n} y_i$\n",
    "3. **Regra do Trapézio**: $\\displaystyle\\int_a^b f(t)dt\\approx\\dfrac{h}{2}\\left(y_0 + 2\\sum_{i=1}^{n-1}y_i + y_n\\right)$\n",
    "4. **Regra de Simpson**: $\\displaystyle\\int_a^b f(t)dt\\approx\\dfrac{h}{3}\\left(y_0+4\\left(\\sum_{\\substack{1\\leq i\\leq n-1\\\\i\\text{ ímpar}}}y_i\\right) + 2\\left(\\sum_{\\substack{2\\leq i\\leq n-2\\\\i\\text{ par}}}y_i\\right) + y_n\\right)$.\n",
    "\n",
    "Em geral, a Regra de Simpson dá uma aproximação melhor para a integral do que a Regra do Trapézio, que por sua vez dá uma aproximação melhor do que qualquer soma lateral de Riemann.\n",
    "\n",
    "Em termos computacionais (ignorando custo para separar índices pares e ímpares na Regra de Simpson, bem como o de calcular os pontos $y_i$), cada método tem o seguinte custo em termos de operações:\n",
    "\n",
    "\n",
    "|Método|$\\#$ somas| $\\#$ produtos|\n",
    "|------|----------|--------------|\n",
    "|Soma de Riemann|$n$|$1$|\n",
    "|Regra do Trapézio|$n+1$|$3$\n",
    "|Regra de Simpson|$n+2$|$4$"
   ]
  },
  {
   "cell_type": "markdown",
   "metadata": {},
   "source": [
    "Vamos implementar métodos para calcular integrais utilizando as regras acima."
   ]
  },
  {
   "cell_type": "code",
   "execution_count": 2,
   "metadata": {
    "tags": []
   },
   "outputs": [],
   "source": [
    "def Riemann_esq (f , a , b , n):\n",
    "    '''\n",
    "    Calcula a integral de f no intervalo [a,b] utilizando uma soma de Riemann\n",
    "    à esquerda e uma discretização uniforme do intervalo em n subintevalos.\n",
    "    \n",
    "    INPUT\n",
    "    -----\n",
    "    f : função\n",
    "    a,b : float\n",
    "        Intervalo de integração\n",
    "    n : inteiro\n",
    "        Número de subintervalos\n",
    "        \n",
    "    OUTPUT\n",
    "    ------\n",
    "    L : integral de f em [a,b].'''\n",
    "    \n",
    "    h = (b-a)/n\n",
    "    x = np.linspace(a,b,n+1);\n",
    "    y = np.fromfunction(lambda i : f(x[i]) , (n+1,), dtype=int)\n",
    "    return h*np.sum(y[:-1])"
   ]
  },
  {
   "cell_type": "code",
   "execution_count": 3,
   "metadata": {
    "tags": []
   },
   "outputs": [],
   "source": [
    "def Riemann_dir (f , a , b , n):\n",
    "    '''\n",
    "    Calcula a integral de f no intervalo [a,b] utilizando uma soma de Riemann\n",
    "    à direita e uma discretização uniforme do intervalo em n subintevalos.\n",
    "    \n",
    "    INPUT\n",
    "    -----\n",
    "    f : função\n",
    "    a,b : float\n",
    "        Intervalo de integração\n",
    "    n : inteiro\n",
    "        Número de subintervalos\n",
    "        \n",
    "    OUTPUT\n",
    "    ------\n",
    "    L : integral de f em [a,b].'''\n",
    "    \n",
    "    h = (b-a)/n\n",
    "    x = np.linspace(a,b,n+1);\n",
    "    y = np.fromfunction(lambda i : f(x[i]) , (n+1,), dtype=int)\n",
    "    return h*np.sum(y[1:])"
   ]
  },
  {
   "cell_type": "code",
   "execution_count": 4,
   "metadata": {
    "tags": []
   },
   "outputs": [],
   "source": [
    "def Trapezio (f , a , b , n):\n",
    "    '''\n",
    "    Calcula a integral de f no intervalo [a,b] utilizando a Regra do Trapézio\n",
    "    e uma discretização uniforme do intervalo em n subintevalos.\n",
    "    \n",
    "    INPUT\n",
    "    -----\n",
    "    f : função\n",
    "    a,b : float\n",
    "        Intervalo de integração\n",
    "    n : inteiro\n",
    "        Número de subintervalos\n",
    "        \n",
    "    OUTPUT\n",
    "    ------\n",
    "    L : integral de f em [a,b].'''\n",
    "    \n",
    "    h = (b-a)/n\n",
    "    x = np.linspace(a,b,n+1);\n",
    "    y = np.fromfunction(lambda i : f(x[i]) , (n+1,), dtype=int)\n",
    "    return (h/2)* (y[0] + 2*np.sum(y[1:-1]) + y[n] )"
   ]
  },
  {
   "cell_type": "code",
   "execution_count": 5,
   "metadata": {
    "tags": []
   },
   "outputs": [],
   "source": [
    "def Simpson (f , a , b , n):\n",
    "    '''\n",
    "    Calcula a integral de f no intervalo [a,b] utilizando a Regra do Trapézio\n",
    "    e uma discretização uniforme do intervalo em n subintevalos.\n",
    "    \n",
    "    INPUT\n",
    "    -----\n",
    "    f : função\n",
    "    a,b : float\n",
    "        Intervalo de integração\n",
    "    n : inteiro\n",
    "        Número de subintervalos\n",
    "        \n",
    "    OUTPUT\n",
    "    ------\n",
    "    L : integral de f em [a,b].'''\n",
    "    \n",
    "    h = (b-a)/n\n",
    "    x = np.linspace(a,b,n+1);\n",
    "    # Listas dos indices pares e ímpares são feitas separadamente\n",
    "    yPar = np.fromfunction(lambda i : f(x[2*(i+1)]) , (n//2-1,), dtype=int)\n",
    "    yImpar = np.fromfunction(lambda i : f(x[2*i+1]) , (n//2,), dtype=int)\n",
    "    return (h/3)* (y[0] + 2*np.sum(yImpar) + 4*np.sum(yPar) + y[n] )"
   ]
  },
  {
   "cell_type": "code",
   "execution_count": 6,
   "metadata": {
    "tags": []
   },
   "outputs": [],
   "source": [
    "def f(x): return (x*x+1)**(2*np.sin(x)*np.exp(np.sqrt(1/(x*x+1))))\n",
    "    #return np.sin(x)"
   ]
  },
  {
   "cell_type": "code",
   "execution_count": 7,
   "metadata": {
    "tags": []
   },
   "outputs": [],
   "source": [
    "a = 1\n",
    "b = 5\n",
    "n=10"
   ]
  },
  {
   "cell_type": "code",
   "execution_count": 8,
   "metadata": {
    "tags": []
   },
   "outputs": [
    {
     "name": "stdout",
     "output_type": "stream",
     "text": [
      "Soma de Riemann à esquerda: 100.56036821583632\n",
      "  Erro relativo: \n",
      "Soma de Riemann à direita: 96.2993325897609\n",
      "Regra do trapézio: 98.42985040279859\n"
     ]
    }
   ],
   "source": [
    "print(\"Soma de Riemann à esquerda:\" , Riemann_esq(f,a,b,n))\n",
    "print(\"  Erro relativo: \")\n",
    "print(\"Soma de Riemann à direita:\" , Riemann_dir(f,a,b,n))\n",
    "print(\"Regra do trapézio:\" , Trapezio(f,a,b,n))"
   ]
  },
  {
   "cell_type": "code",
   "execution_count": 9,
   "metadata": {},
   "outputs": [],
   "source": [
    "x = np.linspace(a,b,n+1)"
   ]
  },
  {
   "cell_type": "code",
   "execution_count": 10,
   "metadata": {},
   "outputs": [],
   "source": [
    "h = (b-a)/n"
   ]
  },
  {
   "cell_type": "code",
   "execution_count": 11,
   "metadata": {},
   "outputs": [],
   "source": [
    "y = [f(t) for t in x]"
   ]
  },
  {
   "cell_type": "code",
   "execution_count": 12,
   "metadata": {},
   "outputs": [
    {
     "name": "stdout",
     "output_type": "stream",
     "text": [
      "100.56036821583633\n",
      "96.29933258976091\n",
      "98.42985040279862\n"
     ]
    }
   ],
   "source": [
    "riemann_esq = sum([y[i]*h for i in range(n)])\n",
    "riemann_dir = sum([y[i+1]*h for i in range(n)])\n",
    "int_trap = (riemann_esq+riemann_dir)/2\n",
    "\n",
    "print(riemann_esq)\n",
    "print(riemann_dir)\n",
    "print(int_trap)\n"
   ]
  },
  {
   "cell_type": "code",
   "execution_count": 13,
   "metadata": {},
   "outputs": [],
   "source": [
    "simpson = (h/3)*(\n",
    "        y[0]\n",
    "        + 4*sum([y[2*j+1] for j in range(n//2)])\n",
    "        + 2*sum([y[2*j] for j in range(1,n//2)])\n",
    "        + y[n]\n",
    "    )\n",
    "    \n",
    "    "
   ]
  },
  {
   "cell_type": "code",
   "execution_count": 14,
   "metadata": {},
   "outputs": [
    {
     "name": "stdout",
     "output_type": "stream",
     "text": [
      "98.46624566858426\n"
     ]
    }
   ],
   "source": [
    "print(simpson)"
   ]
  },
  {
   "attachments": {},
   "cell_type": "markdown",
   "metadata": {},
   "source": [
    "## Integração Gaussiana"
   ]
  },
  {
   "cell_type": "code",
   "execution_count": 15,
   "metadata": {},
   "outputs": [],
   "source": [
    "nos_Gauss = {2:[np.sqrt(3)/3 , -np.sqrt(3)/3] ,\n",
    "             3: [0,np.sqrt(15)/5, -np.sqrt(15)/5] ,\n",
    "             4: [(1/35)*np.sqrt(525-70*np.sqrt(30)) , -(1/35)*np.sqrt(525-70*np.sqrt(30)), (1/35)*np.sqrt(525+70*np.sqrt(30)), -(1/35)*np.sqrt(525+70*np.sqrt(30))],\n",
    "             5: [0 , (1/21)*np.sqrt(245-14*np.sqrt(70)), -(1/21)*np.sqrt(245-14*np.sqrt(70)), (1/21)*np.sqrt(245+14*np.sqrt(70)), -(1/21)*np.sqrt(245+14*np.sqrt(70))]}\n",
    "pesos_Gauss = {\n",
    "    2:  [1,1],\n",
    "    3: [8/9,5/9,5/9],\n",
    "    4: [(1/36)*(18+np.sqrt(30)),(1/36)*(18+np.sqrt(30)) , (1/36)*(18-np.sqrt(30)), (1/36)*(18-np.sqrt(30))],\n",
    "    5: [128/225 , (1/900)*(322+13*np.sqrt(70)) , (1/900)*(322+13*np.sqrt(70)) , (1/900)*(322-13*np.sqrt(70)) , (1/900)*(322-13*np.sqrt(70))]\n",
    "}"
   ]
  },
  {
   "cell_type": "code",
   "execution_count": 16,
   "metadata": {},
   "outputs": [
    {
     "name": "stdout",
     "output_type": "stream",
     "text": [
      "Integral por Gaussiana com 2 nós: 2.583797819200638\n",
      "Integral por Gaussiana com 3 nós: 3.3864530021310824\n",
      "Integral por Gaussiana com 4 nós: 3.4806160613799055\n",
      "Integral por Gaussiana com 5 nós: 3.47120079931413\n"
     ]
    }
   ],
   "source": [
    "for i in range(2,6):\n",
    "    print(\n",
    "        f\"Integral por Gaussiana com {i} nós: {sum([pesos_Gauss[i][k]*f(nos_Gauss[i][k]) for k in range(i)])}\"\n",
    "    )"
   ]
  },
  {
   "cell_type": "code",
   "execution_count": 17,
   "metadata": {},
   "outputs": [],
   "source": [
    "def int_Gauss(f,a,b,n):\n",
    "    g = lambda t : f(a+(b-a)/2 * (t+1))\n",
    "    return (b-a)/2 * sum([pesos_Gauss[n][k]*g(nos_Gauss[n][k]) for k in range(n)])"
   ]
  },
  {
   "cell_type": "code",
   "execution_count": 19,
   "metadata": {},
   "outputs": [
    {
     "name": "stdout",
     "output_type": "stream",
     "text": [
      "Integral por Gaussiana com 2 nós: 71.7915555379778\n",
      "Integral por Gaussiana com 3 nós: 105.9898266667878\n",
      "Integral por Gaussiana com 4 nós: 97.51593999820149\n",
      "Integral por Gaussiana com 5 nós: 99.25531903471708\n"
     ]
    }
   ],
   "source": [
    "for i in range(2,6):\n",
    "    print(\n",
    "        f\"Integral por Gaussiana com {i} nós: {int_Gauss(f,1,3,i)+int_Gauss(f,3,5,i)}\"\n",
    "    )"
   ]
  },
  {
   "attachments": {},
   "cell_type": "markdown",
   "metadata": {},
   "source": [
    "##"
   ]
  }
 ],
 "metadata": {
  "kernelspec": {
   "display_name": "Python 3 (ipykernel)",
   "language": "python",
   "name": "python3"
  },
  "language_info": {
   "codemirror_mode": {
    "name": "ipython",
    "version": 3
   },
   "file_extension": ".py",
   "mimetype": "text/x-python",
   "name": "python",
   "nbconvert_exporter": "python",
   "pygments_lexer": "ipython3",
   "version": "3.11.0"
  }
 },
 "nbformat": 4,
 "nbformat_minor": 4
}