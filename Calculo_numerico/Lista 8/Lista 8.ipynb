{
 "cells": [
  {
   "attachments": {},
   "cell_type": "markdown",
   "metadata": {},
   "source": [
    "## Questão 1"
   ]
  },
  {
   "cell_type": "code",
   "execution_count": 174,
   "metadata": {},
   "outputs": [],
   "source": [
    "import numpy as np\n",
    "\n",
    "def escalona_inteira(A):\n",
    "    m, n = len(A), len(A[0])\n",
    "    n_pivos = 0\n",
    "    j = 0\n",
    "\n",
    "    while j < n and n_pivos < m:\n",
    "        L = [i for i in range(n_pivos, m) if A[i][j] != 0]\n",
    "\n",
    "        while len(L) >= 2:\n",
    "            p = min(L, key=lambda i: abs(A[i][j]))\n",
    "\n",
    "            if A[p][j] < 0:\n",
    "                for x in range(n):\n",
    "                    A[p][x] *= -1\n",
    "\n",
    "            for k in L:\n",
    "                if k != p:\n",
    "                    if A[k][j] > 0:\n",
    "                        for i in range(n):\n",
    "                            A[k][i] -=A[p][i]\n",
    "                    else:\n",
    "                        for i in range(n):\n",
    "                            A[k][i] += A[p][i]\n",
    "\n",
    "            L = [i for i in range(n_pivos, m) if A[i][j] != 0]\n",
    "\n",
    "        if len(L) == 1:\n",
    "            p = L[0]\n",
    "            n_pivos += 1\n",
    "\n",
    "        j += 1\n",
    "\n",
    "    return A"
   ]
  },
  {
   "cell_type": "code",
   "execution_count": 175,
   "metadata": {},
   "outputs": [
    {
     "name": "stdout",
     "output_type": "stream",
     "text": [
      "2580.0000000000005\n"
     ]
    },
    {
     "data": {
      "text/plain": [
       "[[1, 12, 22, -27], [0, 3, -22, 12], [0, 0, 1, -424], [0, 0, 0, 860]]"
      ]
     },
     "execution_count": 175,
     "metadata": {},
     "output_type": "execute_result"
    }
   ],
   "source": [
    "M = [[2, 3, 5, -6],\n",
    "     [0, -9, 1, 4],\n",
    "     [7, 0, -2, 3],\n",
    "     [-8, 3, 0, 4]]\n",
    "print(np.linalg.det(M))\n",
    "escalona_inteira(M)"
   ]
  },
  {
   "attachments": {},
   "cell_type": "markdown",
   "metadata": {},
   "source": [
    "## Questão 2"
   ]
  },
  {
   "cell_type": "code",
   "execution_count": null,
   "metadata": {},
   "outputs": [],
   "source": []
  },
  {
   "attachments": {},
   "cell_type": "markdown",
   "metadata": {},
   "source": [
    "## Questão 3"
   ]
  },
  {
   "cell_type": "code",
   "execution_count": null,
   "metadata": {},
   "outputs": [],
   "source": []
  },
  {
   "attachments": {},
   "cell_type": "markdown",
   "metadata": {},
   "source": [
    "## Questão 3.5"
   ]
  },
  {
   "cell_type": "code",
   "execution_count": 176,
   "metadata": {},
   "outputs": [],
   "source": [
    "def DETERMINANTE_LAPLACE (A):\n",
    "    n = len(A)\n",
    "\n",
    "    det = 0\n",
    "\n",
    "    if n == 1:\n",
    "        return A[0][0]\n",
    "    \n",
    "    for j in range(n):\n",
    "        A_j = []\n",
    "        for a in range (1, n):\n",
    "            lista = []\n",
    "            for b in range(n):\n",
    "                if b != j:\n",
    "                    lista.append(A[a][b])\n",
    "            A_j.append(lista)\n",
    "        det += (-1)**j * A[0][j] * DETERMINANTE_LAPLACE(A_j)\n",
    "    \n",
    "    return det"
   ]
  },
  {
   "cell_type": "code",
   "execution_count": 177,
   "metadata": {},
   "outputs": [
    {
     "data": {
      "text/plain": [
       "2580"
      ]
     },
     "execution_count": 177,
     "metadata": {},
     "output_type": "execute_result"
    }
   ],
   "source": [
    "DETERMINANTE_LAPLACE(M)"
   ]
  },
  {
   "attachments": {},
   "cell_type": "markdown",
   "metadata": {},
   "source": [
    "## Questão 4"
   ]
  },
  {
   "cell_type": "code",
   "execution_count": null,
   "metadata": {},
   "outputs": [],
   "source": []
  }
 ],
 "metadata": {
  "kernelspec": {
   "display_name": "Python 3",
   "language": "python",
   "name": "python3"
  },
  "language_info": {
   "codemirror_mode": {
    "name": "ipython",
    "version": 3
   },
   "file_extension": ".py",
   "mimetype": "text/x-python",
   "name": "python",
   "nbconvert_exporter": "python",
   "pygments_lexer": "ipython3",
   "version": "3.9.4"
  },
  "orig_nbformat": 4
 },
 "nbformat": 4,
 "nbformat_minor": 2
}
