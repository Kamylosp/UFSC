{
 "cells": [
  {
   "attachments": {},
   "cell_type": "markdown",
   "metadata": {},
   "source": [
    "## Questão 1"
   ]
  },
  {
   "cell_type": "code",
   "execution_count": 61,
   "metadata": {},
   "outputs": [],
   "source": [
    "import numpy as np\n",
    "\n",
    "def escalona_inteira(A):\n",
    "    A_ = A.copy()\n",
    "    m, n = len(A_), len(A_[0])\n",
    "    n_pivos = 0\n",
    "    j = 0\n",
    "\n",
    "    while j < n and n_pivos < m:\n",
    "        L = [i for i in range(n_pivos, m) if A_[i][j] != 0]\n",
    "\n",
    "        while len(L) >= 2:\n",
    "            p = min(L, key=lambda i: abs(A_[i][j]))\n",
    "\n",
    "            if A_[p][j] < 0:\n",
    "                for x in range(n):\n",
    "                    A_[p][x] *= -1\n",
    "\n",
    "            for k in L:\n",
    "                if k != p:\n",
    "                    if A_[k][j] > 0:\n",
    "                        for i in range(n):\n",
    "                            A_[k][i] -= A_[p][i]\n",
    "                    else:\n",
    "                        for i in range(n):\n",
    "                            A_[k][i] += A_[p][i]\n",
    "\n",
    "            L = [i for i in range(n_pivos, m) if A_[i][j] != 0]\n",
    "\n",
    "        if len(L) == 1:\n",
    "            p = L[0]\n",
    "            n_pivos += 1\n",
    "\n",
    "        j += 1\n",
    "\n",
    "    return A_"
   ]
  },
  {
   "cell_type": "code",
   "execution_count": 62,
   "metadata": {},
   "outputs": [
    {
     "name": "stdout",
     "output_type": "stream",
     "text": [
      "[[   1   12   22  -27]\n",
      " [   0    3  -22   12]\n",
      " [   0    0    1 -424]\n",
      " [   0    0    0  860]]\n"
     ]
    }
   ],
   "source": [
    "M = [[2, 3, 5, -6],\n",
    "     [0, -9, 1, 4],\n",
    "     [7, 0, -2, 3],\n",
    "     [-8, 3, 0, 4]]\n",
    "M_ = np.array(escalona_inteira(M))\n",
    "\n",
    "print(M_)"
   ]
  },
  {
   "attachments": {},
   "cell_type": "markdown",
   "metadata": {},
   "source": [
    "## Questão 2\n",
    "\n",
    "Querido professor, nessa questão eu decidi adaptar o código da questão anterior por \n",
    "\n",
    "Nesta questão usar o código do arquivo `escalonamento (3).py` para resolver, usar a mesma lógica utilizada na última questão dessa lista. Nessa questão A*A_ = I (Identidade)"
   ]
  },
  {
   "cell_type": "code",
   "execution_count": 63,
   "metadata": {},
   "outputs": [],
   "source": [
    "def escalona_matriz(A, inv):\n",
    "    M = A.copy()\n",
    "    INV = inv.copy()\n",
    "\n",
    "    n = len(M)\n",
    "    \n",
    "    linha = 0\n",
    "    while linha < n:\n",
    "        if (M[linha, linha] == 0):\n",
    "            i = 1\n",
    "            while True:\n",
    "                # Verifica se ainda é possível encontrar a inversa da matriz\n",
    "                if linha == n or linha+i >= n:\n",
    "                    print(\"Impossível encontrar a inversa!\")\n",
    "                    raise \"Impossível encontrar a inversa!\"\n",
    "                \n",
    "                if abs(M[linha+i][linha]) > 2**(-30):\n",
    "                    # Troca a linha com a linha seguinte\n",
    "                    aux = M[linha].copy()\n",
    "                    M[linha] = M[linha+i].copy()\n",
    "                    M[linha+i] = aux.copy()\n",
    "\n",
    "                    aux = INV[linha].copy()\n",
    "                    INV[linha] = INV[linha+i].copy()\n",
    "                    INV[linha+i] = aux.copy()\n",
    "                    break\n",
    "                else:\n",
    "                    i+=1\n",
    "\n",
    "        else:  \n",
    "            mult = M[linha, linha]\n",
    "\n",
    "            # Vai normalizar a linha colocando o pivo como 1\n",
    "            for i in range (n):\n",
    "                M[linha][i] /= mult\n",
    "                INV[linha][i] /= mult\n",
    "\n",
    "            # Vai zerar os valores embaixo do pivô\n",
    "            for i in range(linha+1, n):\n",
    "                mult = M[i][linha]/M[linha][linha]\n",
    "\n",
    "                M[i][:] -= mult * M[linha][:]\n",
    "                INV[i][:] -= mult * INV[linha][:]\n",
    "\n",
    "            linha += 1\n",
    "\n",
    "    linha = n-1\n",
    "    while (linha >= 0):\n",
    "\n",
    "        for i in range(linha-1, -1, -1):\n",
    "            mult = M[i, linha]\n",
    "\n",
    "            M[i][:] -= mult*M[linha][:]\n",
    "            INV[i][:] -= mult * INV[linha][:]\n",
    "\n",
    "        linha -= 1\n",
    "\n",
    "    return INV\n",
    "        "
   ]
  },
  {
   "cell_type": "code",
   "execution_count": 64,
   "metadata": {},
   "outputs": [],
   "source": [
    "def calcula_inversa (A):\n",
    "    T = A.copy().astype(float)\n",
    "\n",
    "    m = len(T)\n",
    "\n",
    "    inv = np.identity(m)\n",
    "\n",
    "    inversa = escalona_matriz(T, inv)\n",
    "\n",
    "    return inversa"
   ]
  },
  {
   "cell_type": "code",
   "execution_count": 65,
   "metadata": {},
   "outputs": [
    {
     "name": "stdout",
     "output_type": "stream",
     "text": [
      "Matriz inversa experada: \n",
      "[[ 0.         -0.13333333  0.33333333]\n",
      " [ 0.33333333 -0.06666667  0.        ]\n",
      " [ 0.          0.2         0.        ]]\n",
      "\n",
      "Matriz inversa calculada: \n",
      "[[ 0.         -0.13333333  0.33333333]\n",
      " [ 0.33333333 -0.06666667  0.        ]\n",
      " [ 0.          0.2         0.        ]]\n",
      "\n",
      "[[1. 0. 0.]\n",
      " [0. 1. 0.]\n",
      " [0. 0. 1.]]\n"
     ]
    }
   ],
   "source": [
    "matriz = np.array([[0, 3, 1],\n",
    "                   [0, 0, 5],\n",
    "                   [3, 0, 2]])\n",
    "\n",
    "inversa_matriz = calcula_inversa(matriz)\n",
    "\n",
    "print(f\"Matriz inversa experada: \\n{np.linalg.inv(matriz)}\")\n",
    "print(f\"\\nMatriz inversa calculada: \\n{inversa_matriz}\\n\")\n",
    "\n",
    "print(matriz@inversa_matriz)"
   ]
  },
  {
   "attachments": {},
   "cell_type": "markdown",
   "metadata": {},
   "source": [
    "## Questão 3"
   ]
  },
  {
   "cell_type": "code",
   "execution_count": 66,
   "metadata": {},
   "outputs": [],
   "source": [
    "def pivot_partial(x):\n",
    "    return np.argmax(abs(x))\n",
    "\n",
    "def ref(A, tol=None, pivot=pivot_partial):\n",
    "    T = np.array(A).astype(float)\n",
    "    n_linhas, n_colunas = np.shape(T)\n",
    "\n",
    "    tol = 2**(-52) * np.max(abs(T)) * max(n_linhas, n_colunas)\n",
    "\n",
    "    n_pivos = 0\n",
    "    j = 0\n",
    "\n",
    "    while (j < n_colunas and n_pivos < n_linhas):\n",
    "        #Encontra o pivô\n",
    "        p = pivot(T[n_pivos:, j]) + n_pivos\n",
    "\n",
    "        if abs(T[p, j]) > tol:\n",
    "            #Encontramos um pivô.\n",
    "\n",
    "            # Troca a linha p com a n_pivos, caso necessário\n",
    "            if p != n_pivos:\n",
    "                for k in range(j, n_colunas):\n",
    "                    temp = T[p, k]\n",
    "                    T[p, k] = T[n_pivos, k]\n",
    "                    T[n_pivos, k] = temp\n",
    "\n",
    "                p = n_pivos\n",
    "\n",
    "            for k in range(p + 1, n_linhas):\n",
    "                multiplicador = T[k, j] / T[p, j]\n",
    "                for s in range(j+1,n_colunas):\n",
    "                    T[k, s] -= multiplicador * T[p, s]\n",
    "                T[k, j] = 0\n",
    "\n",
    "            n_pivos += 1\n",
    "        j += 1\n",
    "\n",
    "    return T"
   ]
  },
  {
   "cell_type": "code",
   "execution_count": 67,
   "metadata": {},
   "outputs": [],
   "source": [
    "def determinante_matriz (A):\n",
    "\n",
    "    A_esc = ref(A)\n",
    "\n",
    "    det = 1\n",
    "\n",
    "    for i in range(len(A)):\n",
    "        det *= A_esc[i,i]\n",
    "\n",
    "    return det"
   ]
  },
  {
   "cell_type": "code",
   "execution_count": 68,
   "metadata": {},
   "outputs": [
    {
     "data": {
      "text/plain": [
       "2580.0"
      ]
     },
     "execution_count": 68,
     "metadata": {},
     "output_type": "execute_result"
    }
   ],
   "source": [
    "determinante_matriz(M)"
   ]
  },
  {
   "attachments": {},
   "cell_type": "markdown",
   "metadata": {},
   "source": [
    "## Questão 3.5"
   ]
  },
  {
   "cell_type": "code",
   "execution_count": 69,
   "metadata": {},
   "outputs": [],
   "source": [
    "def DETERMINANTE_LAPLACE (A):\n",
    "    n = len(A)\n",
    "\n",
    "    det = 0\n",
    "\n",
    "    if n == 1:\n",
    "        return A[0][0]\n",
    "    \n",
    "    for j in range(n):\n",
    "        A_j = []\n",
    "        for a in range (1, n):\n",
    "            lista = []\n",
    "            for b in range(n):\n",
    "                if b != j:\n",
    "                    lista.append(A[a][b])\n",
    "            A_j.append(lista)\n",
    "        det += (-1)**j * A[0][j] * DETERMINANTE_LAPLACE(A_j)\n",
    "    \n",
    "    return det"
   ]
  },
  {
   "cell_type": "code",
   "execution_count": 70,
   "metadata": {},
   "outputs": [
    {
     "data": {
      "text/plain": [
       "2580"
      ]
     },
     "execution_count": 70,
     "metadata": {},
     "output_type": "execute_result"
    }
   ],
   "source": [
    "DETERMINANTE_LAPLACE(M)"
   ]
  },
  {
   "attachments": {},
   "cell_type": "markdown",
   "metadata": {},
   "source": [
    "## Questão 4"
   ]
  },
  {
   "cell_type": "code",
   "execution_count": 71,
   "metadata": {},
   "outputs": [],
   "source": [
    "def vetor_ker (A):\n",
    "    # Define o tamanho do array A\n",
    "    m, n = np.shape(A)\n",
    "\n",
    "    # Escalona a matriz A\n",
    "    A_esc = np.array(escalona_inteira(A))\n",
    "\n",
    "    # Cria a matriz x do tamanho n\n",
    "    x = np.ones(n)\n",
    "\n",
    "    # Vai calcular os valores de x para que Ax = 0\n",
    "    for i in range(m-1, -1, -1):\n",
    "        x[i] = (-sum([A_esc[i][k]*x[k] for k in range(i+1, n)]))/A_esc[i][i]\n",
    "    \n",
    "    # Calcula a norma do vetor x\n",
    "    norma_x = np.sqrt(sum([c*c for c in x]))\n",
    "\n",
    "    # Reescreve o array x normalizado\n",
    "    x_normalizado = np.array([x[i]/norma_x for i in range(n)])\n",
    "\n",
    "    return x_normalizado"
   ]
  },
  {
   "cell_type": "code",
   "execution_count": 72,
   "metadata": {},
   "outputs": [
    {
     "name": "stdout",
     "output_type": "stream",
     "text": [
      "[-0.49728205 -0.70725558  0.49323545  0.06789294  0.06789294]\n",
      "[1.55431223e-15 1.77635684e-15 0.00000000e+00]\n"
     ]
    }
   ],
   "source": [
    "N = [[4, 5, 9, 7, 9],\n",
    "     [-2, 6, 7, 0, -3],\n",
    "     [-9, 7, 0, 5, 2]]\n",
    "\n",
    "x = np.array(vetor_ker(N))\n",
    "\n",
    "print(x)\n",
    "\n",
    "print(N@x)"
   ]
  }
 ],
 "metadata": {
  "kernelspec": {
   "display_name": "Python 3",
   "language": "python",
   "name": "python3"
  },
  "language_info": {
   "codemirror_mode": {
    "name": "ipython",
    "version": 3
   },
   "file_extension": ".py",
   "mimetype": "text/x-python",
   "name": "python",
   "nbconvert_exporter": "python",
   "pygments_lexer": "ipython3",
   "version": "3.9.4"
  },
  "orig_nbformat": 4
 },
 "nbformat": 4,
 "nbformat_minor": 2
}
