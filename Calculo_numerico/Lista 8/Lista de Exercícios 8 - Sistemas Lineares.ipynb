{
 "cells": [
  {
   "attachments": {},
   "cell_type": "markdown",
   "id": "e96015db-b513-4d59-a4fc-15acfbe78de4",
   "metadata": {},
   "source": [
    "# EMB5016 &mdash; Cálculo Numérico  \n",
    "## Lista de Exercícios 8 - Sistemas Lineares"
   ]
  },
  {
   "attachments": {},
   "cell_type": "markdown",
   "id": "9f854cec-4ad1-4d8d-841c-34c8a18dbb5a",
   "metadata": {},
   "source": [
    "> **Questão 1**\n",
    ">\n",
    "> Uma matriz é dita ser ***inteira*** se todas as suas entradas são números inteiros. Essas matrizes são as matrizes favoritas tanto dos alunos quanto dos professores nas disciplinas de Geometria Analítica e Álgebra Linear.\n",
    ">\n",
    "> Utilizamos a convenção de que as entradas de $A$ são denotadas por $A[i,j]$, com \n",
    "> $$0\\leq i<\\text{número de linhas de }A\\quad\\text{e}\\quad 0\\leq j<\\text{número de colunas de }A.$$\n",
    "> A $i$-ésima linha de $A$ é denotada por $A[i,:]$, e, similarmente, a $j$-ésima coluna de $A$ é denotada por $A[:,j]$.\n",
    ">\n",
    "> O pseudocódigo abaixo faz o escalonamento parcial de uma matriz inteira $A$, com todos os passos intermediários resultando em matrizes inteiras. \n",
    "> ```\n",
    ">   m,n := ordem de A\n",
    ">   n_pivos := 0                        # Numero de colunas/linhas pivoteadas\n",
    ">\n",
    ">   j := 0                              # Índice da coluna sendo pivoteada\n",
    ">   ENQUANTO (j < n) E (n_pivos<m):     # Enquanto houver colunas ou linhas a pivotear\n",
    ">       L := lista com todos os indices i com n_pivos<=i<m tais que A[i,j]!=0\n",
    ">  \n",
    ">       ENQUANTO (comprimento de L)>=2:\n",
    ">           p := indice i em L tal que abs(A[i,j]) tem valor minimo para i em L\n",
    ">           \n",
    ">           SE A[p,j]<0\n",
    ">               A[p,:] := -A[p,:]\n",
    ">               \n",
    ">           PARA k em L exceto p\n",
    ">               SE A[k,j]>0:\n",
    ">                   SUBTRAIA a p-esima linha da k-esima linha\n",
    ">               SENAO:\n",
    ">                   SOME a p-esima linha na k-esima linha\n",
    ">           \n",
    ">           Atualize L\n",
    ">           \n",
    ">       SE comprimento de L = 1\n",
    ">           p := unica entrada de L\n",
    ">           TROQUE as p-esima e n_pivos-esima linhas de A\n",
    ">           n_pivos := n_pivos + 1\n",
    ">       \n",
    ">       j := j+1\n",
    ">   ```\n",
    ">\n",
    "> Adapte e implemente o pseudocódigo acima em Python, em uma função de protótipo `escalona_inteira(A)`, que toma uma matriz inteira $A$ (`numpy.array` de 2 dimensões e `dtype` inteiro) e retorna a forma parcialmente escalonada de $A$ como uma nova matriz (sem alterar a matriz original $A$).\n"
   ]
  },
  {
   "attachments": {},
   "cell_type": "markdown",
   "id": "bc5a525d-9d3a-4f14-909b-874c58dbe501",
   "metadata": {},
   "source": [
    "> **Questão 2**\n",
    ">\n",
    "> Adapte o algoritmo de escalonamento visto em aula e crie um método que calcula a inversa de uma matriz quadrada."
   ]
  },
  {
   "attachments": {},
   "cell_type": "markdown",
   "id": "075591bc-b10d-49f5-80df-68eddb75b7e1",
   "metadata": {},
   "source": [
    "> **Questão 3**\n",
    ">\n",
    "> Adapte o algoritmo de escalonamento parcial visto em aula e crie um método que calcula a inversa de uma matriz."
   ]
  },
  {
   "attachments": {},
   "cell_type": "markdown",
   "id": "52279a9d",
   "metadata": {},
   "source": [
    "> **Questão 3.5 (bônus)**\n",
    ">\n",
    "> A fórmula da Expansão de Laplace (na primeira linha) dá uma fórmula recursiva para o cálculo de determinantes, que em pseudocódigo pode ser expressada do seguinte modo:\n",
    "> ```\n",
    "> DETERMINANTE_LAPLACE(A):\n",
    "> \n",
    "> n := ordem de A\n",
    "> \n",
    "> SE n==1:\n",
    ">   RETORNE A[0,0]\n",
    ">\n",
    "> PARA j=0,...,n-1:\n",
    ">   A_j := matriz obtida excluindo a primeira linha e a j-ésima coluna de A\n",
    ">\n",
    "> RETORNE a soma de todos os valores do tipo\n",
    ">       (-1)^j * A[0,j] * DETERMINANTE_LAPLACE(A_j),\n",
    ">   com 0 <= j <= n-1\n",
    "> ```\n",
    ">\n",
    "> Implemente o código acima em Python e tente calcular "
   ]
  },
  {
   "attachments": {},
   "cell_type": "markdown",
   "id": "3b4cc839-e18c-4c39-922b-7a23c8a045bb",
   "metadata": {},
   "source": [
    "> **Questão 4**\n",
    ">\n",
    "> Adapte o algoritmo de escalonamento para criar uma função `vetor_ker(A)`, que recebe uma matriz $A$ de ordem $m\\times n$ com $m<n$ (ou seja, a matriz tem mais colunas do que linhas) e retorna um vetor $x$ satisfazendo às seguintes condições:\n",
    "> 1. $Ax=0$\n",
    "> 2. $\\Vert x\\Vert =1$, em que $\\Vert x\\Vert = \\left(\\sum_{i=0}^{n-1}x_i^2\\right)^{1/2}$ é a norma euclidiana do vetor $x=[x_0,x_1,\\ldots,x_{n-1}]$.\n",
    ">\n",
    "> **Dica**: Resolva o sistema linear $Ax=0$ utilizando o algoritmo de escalonamento da aula. As colunas sem pivôs da forma escalonada de $A$ corresponderão às variáveis livres da solução geral do sistema. Ponha o valor de uma ou mais dessas variáveis livre como sendo $1$, e calcule uma solução específica não-nula $x$. Normalize $x$."
   ]
  },
  {
   "cell_type": "code",
   "execution_count": null,
   "id": "cece61da",
   "metadata": {
    "vscode": {
     "languageId": "plaintext"
    }
   },
   "outputs": [],
   "source": [
    "[2, 3, 6, 4]\n",
    "[5, 1, 0, 7]\n",
    "[8, 4, 1, 6]"
   ]
  }
 ],
 "metadata": {
  "kernelspec": {
   "display_name": "Python 3 (ipykernel)",
   "language": "python",
   "name": "python3"
  },
  "language_info": {
   "codemirror_mode": {
    "name": "ipython",
    "version": 3
   },
   "file_extension": ".py",
   "mimetype": "text/x-python",
   "name": "python",
   "nbconvert_exporter": "python",
   "pygments_lexer": "ipython3",
   "version": "3.10.8"
  }
 },
 "nbformat": 4,
 "nbformat_minor": 5
}
