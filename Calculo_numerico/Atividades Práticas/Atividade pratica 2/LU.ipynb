{
 "cells": [
  {
   "attachments": {},
   "cell_type": "markdown",
   "metadata": {},
   "source": [
    "# Cálculo Numérico &mdash; Decomposição LU"
   ]
  },
  {
   "attachments": {},
   "cell_type": "markdown",
   "metadata": {},
   "source": [
    "**Professor**: Luiz Gustavo Cordeiro"
   ]
  },
  {
   "attachments": {},
   "cell_type": "markdown",
   "metadata": {},
   "source": [
    "Uma *decomposição LU* de uma matriz quadrada $A$ é um par $(L,U)$ de matrizes triangulares (quadradadas de mesma ordem que $A$) tais que\n",
    "- $A=LU$\n",
    "- $L$ é triangular inferior (*lower triangular*)\n",
    "- $U$ é triangular superior (*upper triangular*)\n",
    "\n",
    "Existem matrizes que não admitem decomposições LU, e mesmo no caso em que uma tal decomposição exista, ela não é única. Porém, a classe de matrizes que admitem decomposições LU é relativamente grande, e para alguns tipos de problemas específicos os processos númericos podem ter sua eficiência aumentada com o uso de uma decomposição LU."
   ]
  },
  {
   "attachments": {},
   "cell_type": "markdown",
   "metadata": {},
   "source": [
    "## Algoritmo de Crout para a calcular uma decomposição LU de uma matriz."
   ]
  },
  {
   "attachments": {},
   "cell_type": "markdown",
   "metadata": {},
   "source": [
    "O algoritmo de Crout é o algoritmo mais simples que permite calcular a decomposição LU de uma matriz. Existe alguma liberdade no algoritmo, no sentido de que ele pede (em várias iterações em alguns laços) por uma \"escolha de número $l$ e $u$ tais que o produto $l\\cdot u$ é um certo número\". Abaixo, utilizamos a implementação conhecida como *Algoritmo de Crout&ndash;Dolittle*."
   ]
  },
  {
   "cell_type": "code",
   "execution_count": 1,
   "metadata": {},
   "outputs": [],
   "source": [
    "import numpy as np"
   ]
  },
  {
   "cell_type": "code",
   "execution_count": 2,
   "metadata": {},
   "outputs": [],
   "source": [
    "def crout_dolittle(A):\n",
    "    ''' Decomposição LU de A pelo algoritmo de Crout'''\n",
    "\n",
    "    m,n = np.shape(A)\n",
    "\n",
    "    L = np.zeros((n,n))\n",
    "    U = np.zeros((n,n))\n",
    "\n",
    "    L[0,0] = 1          # Escolha de Dolittle\n",
    "    U[0,0] = A[0,0]\n",
    "\n",
    "    for j in range(1,n):\n",
    "        U[0,j] = A[0,j]/L[0,0]      # Determina a primeira linha de U\n",
    "        L[j,0] = A[j,0]/U[0,0]      # Determina a primeira coluna de L\n",
    "    \n",
    "    for i in range(1,n):\n",
    "        L[i,i]=1        # Escolha de Dolittle\n",
    "        U[i,i] = A[i,i] - sum([L[i,k]*U[k,i] for k in range(i)])\n",
    "        for j in range(i+1,n):\n",
    "            U[i,j] = (A[i,j] - sum([L[i,k]*U[k,j] for k in range(i)]))/L[i,i]       # Determina a i-ésima linha de U\n",
    "            L[j,i] = (A[j][i] - sum([L[j,k]*U[k,i] for k in range(i)]))/U[i,i]      # Determina a i-ésima coluna de L\n",
    "\n",
    "    return L , U"
   ]
  },
  {
   "attachments": {},
   "cell_type": "markdown",
   "metadata": {},
   "source": [
    "Para testar o algoritmo acima, basta:\n",
    "\n",
    "1. Criar uma matriz aleatória $A$.\n",
    "2. Aplicar o algoritmo acima em $A$ e receber duas novas matrizes $L$ e $U$.\n",
    "3. Verificar se $LU = A$.\n",
    "\n",
    "Espera-se que o passo 3 nos dê uma resposta positiva."
   ]
  },
  {
   "cell_type": "code",
   "execution_count": 3,
   "metadata": {},
   "outputs": [
    {
     "name": "stdout",
     "output_type": "stream",
     "text": [
      "A matriz A é dada por\n",
      "[[ 3.42602716  4.20635915  5.76368909 -1.27766988]\n",
      " [ 8.02687434 -3.52356115 -5.18693341  1.99875286]\n",
      " [ 2.51711844  1.2571317  -6.58945624 -0.02294982]\n",
      " [ 1.21507694  5.90540752  4.92162665 -4.87566054]]\n",
      "\n",
      "A matriz L é dada por\n",
      "[[ 1.          0.          0.          0.        ]\n",
      " [ 2.34291031  1.          0.          0.        ]\n",
      " [ 0.73470475  0.13703145  1.          0.        ]\n",
      " [ 0.35466063 -0.32989626  0.3979902   1.        ]]\n",
      "\n",
      "A matriz U é dada por\n",
      "[[  3.42602716   4.20635915   5.76368909  -1.27766988]\n",
      " [  0.         -13.37868335 -18.69073999   4.99221879]\n",
      " [  0.           0.          -8.26284684   0.23166933]\n",
      " [  0.           0.           0.          -2.86780917]]\n",
      "\n",
      "\n",
      "O produto LU é dado por\n",
      "[[ 3.42602716  4.20635915  5.76368909 -1.27766988]\n",
      " [ 8.02687434 -3.52356115 -5.18693341  1.99875286]\n",
      " [ 2.51711844  1.2571317  -6.58945624 -0.02294982]\n",
      " [ 1.21507694  5.90540752  4.92162665 -4.87566054]]\n"
     ]
    }
   ],
   "source": [
    "A = 20*np.random.rand(4,4) - 10.0       # Matriz aleatória com entradas entre -10 e 10\n",
    "\n",
    "L , U = crout_dolittle(A)               # Decomposição LU de $A$\n",
    "\n",
    "print(f\"A matriz A é dada por\\n{A}\")\n",
    "print(f\"\\nA matriz L é dada por\\n{L}\")\n",
    "print(f\"\\nA matriz U é dada por\\n{U}\")\n",
    "print(f\"\\n\\nO produto LU é dado por\\n{L@U}\")"
   ]
  },
  {
   "attachments": {},
   "cell_type": "markdown",
   "metadata": {},
   "source": [
    "Note que, de fato, as matrizes $L$ e $U$ são triangulares inferior e superior, respectivamente, e que o produto $LU$ iguala a matriz $A$ (talvez dentro de uma pequena tolerância)."
   ]
  },
  {
   "attachments": {},
   "cell_type": "markdown",
   "metadata": {},
   "source": [
    "## Aplicação da decomposição LU"
   ]
  },
  {
   "attachments": {},
   "cell_type": "markdown",
   "metadata": {},
   "source": [
    "Em essência, o processo de retrossubstituição resolve um sistema linear triangular superior, com $O(n^2)$ operações. Ele pode ser adaptado &ndash; sem muitas dificuldades &ndash; para um processo que resolva um sistema triangular inferior com $O(n^2)$ operações (que eu costumo chamar de *substituição progressiva*).\n",
    "\n",
    "Suponha que uma matriz $A$ possui uma decomposição $LU$. Por exemplo, o algoritmo de Crout acima calcula essa decomposição com $O(n^3)$ operações. Se tivermos um sistema linear\n",
    "$$Ax=b,$$\n",
    "ele se transforma num sistema\n",
    "$$LUx = b.$$\n",
    "Fazendo a substituição\n",
    "$$Ux=y,$$\n",
    "chegamos num par de sistemas lineares\n",
    "$$\\begin{cases}Ly=b,\\\\Ux=y,\\end{cases}$$\n",
    "que podem ser resolvidos em sequência para para calcular $y$ (com o primeiro sistema linear) e depois $x$ (com o segundo). Isso nos dá um método de calcular $x$ com $2O(n^2)=O(n^2)$ operações."
   ]
  },
  {
   "cell_type": "code",
   "execution_count": 12,
   "metadata": {},
   "outputs": [],
   "source": [
    "def solve_triangular_superior(L, b):\n",
    "    \"\"\"Resolve um sistema triangular superior do tipo Ux = b.\n",
    "\n",
    "    Parametros obrigatorios\n",
    "    ----------\n",
    "    U : Array-like de dimensao 2\n",
    "        Matriz quadrada triangular superior inversível\n",
    "\n",
    "    b : Array-like de dimensão 1\n",
    "        Vetor independente\n",
    "\n",
    "    Saída\n",
    "    ----------\n",
    "    x : Array-like de dimensão 1\n",
    "        Solução do sistema Ux = b\"\"\"\n",
    "    \n",
    "    n = U.shape[0]          # Ordem das matrizes\n",
    "    \n",
    "    # Cópias usuais para evitar problemas\n",
    "    x = b.copy().reshape(n)\n",
    "\n",
    "    # Vai linha-a-linha, de baixo para cima, escalonando a matriz utilizando o pivô na diagonal\n",
    "                        \n",
    "    for i in range(n-1,-1,-1):\n",
    "        x[i] /= U[i,i]     # Normaliza a i-ésima linha\n",
    "        for j in range(i-1,-1,-1):\n",
    "            x[j] -= U[j,i]*x[i]     # Pivoteia a i-ésima coluna, utilizando a entrada diagonal como pivô\n",
    "\n",
    "    return x"
   ]
  },
  {
   "attachments": {},
   "cell_type": "markdown",
   "metadata": {},
   "source": [
    "Para testar essa função, vamos criar uma matriz triangular inferior $L$ e um vetor $b$ aleatórios, e verificar se o retorno $x$ dessa função satisfaz $Lx=b$."
   ]
  },
  {
   "cell_type": "code",
   "execution_count": 13,
   "metadata": {},
   "outputs": [
    {
     "name": "stdout",
     "output_type": "stream",
     "text": [
      "4\n",
      "\n",
      "A matriz U é dada por\n",
      "[[-2.4822     -0.73568341 -5.71107157  8.04108066]\n",
      " [ 0.         -2.7487403  -6.67584118 -1.13167883]\n",
      " [ 0.          0.         -3.28780671 -4.20801697]\n",
      " [ 0.          0.          0.         -9.19206572]]\n",
      "\n",
      "O vetor b é dada por\n",
      "[-1.86626821  0.05641751 -5.16098818 -2.63973874]\n",
      "\n",
      "O vetor x é dada por\n",
      "[-0.17734451 -3.05849032  1.20218368  0.28717579]\n",
      "\n",
      "O vetor Ux é dada por\n",
      "[-1.86626821  0.05641751 -5.16098818 -2.63973874]\n"
     ]
    }
   ],
   "source": [
    "U = 20*np.random.rand(4,4) -10 # Matriz triangular aleatória com entradas em [-10,10]\n",
    "# print (U)\n",
    "for i in range(4):\n",
    "    for j in range(i):\n",
    "        U[i,j]=0.0        # Aniquila as entradas abaixo da diagonal principal para deixar triangular superior\n",
    "\n",
    "# print(U)    \n",
    "        \n",
    "b = 20*np.random.rand(4) - 10 # Vetor aleatório com entradas em [-10,10]\n",
    "\n",
    "x = solve_triangular_superior(U,b) # Solução pretendida do sistema Ux = b\n",
    "\n",
    "print(f\"\\nA matriz U é dada por\\n{U}\")\n",
    "print(f\"\\nO vetor b é dada por\\n{b}\")\n",
    "print(f\"\\nO vetor x é dada por\\n{x}\")\n",
    "print(f\"\\nO vetor Ux é dada por\\n{U@x}\")"
   ]
  },
  {
   "attachments": {},
   "cell_type": "markdown",
   "metadata": {},
   "source": [
    "> **Atividade** (Sendo aprimorada):\n",
    "> 1. Adapte o código acima para fazer com que a função `solve_triangular_inferior()` também retorno o número de operações (somas, produtos, divisões e subtrações numéricas) que foram realizadas. (**Dica**: A resposta é $n^2$; tente deduzir este valor formalmente).\n",
    "> 2. Adapte o código acima para fazer o processo análogo (também contando operações), mas com matrizes triangulares _inferiores_.\n",
    "> 3. Adapte o algoritmo de Crout&ndash;Dolittle, para fazer com que ele também retorne o número de operações realizadas.\n",
    "> 4. Utilize as funções criadas no passo anterior para criar uma função que recebe uma matriz $A$, um inteiro positivo $n$ e um vetor $b$ e\n",
    ">     - Decompõe a matriz $A$ como $A=LU$.\n",
    ">     - Resolve o sistema linear $A^n x = b$, com aplicações sucessivas das funções criadas nos passos 1. e 2.\n",
    ">     - Conta o número de operações.\n",
    "> 5. Adapte o algoritmo de resolução de sistemas lineares da aula 9 para que ele conte o número de operações realizadas.\n",
    "> 6. Adapte o algoritmo abaixo, que realiza o produto de duas matrizes $A$ e $B$, para que ele também conte o número de operações realizadas.\n",
    "> 7. Crie uma matriz aleatória $A$ de ordem $4\\times 4$ e um vetor $b$ de tamanho $4$, e resolva o sistema $A^{20}x = b$ por dois modos:\n",
    ">     - Utilizando o método do passo 4;\n",
    ">     - Calculando o produto $A^{20}=A\\cdot A\\cdots A$ com o algoritmo do passo 6, e resolvendo o sistema $(A^n)x = b$ diretamente com o algoritmo do passo 5.\n",
    ">\n",
    ">     Compare os números de operações e os resultados."
   ]
  },
  {
   "cell_type": "code",
   "execution_count": 6,
   "metadata": {},
   "outputs": [],
   "source": [
    "def matmul(A,B):\n",
    "    \"\"\"Produto de matrizes quadradas de mesma ordem\n",
    "\n",
    "    Parametros obrigatorios\n",
    "    ----------\n",
    "    A , B : Array-like de dimensao 2\n",
    "        Matrizes quadradas de mesma ordem\n",
    "\n",
    "    Saída\n",
    "    ----------\n",
    "    C : Array-like de dimensão 2\n",
    "        Produto C = AB\"\"\"\n",
    "    \n",
    "    n=A.shape[0]\n",
    "    \n",
    "    C = np.zeros((n,n))\n",
    "    \n",
    "    for i in range(n):\n",
    "        for j in range(n):\n",
    "            for k in range(n):\n",
    "                C[i,j] += A[i,k]*B[k,j]\n",
    "                \n",
    "    return C"
   ]
  },
  {
   "attachments": {},
   "cell_type": "markdown",
   "metadata": {},
   "source": [
    "# Algoritmo de Thomas (A ser melhorado)"
   ]
  },
  {
   "cell_type": "code",
   "execution_count": 7,
   "metadata": {},
   "outputs": [],
   "source": [
    "def thomas (B,b):\n",
    "    ''' Resolve Ax = b, com A tridiagonal'''\n",
    "\n",
    "    A=B.copy()\n",
    "    c = b.copy()\n",
    "    # Triangularização\n",
    "\n",
    "    p,n = np.shape(A)\n",
    "    for k in range(n-1):\n",
    "        m = A[k+1,k]/A[k,k]\n",
    "        A[k+1,k] = 0\n",
    "        A[k+1,k+1] = A[k+1,k+1] - m*A[k,k+1]\n",
    "        c[k+1] = c[k+1]-m*c[k]\n",
    "\n",
    "    #Retrossub\n",
    "\n",
    "    x = np.zeros(n)\n",
    "\n",
    "    for i in range(n-2,-1,-1):\n",
    "        x[i] = (c[i] - A[i,i+1]*x[i+1])/A[i,i]\n",
    "\n",
    "    return x"
   ]
  },
  {
   "cell_type": "code",
   "execution_count": 8,
   "metadata": {},
   "outputs": [],
   "source": [
    "import numpy as np\n",
    "\n",
    "A = np.array([\n",
    "    [3,-1,0,0],\n",
    "    [1,4,1,0,],\n",
    "    [0,2,3,0],\n",
    "    [0,0,2,-5]\n",
    "]).astype(float)\n",
    "\n",
    "b=np.array([2.0,-3.0,4.0,0.0])"
   ]
  },
  {
   "cell_type": "code",
   "execution_count": 9,
   "metadata": {},
   "outputs": [
    {
     "name": "stdout",
     "output_type": "stream",
     "text": [
      "[ 0.21212121 -1.36363636  2.24242424  0.        ]\n"
     ]
    }
   ],
   "source": [
    "x=thomas(A,b)\n",
    "print(x)"
   ]
  },
  {
   "cell_type": "code",
   "execution_count": 10,
   "metadata": {},
   "outputs": [
    {
     "name": "stdout",
     "output_type": "stream",
     "text": [
      "[ 2.         -3.          4.          4.48484848]\n",
      "[ 2. -3.  4.  0.]\n"
     ]
    }
   ],
   "source": [
    "print(A@x)\n",
    "print(b)"
   ]
  }
 ],
 "metadata": {
  "kernelspec": {
   "display_name": "Python 3 (ipykernel)",
   "language": "python",
   "name": "python3"
  },
  "language_info": {
   "codemirror_mode": {
    "name": "ipython",
    "version": 3
   },
   "file_extension": ".py",
   "mimetype": "text/x-python",
   "name": "python",
   "nbconvert_exporter": "python",
   "pygments_lexer": "ipython3",
   "version": "3.9.4"
  }
 },
 "nbformat": 4,
 "nbformat_minor": 4
}
