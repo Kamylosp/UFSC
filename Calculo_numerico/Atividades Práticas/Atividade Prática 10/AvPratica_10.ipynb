{
 "cells": [
  {
   "attachments": {},
   "cell_type": "markdown",
   "metadata": {},
   "source": [
    "## Atividade prática 10\n",
    "\n",
    "> Considere pelo menos um dos seguintes algoritmos: <br>\n",
    "> - Decomposição LU (com o algoritmo de Crout-Dolittle).\n",
    "> - Resolução de sistema triangular superior seguida de sistema triangular inferior.\n",
    "> - Resolução de sistema linear por eliminação Gaussiana\n",
    "> - ★ Resolução de sistema linear pelo método de Gauss-Seidel ou de Jacobi.\n",
    "> - Cálculo de determinante por escalonamento\n",
    "> - Cálculo de determinante por expansão de Laplace\n",
    "> Realize vários testes com inputs de diferentes tamanos para o algoritmo que você escolheu. Grave o tempo que o algoritmo leva para ser realizado e crie um gráfico. Faça uma regressão, utilizando um tipo apropriado de função, para dar uma estimativa empírica do <br>\n",
    ">(Observação: Não há fórmula assintótica para o método de Gauss-Seidel em geral. Normalmente o tempo de execução é menor do que $O(n^2)$.) <br>\n",
    "> Utilize a biblioteca matplotlib para criar gráficos. Você pode utilizar a biblioteca tqdm para exibir uma barra de carregamento nos seus laços."
   ]
  },
  {
   "cell_type": "code",
   "execution_count": 73,
   "metadata": {},
   "outputs": [],
   "source": [
    "import numpy as np"
   ]
  },
  {
   "cell_type": "code",
   "execution_count": 74,
   "metadata": {},
   "outputs": [],
   "source": [
    "def solve_determinante (A):\n",
    "    '''Resolve o determinante por escalonamento\n",
    "    \n",
    "    Parâmetros obrigatórios\n",
    "    ---------------------------\n",
    "    A : Array-like de dimensao 2\n",
    "        Matriz quadrada\n",
    "    \n",
    "    Saída\n",
    "    ---------------------------\n",
    "    det : float\n",
    "          Determinante da matriz recebida\n",
    "    '''\n",
    "    n = len(A)\n",
    "\n",
    "    # Escalonando a matriz\n",
    "    for i in range(0, n):\n",
    "        for j in range(i+1, n):\n",
    "            coef = A[j, i]/A[i,i]\n",
    "            \n",
    "            A[j][:] -= coef * A[i][:]\n",
    "\n",
    "    out = 1\n",
    "    for i in range(n):\n",
    "        out *= A[i, i]\n",
    "\n",
    "    return out\n"
   ]
  },
  {
   "cell_type": "code",
   "execution_count": 75,
   "metadata": {},
   "outputs": [
    {
     "name": "stdout",
     "output_type": "stream",
     "text": [
      "Determinante calculado:  142532715.99999988\n",
      "Determinante esperado:  142532715.99999943\n"
     ]
    }
   ],
   "source": [
    "ordem = 10\n",
    "\n",
    "A = (np.random.randint(1, 10, (ordem,ordem))).astype(float)\n",
    "\n",
    "determinante = solve_determinante(A)\n",
    "print(f\"Determinante calculado: \", determinante)\n",
    "print(f\"Determinante esperado: \", np.linalg.det(A))"
   ]
  },
  {
   "cell_type": "code",
   "execution_count": null,
   "metadata": {},
   "outputs": [],
   "source": [
    "for tam in range (1, 100):\n",
    "    "
   ]
  }
 ],
 "metadata": {
  "kernelspec": {
   "display_name": "Python 3",
   "language": "python",
   "name": "python3"
  },
  "language_info": {
   "codemirror_mode": {
    "name": "ipython",
    "version": 3
   },
   "file_extension": ".py",
   "mimetype": "text/x-python",
   "name": "python",
   "nbconvert_exporter": "python",
   "pygments_lexer": "ipython3",
   "version": "3.9.4"
  },
  "orig_nbformat": 4
 },
 "nbformat": 4,
 "nbformat_minor": 2
}
