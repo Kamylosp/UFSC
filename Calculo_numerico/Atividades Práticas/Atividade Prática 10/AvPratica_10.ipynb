{
 "cells": [
  {
   "attachments": {},
   "cell_type": "markdown",
   "metadata": {},
   "source": [
    "## Atividade prática 10\n",
    "\n",
    "> Considere pelo menos um dos seguintes algoritmos: <br>\n",
    "> - Decomposição LU (com o algoritmo de Crout-Dolittle).\n",
    "> - Resolução de sistema triangular superior seguida de sistema triangular inferior.\n",
    "> - Resolução de sistema linear por eliminação Gaussiana\n",
    "> - ★ Resolução de sistema linear pelo método de Gauss-Seidel ou de Jacobi.\n",
    "> - Cálculo de determinante por escalonamento\n",
    "> - Cálculo de determinante por expansão de Laplace <br><br>\n",
    "> Realize vários testes com inputs de diferentes tamanos para o algoritmo que você escolheu. Grave o tempo que o algoritmo leva para ser realizado e crie um gráfico. Faça uma regressão, utilizando um tipo apropriado de função, para dar uma estimativa empírica do <br>\n",
    ">(Observação: Não há fórmula assintótica para o método de Gauss-Seidel em geral. Normalmente o tempo de execução é menor do que $O(n^2)$.) <br>\n",
    "> Utilize a biblioteca matplotlib para criar gráficos. Você pode utilizar a biblioteca tqdm para exibir uma barra de carregamento nos seus laços."
   ]
  },
  {
   "cell_type": "code",
   "execution_count": 82,
   "metadata": {},
   "outputs": [],
   "source": [
    "import numpy as np\n",
    "import time\n",
    "import matplotlib.pyplot as plt\n",
    "from tqdm import tqdm"
   ]
  },
  {
   "cell_type": "code",
   "execution_count": 83,
   "metadata": {},
   "outputs": [],
   "source": [
    "def solve_determinante (A):\n",
    "    '''Resolve o determinante por escalonamento\n",
    "    \n",
    "    Parâmetros obrigatórios\n",
    "    ---------------------------\n",
    "    A : Array-like de dimensao 2\n",
    "        Matriz quadrada\n",
    "    \n",
    "    Saída\n",
    "    ---------------------------\n",
    "    det : float\n",
    "          Determinante da matriz recebida\n",
    "    '''\n",
    "    n = len(A)\n",
    "\n",
    "    # Escalonando a matriz\n",
    "    for i in range(0, n):\n",
    "        for j in range(i+1, n):\n",
    "            coef = A[j, i]/A[i,i]\n",
    "            \n",
    "            A[j][:] -= coef * A[i][:]\n",
    "\n",
    "    out = 1\n",
    "    for i in range(n):\n",
    "        out *= A[i, i]\n",
    "\n",
    "    return out"
   ]
  },
  {
   "cell_type": "code",
   "execution_count": 84,
   "metadata": {},
   "outputs": [
    {
     "name": "stdout",
     "output_type": "stream",
     "text": [
      "Determinante calculado:  47581610.999999955\n",
      "Determinante esperado:  47581610.999999985\n"
     ]
    }
   ],
   "source": [
    "ordem = 10\n",
    "\n",
    "A = (np.random.randint(1, 10, (ordem,ordem))).astype(float)\n",
    "\n",
    "determinante = solve_determinante(A)\n",
    "print(f\"Determinante calculado: \", determinante)\n",
    "print(f\"Determinante esperado: \", np.linalg.det(A))"
   ]
  },
  {
   "cell_type": "code",
   "execution_count": 85,
   "metadata": {},
   "outputs": [
    {
     "name": "stderr",
     "output_type": "stream",
     "text": [
      "  0%|          | 0/8 [00:00<?, ?it/s]C:\\Users\\Windows 10\\AppData\\Local\\Temp\\ipykernel_1176\\2398402775.py:19: RuntimeWarning: invalid value encountered in double_scalars\n",
      "  coef = A[j, i]/A[i,i]\n",
      "C:\\Users\\Windows 10\\AppData\\Local\\Temp\\ipykernel_1176\\2398402775.py:19: RuntimeWarning: divide by zero encountered in double_scalars\n",
      "  coef = A[j, i]/A[i,i]\n",
      "C:\\Users\\Windows 10\\AppData\\Local\\Temp\\ipykernel_1176\\2398402775.py:21: RuntimeWarning: invalid value encountered in multiply\n",
      "  A[j][:] -= coef * A[i][:]\n",
      "C:\\Users\\Windows 10\\AppData\\Local\\Temp\\ipykernel_1176\\2398402775.py:25: RuntimeWarning: invalid value encountered in double_scalars\n",
      "  out *= A[i, i]\n",
      "100%|██████████| 8/8 [00:00<00:00, 535.28it/s]\n"
     ]
    }
   ],
   "source": [
    "ordem_max = 10\n",
    "\n",
    "tabela = [[], []]\n",
    "aux = True\n",
    "\n",
    "for tam in tqdm(range(2,ordem_max)):\n",
    "    aux = True\n",
    "\n",
    "    while aux:\n",
    "        A = (np.random.randint(-10, 10, (tam,tam))).astype(float)\n",
    "\n",
    "        try:\n",
    "            time_inicio = time.time()\n",
    "            for i in range(10):\n",
    "                determinante = solve_determinante(A)\n",
    "            time_final = time.time()\n",
    "            aux = False\n",
    "            tabela[0].append(tam)\n",
    "            tabela[1].append((time_final-time_inicio)/10)\n",
    "\n",
    "        except:\n",
    "            pass"
   ]
  },
  {
   "attachments": {},
   "cell_type": "markdown",
   "metadata": {},
   "source": [
    "Para realizar a aproximação por mínimos quadrados, vamos fazer as seguintes considerações:\n",
    "- $n$: ordem da matriz a ser calculada\n",
    "- $a_k$: o coeficiente da equação de aproximação\n",
    "- $t_n$: tempo para solucão da matriz $n$ x $n$ \n",
    "\n",
    "\n",
    "Além disso, o seguinte sistema representa as operações realizadas para descobrir os coeficientes da equação:\n",
    "\n",
    "$\\begin{bmatrix}\n",
    "1 & 2 & 2^2 & ... & 2^k\\\\\n",
    "1 & 3 & 3^2 & ... & 3^k\\\\\n",
    "\\vdots & \\vdots & \\vdots\\\\\n",
    "1 & n & n^2 & ... & n^k\\end{bmatrix}$ \n",
    "$\\begin{bmatrix}\n",
    "a_0\\\\\n",
    "a_1\\\\\n",
    "\\vdots\\\\\n",
    "a_k\n",
    "\\end{bmatrix}$ =\n",
    "$\\begin{bmatrix}\n",
    "t_2\\\\\n",
    "t_3\\\\\n",
    "\\vdots\\\\\n",
    "t_n\n",
    "\\end{bmatrix}$\n",
    "\n",
    "\n",
    "${\\begin{bmatrix}\n",
    "1 & 2 & 2^2 & ... & 2^k\\\\\n",
    "1 & 3 & 3^2 & ... & 3^k\\\\\n",
    "\\vdots & \\vdots & \\vdots\\\\\n",
    "1 & n & n^2 & ... & n^k\\end{bmatrix}}^T$\n",
    "$\\begin{bmatrix}\n",
    "1 & 2 & 2^2 & ... & 2^k\\\\\n",
    "1 & 3 & 3^2 & ... & 3^k\\\\\n",
    "\\vdots & \\vdots & \\vdots\\\\\n",
    "1 & n & n^2 & ... & n^k\\end{bmatrix}$ \n",
    "$\\begin{bmatrix}\n",
    "a_0\\\\\n",
    "a_1\\\\\n",
    "\\vdots\\\\\n",
    "a_k\n",
    "\\end{bmatrix}$ = ${\\begin{bmatrix}\n",
    "1 & 2 & 2^2 & ... & 2^k\\\\\n",
    "1 & 3 & 3^2 & ... & 3^k\\\\\n",
    "\\vdots & \\vdots & \\vdots\\\\\n",
    "1 & n & n^2 & ... & n^k\\end{bmatrix}}^T$\n",
    "$\\begin{bmatrix}\n",
    "t_2\\\\\n",
    "t_3\\\\\n",
    "\\vdots\\\\\n",
    "t_n\n",
    "\\end{bmatrix}$"
   ]
  },
  {
   "cell_type": "code",
   "execution_count": 86,
   "metadata": {},
   "outputs": [],
   "source": [
    "def solve_triangular_superior(U, b):\n",
    "    n = U.shape[0]          # Ordem das matrizes\n",
    "\n",
    "    x = b.copy()\n",
    "                        \n",
    "    for i in range(n-1,-1,-1):\n",
    "        x[i] /= U[i,i]     # Normaliza a i-ésima linha\n",
    "        for j in range(i-1,-1,-1):\n",
    "            x[j] -= U[j,i]*x[i]     # Pivoteia a i-ésima coluna, utilizando a entrada diagonal como pivô\n",
    "\n",
    "    return x"
   ]
  },
  {
   "cell_type": "code",
   "execution_count": 87,
   "metadata": {},
   "outputs": [],
   "source": [
    "def f(a, x):\n",
    "    out = 0\n",
    "    for i in range(len(a)):\n",
    "        out += a[i] * (x**i)"
   ]
  },
  {
   "cell_type": "code",
   "execution_count": 88,
   "metadata": {},
   "outputs": [
    {
     "name": "stdout",
     "output_type": "stream",
     "text": [
      "[[2 2 2]\n",
      " [3 3 3]\n",
      " [4 4 4]\n",
      " [5 5 5]\n",
      " [6 6 6]\n",
      " [7 7 7]\n",
      " [8 8 8]\n",
      " [9 9 9]]\n",
      "[[284. 284. 284.]\n",
      " [284. 284. 284.]\n",
      " [284. 284. 284.]]\n",
      "[nan, nan, nan, 9.963512420654296e-05, 0.00019943714141845703, 0.0001995086669921875, 0.0003989458084106445, 0.0003989219665527344]\n"
     ]
    },
    {
     "name": "stderr",
     "output_type": "stream",
     "text": [
      "C:\\Users\\Windows 10\\AppData\\Local\\Temp\\ipykernel_1176\\3075181880.py:28: RuntimeWarning: invalid value encountered in double_scalars\n",
      "  coef = N[j, i]/N[i,i]\n"
     ]
    },
    {
     "data": {
      "image/png": "[encoded data removed]",
      "text/plain": [
       "<Figure size 640x480 with 1 Axes>"
      ]
     },
     "metadata": {},
     "output_type": "display_data"
    }
   ],
   "source": [
    "n = ordem_max\n",
    "k = 2\n",
    "t = tabela[1][:]\n",
    "a = np.zeros(k+1)\n",
    "\n",
    "T = []\n",
    "for i in range(k+1):\n",
    "    T.append(tabela[0])\n",
    "\n",
    "T = np.transpose(T)\n",
    "\n",
    "print(T)\n",
    "\n",
    "N = (np.transpose(T) @ T).astype(float)\n",
    "b = np.transpose(T) @ t\n",
    "\n",
    "\n",
    "# N@a = b\n",
    "print(N)\n",
    "\n",
    "# Vai escalonar a matriz N\n",
    "\n",
    "\n",
    "n = len(N)\n",
    "# Escalonando a matriz\n",
    "for i in range(0, n):\n",
    "    for j in range(i+1, n):\n",
    "        coef = N[j, i]/N[i,i]\n",
    "        \n",
    "        N[j][:] -= coef * N[i][:]\n",
    "\n",
    "# Com a matriz N escalonada, vamos calcular a matriz dos coeficientes\n",
    "a = solve_triangular_superior(N, t)\n",
    "\n",
    "print(a)\n",
    "\n",
    "plt.plot(tabela[0], tabela[1],'ro')\n",
    "\n",
    "dom = np.linspace(2, ordem_max, 1000)\n",
    "im = []\n",
    "for x in dom:\n",
    "    im.append(f(a, x))\n",
    "\n",
    "plt.plot(dom, im,'r')\n",
    "plt.show()"
   ]
  }
 ],
 "metadata": {
  "kernelspec": {
   "display_name": "Python 3",
   "language": "python",
   "name": "python3"
  },
  "language_info": {
   "codemirror_mode": {
    "name": "ipython",
    "version": 3
   },
   "file_extension": ".py",
   "mimetype": "text/x-python",
   "name": "python",
   "nbconvert_exporter": "python",
   "pygments_lexer": "ipython3",
   "version": "3.9.4"
  },
  "orig_nbformat": 4
 },
 "nbformat": 4,
 "nbformat_minor": 2
}
