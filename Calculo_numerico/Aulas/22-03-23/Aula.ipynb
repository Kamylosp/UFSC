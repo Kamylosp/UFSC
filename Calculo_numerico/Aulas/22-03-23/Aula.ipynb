{
 "cells": [
  {
   "attachments": {},
   "cell_type": "markdown",
   "metadata": {},
   "source": [
    "# Funções usando série de Taylor\n"
   ]
  },
  {
   "cell_type": "code",
   "execution_count": 16,
   "metadata": {},
   "outputs": [],
   "source": [
    "ln2 = 0.6931471805599453094172321214581765680755001\n",
    "def ln_taylor (x, n):\n",
    "    '''Série de Taylor ao redor de a-1 com n termos'''\n",
    "    soma = 0\n",
    "    if x < 2: \n",
    "        for k in range (1, n+1):\n",
    "            soma += (-1)**(k+1)*(x-1)**k/k\n",
    "    else:\n",
    "        soma += ln_taylor(x/2, n) + ln2\n",
    "\n",
    "    return soma"
   ]
  },
  {
   "cell_type": "code",
   "execution_count": 17,
   "metadata": {},
   "outputs": [
    {
     "data": {
      "text/plain": [
       "0.9969486348916096"
      ]
     },
     "execution_count": 17,
     "metadata": {},
     "output_type": "execute_result"
    }
   ],
   "source": [
    "ln_taylor(2.71, 50)"
   ]
  }
 ],
 "metadata": {
  "kernelspec": {
   "display_name": "Python 3",
   "language": "python",
   "name": "python3"
  },
  "language_info": {
   "codemirror_mode": {
    "name": "ipython",
    "version": 3
   },
   "file_extension": ".py",
   "mimetype": "text/x-python",
   "name": "python",
   "nbconvert_exporter": "python",
   "pygments_lexer": "ipython3",
   "version": "3.9.4"
  },
  "orig_nbformat": 4
 },
 "nbformat": 4,
 "nbformat_minor": 2
}
