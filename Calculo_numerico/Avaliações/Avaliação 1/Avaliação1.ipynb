{
 "cells": [
  {
   "attachments": {},
   "cell_type": "markdown",
   "metadata": {},
   "source": [
    "# Questão 8.8 - CHAPRA\n",
    "\n",
    "*The volume V of liquid in a hollow horizontal cylinder of\n",
    "radius r and length L is related to the depth of the liquid h by:*\n",
    "\n",
    "*$V = [r^{2} \\cdot \\arccos {(\\frac {r-h} {r})} - (r-h)\\sqrt{2rh - h^{2}}]L $*\n",
    "\n",
    "*Determine h given $r = 2$  $m$, $L = 5$ $m$, and $V = 8$ $m^{3}$.*"
   ]
  },
  {
   "attachments": {},
   "cell_type": "markdown",
   "metadata": {},
   "source": [
    "## 1 Definindo a equação inicial\n",
    "A partir da equação do enunciado, iremos substituir os valores dados(comprimento e volume) e trabalha-la de modo que a ela possa ser calculada pelos método da bisseção, Newton e Halley.\n",
    "\n",
    "*$8 = [2^{2} \\cdot \\arccos {(\\frac {2-h} {2})} - (2-h)\\sqrt{2 \\cdot 2 \\cdot h - h^{2}}] \\cdot 5 $* <br><br>\n",
    "*$20 \\cdot \\arccos {(1- \\frac {h} {2})} + (5h-10)\\sqrt{ (4-h)h}  - 8 = 0$* <br><br>"
   ]
  },
  {
   "attachments": {},
   "cell_type": "markdown",
   "metadata": {},
   "source": [
    "## 2 Definindo condições parâmetros iniciais\n",
    "Um parâmetro importante a ser observado é que durante a aplicação dos métodos será necessário calcular raízes quadradas e o arco cosseno. Para essas operações, iremos utilizar a biblioteca numpy, pois, na maioria dos casos, ela é a maneira mais rápida para fazer tais operações. Essas operações serão denominadas como operações especiais."
   ]
  },
  {
   "cell_type": "code",
   "execution_count": 2,
   "metadata": {},
   "outputs": [],
   "source": [
    "import numpy as np\n",
    "tol = 9.3132257e-10"
   ]
  },
  {
   "attachments": {},
   "cell_type": "markdown",
   "metadata": {},
   "source": [
    "### 2.1 Definindo as funções utilizadas\n",
    "A partir da equação do capítulo 1, vamos denominá-la como $f(h)$. Além dela, também iremos necessitar a sua primeira derivada e segunda derivada. <br><br>\n",
    "\n",
    "*$f(h) = 20 \\cdot \\arccos {(1- \\frac {h} {2})} + (5h-10)\\sqrt{ (4-h)h}  - 8$* <br><br>\n",
    "\n",
    "$f'(h) = {10} \\cdot {\\sqrt{(4-h)h}}$ <br><br>\n",
    "\n",
    "$f''(h) = \\frac {10(h-2)} {\\sqrt{(4-h)h}}$ <br><br>"
   ]
  },
  {
   "cell_type": "code",
   "execution_count": 3,
   "metadata": {},
   "outputs": [],
   "source": [
    "# f(h)\n",
    "def f(h):\n",
    "    # Retorna: valor da função em h\n",
    "    # Quantidade de Operações:\n",
    "    # -> Soma: 5\n",
    "    # -> Produto: 5\n",
    "    # -> Especiais: 2\n",
    "    return 20*np.arccos(1-h/2) + (5*h-10)*np.sqrt((4-h)*h) - 8\n",
    "\n",
    "# f'(h)\n",
    "def f_(h):\n",
    "    # Retorna: valor da derivada da função em h\n",
    "    # Quantidade de Operações:\n",
    "    # -> Soma: 1\n",
    "    # -> Produto: 2\n",
    "    # -> Especiais: 1\n",
    "    return 10 * np.sqrt((4-h)*h)\n",
    "\n",
    "# f''(h)\n",
    "def f__(h):\n",
    "    # Retorna: valor da derivada segunda da função em h\n",
    "    # Quantidade de Operações:\n",
    "    # -> Soma: 2\n",
    "    # -> Produto: 3\n",
    "    # -> Especiais: 1\n",
    "    return (10* (h-2)) / np.sqrt((4-h)*h)"
   ]
  },
  {
   "attachments": {},
   "cell_type": "markdown",
   "metadata": {},
   "source": [
    "### 2.2 Definindo intervalo inicial\n",
    "\n",
    "Antes de aplicarmos qualquer método, primeiro precisamos saber em qual intervalo deve ser a raíz da função. Devemos observar que h não pode ser negativo, pois se trata de uma medida de dimensão."
   ]
  },
  {
   "cell_type": "code",
   "execution_count": 4,
   "metadata": {},
   "outputs": [
    {
     "name": "stdout",
     "output_type": "stream",
     "text": [
      "f(0) = -8.0\n",
      "f(1) = 4.283696986087573\n",
      "f(2) = 23.41592653589793\n",
      "f(3) = 42.5481560857083\n",
      "f(4) = 54.83185307179586\n"
     ]
    }
   ],
   "source": [
    "for i in range (0, 5):\n",
    "    print(f\"f({i}) = {f(i)}\")"
   ]
  },
  {
   "attachments": {},
   "cell_type": "markdown",
   "metadata": {},
   "source": [
    "Observamos que a raíz da função está entre 0 e 1, logo, iremos utilizar esses valores como ponto de partida."
   ]
  },
  {
   "attachments": {},
   "cell_type": "markdown",
   "metadata": {},
   "source": [
    "## 3 Método da bisseção\n",
    "Iremos calcular o valor da raíz para a função pelo método da busseção e, simultaneamente, contando o numero de iterações e operações (soma (+ e -), produto (* e /) e especiais) e exibindo-as no final."
   ]
  },
  {
   "cell_type": "code",
   "execution_count": 5,
   "metadata": {},
   "outputs": [
    {
     "name": "stdout",
     "output_type": "stream",
     "text": [
      "Raiz:  0.7400152185000479\n",
      "- Iterações:  31\n",
      "- Soma:  248\n",
      "- Produto:  217\n",
      "- Especiais:  62\n"
     ]
    }
   ],
   "source": [
    "a, b = 0, 1\n",
    "num_iteracoes, num_somas, num_produtos, num_especiais = 0, 0, 0, 0\n",
    "\n",
    "while abs(b-a) > tol:\n",
    "    h = (a+b)/2\n",
    "\n",
    "    if (f(h) < 0):\n",
    "        a = h\n",
    "    else:\n",
    "        b = h\n",
    "\n",
    "    num_iteracoes += 1\n",
    "    num_somas += 8\n",
    "    num_produtos += 7\n",
    "    num_especiais += 2\n",
    "\n",
    "print(\"Raiz: \", h)\n",
    "print(\"- Iterações: \", num_iteracoes)\n",
    "print(\"- Soma: \", num_somas)\n",
    "print(\"- Produto: \", num_produtos)\n",
    "print(\"- Especiais: \", num_especiais)"
   ]
  },
  {
   "attachments": {},
   "cell_type": "markdown",
   "metadata": {},
   "source": [
    "Agora, calcularemos o tempo que o método demorou para chegar no resultado final, retirando todos os comandos não necessários."
   ]
  },
  {
   "cell_type": "code",
   "execution_count": 6,
   "metadata": {},
   "outputs": [
    {
     "name": "stdout",
     "output_type": "stream",
     "text": [
      "142 µs ± 8.73 µs per loop (mean ± std. dev. of 7 runs, 10,000 loops each)\n"
     ]
    }
   ],
   "source": [
    "%%timeit\n",
    "a, b = 0, 1\n",
    "\n",
    "while abs(b-a) > tol:\n",
    "    h = (a+b)/2\n",
    "\n",
    "    if (f(h) < 0):\n",
    "        a = h\n",
    "    else:\n",
    "        b = h"
   ]
  },
  {
   "attachments": {},
   "cell_type": "markdown",
   "metadata": {},
   "source": [
    "## 4 Método de Newton\n",
    "No método da bisseção, o primeiro valor de h no loop foi 0.5, logo, também será considerado esse mesmo valor para fins de comparação no final.\n",
    "\n",
    "Além disso, vamos calcular o método de Newton de duas maneiras, inicialmente sem otimizar a função e, em seguida, otimizando-a matemáticamente."
   ]
  },
  {
   "attachments": {},
   "cell_type": "markdown",
   "metadata": {},
   "source": [
    "### 4.1 Sem otimizar a função\n",
    "\n",
    "$ h_{n+1} = h_{n} - \\frac{f(h_{n})}{f'(h_{n})}$"
   ]
  },
  {
   "cell_type": "code",
   "execution_count": 7,
   "metadata": {},
   "outputs": [
    {
     "name": "stdout",
     "output_type": "stream",
     "text": [
      "Raiz:  0.7400152180559405\n",
      "- Iterações:  5\n",
      "- Soma:  40\n",
      "- Produto:  45\n",
      "- Especiais:  15\n"
     ]
    }
   ],
   "source": [
    "h, h_anterior = 0.5, 0\n",
    "num_iteracoes, num_somas, num_produtos, num_especiais = 0, 0, 0, 0\n",
    "\n",
    "while abs((h-h_anterior)/h) > tol:\n",
    "    h_anterior = h\n",
    "    h = h - f(h)/f_(h)\n",
    "\n",
    "    num_iteracoes += 1\n",
    "    num_somas += 8\n",
    "    num_produtos += 9\n",
    "    num_especiais += 3\n",
    "    \n",
    "print(\"Raiz: \", h)\n",
    "print(\"- Iterações: \", num_iteracoes)\n",
    "print(\"- Soma: \", num_somas)\n",
    "print(\"- Produto: \", num_produtos)\n",
    "print(\"- Especiais: \", num_especiais)"
   ]
  },
  {
   "attachments": {},
   "cell_type": "markdown",
   "metadata": {},
   "source": [
    "Agora, calcularemos o tempo que o método demorou para chegar no resultado final, retirando todos os comandos não necessários."
   ]
  },
  {
   "cell_type": "code",
   "execution_count": 8,
   "metadata": {},
   "outputs": [
    {
     "name": "stdout",
     "output_type": "stream",
     "text": [
      "49.8 µs ± 4.93 µs per loop (mean ± std. dev. of 7 runs, 10,000 loops each)\n"
     ]
    }
   ],
   "source": [
    "%%timeit\n",
    "h, h_anterior = 0.5, 0\n",
    "\n",
    "while abs((h-h_anterior)/h) > tol:\n",
    "    h_anterior = h\n",
    "    h = h - f(h)/f_(h)"
   ]
  },
  {
   "attachments": {},
   "cell_type": "markdown",
   "metadata": {},
   "source": [
    "### 4.2 Otimizando a função \n",
    "\n",
    "$ h_{n+1} = 0.5 \\cdot h_{n} +  \\frac{0.8 - 2\\arccos {(1- \\frac {h_{n}} {2})}}{\\sqrt{(4-h_{n})h_{n}}} + 1$"
   ]
  },
  {
   "cell_type": "code",
   "execution_count": 9,
   "metadata": {},
   "outputs": [
    {
     "name": "stdout",
     "output_type": "stream",
     "text": [
      "Raiz:  0.7400152180559407\n",
      "- Iterações:  5\n",
      "- Soma:  30\n",
      "- Produto:  30\n",
      "- Especiais:  10\n"
     ]
    }
   ],
   "source": [
    "h, h_anterior = 0.5, 0\n",
    "num_iteracoes, num_somas, num_produtos, num_especiais = 0, 0, 0, 0\n",
    "\n",
    "while abs((h-h_anterior)/h) > tol:\n",
    "    h_anterior = h\n",
    "    h = 0.5*h + (0.8-2*np.arccos(1-0.5*h))/np.sqrt(h*(4-h))+ 1\n",
    "\n",
    "    num_iteracoes += 1\n",
    "    num_somas += 6\n",
    "    num_produtos += 6\n",
    "    num_especiais += 2\n",
    "    \n",
    "print(\"Raiz: \", h)\n",
    "print(\"- Iterações: \", num_iteracoes)\n",
    "print(\"- Soma: \", num_somas)\n",
    "print(\"- Produto: \", num_produtos)\n",
    "print(\"- Especiais: \", num_especiais)"
   ]
  },
  {
   "attachments": {},
   "cell_type": "markdown",
   "metadata": {},
   "source": [
    "Agora, calcularemos o tempo que o método demorou para chegar no resultado final, retirando todos os comandos não necessários."
   ]
  },
  {
   "cell_type": "code",
   "execution_count": 10,
   "metadata": {},
   "outputs": [
    {
     "name": "stdout",
     "output_type": "stream",
     "text": [
      "31.8 µs ± 475 ns per loop (mean ± std. dev. of 7 runs, 10,000 loops each)\n"
     ]
    }
   ],
   "source": [
    "%%timeit\n",
    "h, h_anterior = 0.5, 0\n",
    "\n",
    "while abs((h-h_anterior)/h) > tol:\n",
    "    h_anterior = h\n",
    "    h = h/2 + (0.8-2*np.arccos(1-h/2))/np.sqrt(h*(4-h))+ 1"
   ]
  },
  {
   "attachments": {},
   "cell_type": "markdown",
   "metadata": {},
   "source": [
    "## 5 Método de Halley\n",
    "Assim como no método de Newton, também iremos considerar o primeiro valor de h como 0.5 para fins de comparação no final.\n",
    "\n",
    "Além disso, vamos calcular o método de Newton de três maneiras, inicialmente sem otimizar a função e, em seguida, otimizando-a matemáticamente de duas formas."
   ]
  },
  {
   "attachments": {},
   "cell_type": "markdown",
   "metadata": {},
   "source": [
    "### 5.1 Sem otimizar a função\n",
    "\n",
    "$ h_{n+1} = h_{n} - \\frac{2 \\cdot f(h_{n}) \\cdot f'(h_{n})}\n",
    "                        {2 \\cdot (f'(h_{n}))^{2} - f(h_{n}) \\cdot f''(h_{n})}$"
   ]
  },
  {
   "cell_type": "code",
   "execution_count": 11,
   "metadata": {},
   "outputs": [
    {
     "name": "stdout",
     "output_type": "stream",
     "text": [
      "Raiz:  0.7400152180559406\n",
      "- Iterações:  5\n",
      "- Soma:  85\n",
      "- Produto:  105\n",
      "- Especiais:  40\n"
     ]
    }
   ],
   "source": [
    "h, h_anterior = 0.5, 0\n",
    "num_iteracoes,num_somas, num_produtos, num_especiais = 0, 0, 0, 0\n",
    "\n",
    "while abs((h-h_anterior)/h) > tol:\n",
    "    h_anterior = h\n",
    "    h = h - 2*f(h)*f_(h)/(2 * f_(h)**2 - f(h)*f__(h))\n",
    "\n",
    "    num_iteracoes += 1\n",
    "    num_somas += 17\n",
    "    num_produtos += 21\n",
    "    num_especiais += 8\n",
    "    \n",
    "print(\"Raiz: \", h)\n",
    "print(\"- Iterações: \", num_iteracoes)\n",
    "print(\"- Soma: \", num_somas)\n",
    "print(\"- Produto: \", num_produtos)\n",
    "print(\"- Especiais: \", num_especiais)"
   ]
  },
  {
   "cell_type": "code",
   "execution_count": 12,
   "metadata": {},
   "outputs": [
    {
     "name": "stdout",
     "output_type": "stream",
     "text": [
      "112 µs ± 14.2 µs per loop (mean ± std. dev. of 7 runs, 10,000 loops each)\n"
     ]
    }
   ],
   "source": [
    "%%timeit\n",
    "h, h_anterior = 0.5, 0\n",
    "\n",
    "while abs((h-h_anterior)/h) > tol:\n",
    "    h_anterior = h\n",
    "    h = h - 2*f(h)*f_(h)/(2 * f_(h)**2 - f(h)*f__(h))"
   ]
  },
  {
   "attachments": {},
   "cell_type": "markdown",
   "metadata": {},
   "source": [
    "### 5.2 Otimizando a função \n",
    "\n",
    "$ h_{n+1} = \\frac{2 \\cdot \\sqrt{(4-h_{n})h_{n}}} \n",
    "                {\\frac{20(4-h_{n})h_{n}} {20\\arccos {(1- \\frac {h_{n}} {2})} + (5 \\cdot h_{n} - 10)\\sqrt{(4-h_{n})h_{n}} - 8} - \\frac{(h_{n}-2)}{\\sqrt{(4-h_{n})h_{n}}} }$"
   ]
  },
  {
   "cell_type": "code",
   "execution_count": 13,
   "metadata": {},
   "outputs": [
    {
     "name": "stdout",
     "output_type": "stream",
     "text": [
      "0\n",
      "1\n",
      "2\n",
      "3\n",
      "4\n",
      "Raiz:  0.7400152180559406\n",
      "- Iterações:  5\n",
      "- Soma:  60\n",
      "- Produto:  70\n",
      "- Especiais:  20\n"
     ]
    }
   ],
   "source": [
    "h, h_anterior = 0.5, 0\n",
    "num_iteracoes,num_somas, num_produtos, num_especiais = 0, 0, 0, 0\n",
    "\n",
    "while abs((h-h_anterior)/h) > tol: \n",
    "    h_anterior = h\n",
    "\n",
    "    h = h - 2*np.sqrt(h*(4-h)) /   \\\n",
    "        ( (20*(h*(4-h))) / (20*np.arccos(1-0.5*h) + (5*h-10)*np.sqrt(h*(4-h)) - 8) - (h - 2)/np.sqrt(h*(4-h)))\n",
    "\n",
    "    num_iteracoes += 1\n",
    "    num_somas += 12\n",
    "    num_produtos += 14\n",
    "    num_especiais += 4\n",
    "    \n",
    "print(\"Raiz: \", h)\n",
    "print(\"- Iterações: \", num_iteracoes)\n",
    "print(\"- Soma: \", num_somas)\n",
    "print(\"- Produto: \", num_produtos)\n",
    "print(\"- Especiais: \", num_especiais)"
   ]
  },
  {
   "cell_type": "code",
   "execution_count": 14,
   "metadata": {},
   "outputs": [
    {
     "name": "stdout",
     "output_type": "stream",
     "text": [
      "7.84 µs ± 318 ns per loop (mean ± std. dev. of 7 runs, 100,000 loops each)\n"
     ]
    }
   ],
   "source": [
    "%%timeit\n",
    "h, h_anterior = 0.5, 0\n",
    "\n",
    "while abs((h-h_anterior)/h) > tol:\n",
    "    h_anterior = h\n",
    "    h - 2*np.sqrt(h*(4-h)) /   \\\n",
    "        ( (20*(h*(4-h))) / (20*np.arccos(1-0.5*h) + (5*h-10)*np.sqrt(h*(4-h)) - 8) - (h - 2)/np.sqrt(h*(4-h)))"
   ]
  }
 ],
 "metadata": {
  "kernelspec": {
   "display_name": "Python 3",
   "language": "python",
   "name": "python3"
  },
  "language_info": {
   "codemirror_mode": {
    "name": "ipython",
    "version": 3
   },
   "file_extension": ".py",
   "mimetype": "text/x-python",
   "name": "python",
   "nbconvert_exporter": "python",
   "pygments_lexer": "ipython3",
   "version": "3.9.4"
  },
  "orig_nbformat": 4
 },
 "nbformat": 4,
 "nbformat_minor": 2
}
