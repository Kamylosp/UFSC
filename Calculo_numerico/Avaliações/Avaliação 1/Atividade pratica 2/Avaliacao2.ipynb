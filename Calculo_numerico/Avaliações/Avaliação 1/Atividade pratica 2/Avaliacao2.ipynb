{
 "cells": [
  {
   "attachments": {},
   "cell_type": "markdown",
   "metadata": {},
   "source": [
    "> **Atividade** (Sendo aprimorada):\n",
    "> 1. Adapte o código acima para fazer com que a função `solve_triangular_superior()` também retorno o número de operações (somas, produtos, divisões e subtrações numéricas) que foram realizadas. (**Dica**: A resposta é $n^2$; tente deduzir este valor formalmente)."
   ]
  },
  {
   "cell_type": "code",
   "execution_count": 43,
   "metadata": {},
   "outputs": [],
   "source": [
    "import numpy as np"
   ]
  },
  {
   "cell_type": "code",
   "execution_count": 44,
   "metadata": {},
   "outputs": [],
   "source": [
    "def solve_triangular_superior(U, b):\n",
    "    '''Resolve um sistema triangular superior do tipo Ux = b.\n",
    "\n",
    "    Parametros obrigatorios\n",
    "    ----------\n",
    "    U : Array-like de dimensao 2\n",
    "        Matriz quadrada triangular superior inversível\n",
    "\n",
    "    b : Array-like de dimensão 1\n",
    "        Vetor independente\n",
    "\n",
    "    Saída\n",
    "    ----------\n",
    "    x : Array-like de dimensão 1\n",
    "        Solução do sistema Ux = b\n",
    "    \n",
    "    num_op : int \n",
    "        Número de operações'''\n",
    "\n",
    "    num_op = 0\n",
    "    n = U.shape[0]          # Ordem das matrizes\n",
    "    \n",
    "    # Cópias usuais para evitar problemas\n",
    "    x = b.copy().reshape(n)\n",
    "\n",
    "    # Vai linha-a-linha, de baixo para cima, escalonando a matriz utilizando o pivô na diagonal\n",
    "                        \n",
    "    for i in range(n-1,-1,-1):\n",
    "        x[i] /= U[i,i]     # Normaliza a i-ésima linha\n",
    "\n",
    "        num_op +=1\n",
    "        for j in range(i-1,-1,-1):\n",
    "            x[j] -= U[j,i]*x[i]     # Pivoteia a i-ésima coluna, utilizando a entrada diagonal como pivô\n",
    "            num_op += 2\n",
    "\n",
    "    return x, num_op"
   ]
  },
  {
   "cell_type": "code",
   "execution_count": 45,
   "metadata": {},
   "outputs": [],
   "source": [
    "tabela = []\n",
    "ordem = 5\n",
    "for tam in range(2, ordem+1):\n",
    "    U = 20*np.random.rand(tam,tam) -10 # Matriz triangular aleatória com entradas em [-10,10]\n",
    "\n",
    "    for i in range(tam):\n",
    "        for j in range(i):\n",
    "            U[i,j]=0.0        # Aniquila as entradas abaixo da diagonal principal para deixar triangular superior    \n",
    "            \n",
    "    b = 20*np.random.rand(tam) - 10 # Vetor aleatório com entradas em [-10,10]\n",
    "\n",
    "    x, num_operacoes = solve_triangular_superior(U,b) # Solução pretendida do sistema Ux = b\n",
    "    tabela.append([tam, num_operacoes])\n",
    "    # print(f\"\\nA matriz U é dada por\\n{U}\")\n",
    "    # print(f\"\\nO vetor b é dada por\\n{b}\")\n",
    "    # print(f\"\\nO vetor x é dada por\\n{x}\")\n",
    "    # print(f\"\\nO vetor Ux é dada por\\n{U@x}\")\n",
    "    # print(f\"---------------------------------\")\n",
    "\n",
    "# print(f\"\\nTabela relacionando a Ordem da matriz e o número de operações\")\n",
    "# print(f\"\\n|{'Ordem':^10}|{'Num. Op.':^10}|\")\n",
    "\n",
    "# for linha in tabela:    \n",
    "#     print(f\"|{linha[0]:^10}|{linha[1]:^10}|\")"
   ]
  },
  {
   "attachments": {},
   "cell_type": "markdown",
   "metadata": {},
   "source": [
    "> 2. Adapte o código acima para fazer o processo análogo (também contando operações), mas com matrizes triangulares _inferiores_."
   ]
  },
  {
   "cell_type": "code",
   "execution_count": 46,
   "metadata": {},
   "outputs": [],
   "source": [
    "def solve_triangular_inferior(L, b):\n",
    "    '''Resolve um sistema triangular inferior do tipo Lx = b.\n",
    "\n",
    "    Parametros obrigatorios\n",
    "    ----------\n",
    "    L : Array-like de dimensao 2\n",
    "        Matriz quadrada triangular inferior inversível\n",
    "\n",
    "    b : Array-like de dimensão 1\n",
    "        Vetor independente\n",
    "\n",
    "    Saída\n",
    "    ----------\n",
    "    x : Array-like de dimensão 1\n",
    "        Solução do sistema Lx = b\n",
    "    \n",
    "    num_op : int \n",
    "        Número de operações'''\n",
    "\n",
    "    num_op = 0\n",
    "    n = L.shape[0]          # Ordem das matrizes\n",
    "    \n",
    "    # Cópias usuais para evitar problemas\n",
    "    x = b.copy().reshape(n)\n",
    "                        \n",
    "    for i in range(n):\n",
    "        for j in range(i):\n",
    "            x[i] -= L[i][j] * x[j]\n",
    "            num_op += 2\n",
    "        x[i] /= L[i][i]\n",
    "        num_op += 1\n",
    "    return x, num_op"
   ]
  },
  {
   "cell_type": "code",
   "execution_count": 47,
   "metadata": {},
   "outputs": [
    {
     "name": "stdout",
     "output_type": "stream",
     "text": [
      "[[ 9.82086107  0.          0.        ]\n",
      " [-7.20285739 -9.32538273  0.        ]\n",
      " [ 5.4787015   3.2508402  -2.97797462]]\n",
      "\n",
      "A matriz L é dada por\n",
      "[[ 9.82086107  0.          0.        ]\n",
      " [-7.20285739 -9.32538273  0.        ]\n",
      " [ 5.4787015   3.2508402  -2.97797462]]\n",
      "\n",
      "O vetor b é dada por\n",
      "[-1.03989348  3.69066869  9.53121089]\n",
      "\n",
      "O vetor x é dada por\n",
      "[-0.10588618 -0.31398021 -3.7381209 ]\n",
      "\n",
      "O vetor Lx é dada por\n",
      "[-1.03989348  3.69066869  9.53121089]\n"
     ]
    }
   ],
   "source": [
    "ordem = 3\n",
    "L = 20*np.random.rand(ordem,ordem) -10 # Matriz triangular aleatória com entradas em [-10,10]\n",
    "# print (U)\n",
    "for i in range(ordem):\n",
    "    for j in range(ordem-1, i, -1):\n",
    "        L[i,j]=0.0        # Aniquila as entradas abaixo da diagonal principal para deixar triangular superior\n",
    "\n",
    "print(L)\n",
    "\n",
    "\n",
    "# print(U)    \n",
    "        \n",
    "b = 20*np.random.rand(ordem) - 10 # Vetor aleatório com entradas em [-10,10]\n",
    "\n",
    "x, num_operacoes = solve_triangular_inferior(L,b) # Solução pretendida do sistema Ux = b\n",
    "\n",
    "print(f\"\\nA matriz L é dada por\\n{L}\")\n",
    "print(f\"\\nO vetor b é dada por\\n{b}\")\n",
    "print(f\"\\nO vetor x é dada por\\n{x}\")\n",
    "print(f\"\\nO vetor Lx é dada por\\n{L@x}\")"
   ]
  },
  {
   "attachments": {},
   "cell_type": "markdown",
   "metadata": {},
   "source": [
    "> 3. Adapte o algoritmo de Crout&ndash;Dolittle, para fazer com que ele também retorne o número de operações realizadas."
   ]
  },
  {
   "cell_type": "code",
   "execution_count": 48,
   "metadata": {},
   "outputs": [],
   "source": [
    "def crout_dolittle(A):\n",
    "    ''' Decomposição LU de A pelo algoritmo de Crout'''\n",
    "\n",
    "    num_op = 0\n",
    "\n",
    "    m,n = np.shape(A)\n",
    "\n",
    "    L = np.zeros((n,n))\n",
    "    U = np.zeros((n,n))\n",
    "\n",
    "    L[0,0] = 1          # Escolha de Dolittle\n",
    "    U[0,0] = A[0,0]\n",
    "\n",
    "    for j in range(1,n):\n",
    "        U[0,j] = A[0,j]/L[0,0]      # Determina a primeira linha de U\n",
    "        L[j,0] = A[j,0]/U[0,0]      # Determina a primeira coluna de L\n",
    "        num_op += 2\n",
    "    \n",
    "    for i in range(1,n):\n",
    "        L[i,i]=1        # Escolha de Dolittle\n",
    "        \n",
    "        U[i,i] = A[i,i] - sum([L[i,k]*U[k,i] for k in range(i)])\n",
    "\n",
    "        num_op += 1     # Referente ao '-'\n",
    "        num_op += i-1   # Referente ao 'sum'\n",
    "        num_op += i     # Referente ao '*' \n",
    "\n",
    "        for j in range(i+1,n):\n",
    "            U[i,j] = (A[i,j] - sum([L[i,k]*U[k,j] for k in range(i)]))/L[i,i]       # Determina a i-ésima linha de U\n",
    "            L[j,i] = (A[j][i] - sum([L[j,k]*U[k,i] for k in range(i)]))/U[i,i]      # Determina a i-ésima coluna de L\n",
    "            num_op += 2*(i + (i-1) + 2)\n",
    "    return L , U, num_op"
   ]
  },
  {
   "cell_type": "code",
   "execution_count": 49,
   "metadata": {},
   "outputs": [
    {
     "name": "stdout",
     "output_type": "stream",
     "text": [
      "\n",
      "Tabela relacionando a Ordem da matriz e o número de operações\n",
      "\n",
      "|  Ordem   | Num. Op. | Equacao  |\n",
      "|    2     |    4     |    5     |\n",
      "|    3     |    16    |    17    |\n",
      "|    4     |    40    |    41    |\n",
      "|    5     |    80    |    81    |\n",
      "|    6     |   140    |   141    |\n",
      "|    7     |   224    |   225    |\n",
      "|    8     |   336    |   337    |\n",
      "|    9     |   480    |   481    |\n",
      "|    10    |   660    |   661    |\n"
     ]
    }
   ],
   "source": [
    "tabela = []\n",
    "ordem = 10\n",
    "for tam in range(2, ordem+1):\n",
    "    A = 20*np.random.rand(tam, tam) - 10.0       # Matriz aleatória com entradas entre -10 e 10\n",
    "\n",
    "    L , U, num_operacoes = crout_dolittle(A)               # Decomposição LU de $A$\n",
    "\n",
    "    tabela.append([tam, num_operacoes, int(2/3 * tam**3 - 2/3 * tam +1)])\n",
    "\n",
    "    # print(f\"A matriz A é dada por\\n{A}\")\n",
    "    # print(f\"\\nA matriz L é dada por\\n{L}\")\n",
    "    # print(f\"\\nA matriz U é dada por\\n{U}\")\n",
    "    # print(f\"\\n\\nO produto LU é dado por\\n{L@U}\")\n",
    "    # print(f\"---------------------------------\")\n",
    "\n",
    "print(f\"\\nTabela relacionando a Ordem da matriz e o número de operações\")\n",
    "print(f\"\\n|{'Ordem':^10}|{'Num. Op.':^10}|{'Equacao':^10}|\")\n",
    "\n",
    "for linha in tabela:    \n",
    "    print(f\"|{linha[0]:^10}|{linha[1]:^10}|{linha[2]:^10}|\")"
   ]
  },
  {
   "attachments": {},
   "cell_type": "markdown",
   "metadata": {},
   "source": [
    "> 4. Utilize as funções criadas no passo anterior para criar uma função que recebe uma matriz $A$, um inteiro positivo $n$ e um vetor $b$ e\n",
    ">     - Decompõe a matriz $A$ como $A=LU$.\n",
    ">     - Resolve o sistema linear $A^n x = b$, com aplicações sucessivas das funções criadas nos passos 1. e 2.\n",
    ">     - Conta o número de operações."
   ]
  },
  {
   "cell_type": "code",
   "execution_count": 50,
   "metadata": {},
   "outputs": [],
   "source": [
    "def decompoe_matriz (A, n, b):\n",
    "    '''Função decompor matriz em produto LU e calcular o sistema A^n x = b\n",
    "    \n",
    "    Parametros obrigatorios\n",
    "    ----------\n",
    "    A : Array-like\n",
    "        Matriz quadrada\n",
    "\n",
    "    n : int\n",
    "        Valor do expoente no cálculo\n",
    "\n",
    "    b : Array-like de dimensão 1\n",
    "        Vetor independente'''\n",
    "    num_op_total = 0\n",
    "    \n",
    "    # Primeiro Item\n",
    "    L, U, num_op = crout_dolittle(A)\n",
    "    num_op_total += num_op\n",
    "\n",
    "    # Segundo Item\n",
    "    x = b.copy()\n",
    "    for i in range(0, n):\n",
    "        y, num_op = solve_triangular_inferior(L, x)\n",
    "        num_op_total += num_op\n",
    "\n",
    "        x, num_op = solve_triangular_superior(U, y)\n",
    "        num_op_total += num_op\n",
    "    return x, num_op_total"
   ]
  },
  {
   "cell_type": "code",
   "execution_count": 51,
   "metadata": {},
   "outputs": [
    {
     "name": "stdout",
     "output_type": "stream",
     "text": [
      "(A^3)x = b\n",
      "Nº Op.:  376\n",
      "\n",
      "(A@A@A)x : \n",
      " [ 2.82844491 -3.07283821  0.22967669]\n",
      "\n",
      "b: \n",
      " [ 2.82844491 -3.07283821  0.22967669]\n"
     ]
    }
   ],
   "source": [
    "ordem = 3\n",
    "A = 20*np.random.rand(ordem,ordem) -10 # Matriz triangular aleatória com entradas em [-10,10]\n",
    "b = b = 20*np.random.rand(ordem) - 10 # Vetor aleatório com entradas em [-10,10]\n",
    "n = 20\n",
    "\n",
    "x, num_operacoes = decompoe_matriz(A, n, b)\n",
    "A_ = A.copy()\n",
    "\n",
    "for i in range(1, n):\n",
    "    A_ = A_@A\n",
    "\n",
    "print(f\"(A^{n})x = b\")\n",
    "print(\"Nº Op.: \", num_operacoes)\n",
    "print(f\"\\n(A_)x : \\n\", A_@x)\n",
    "print(f\"\\nb: \\n\",b)"
   ]
  },
  {
   "attachments": {},
   "cell_type": "markdown",
   "metadata": {},
   "source": [
    "> 5. Adapte o algoritmo de resolução de sistemas lineares da aula 9 para que ele conte o número de operações realizadas."
   ]
  },
  {
   "cell_type": "code",
   "execution_count": null,
   "metadata": {},
   "outputs": [],
   "source": []
  },
  {
   "attachments": {},
   "cell_type": "markdown",
   "metadata": {},
   "source": [
    "> 6. Adapte o algoritmo abaixo, que realiza o produto de duas matrizes $A$ e $B$, para que ele também conte o número de operações realizadas."
   ]
  },
  {
   "cell_type": "code",
   "execution_count": 52,
   "metadata": {},
   "outputs": [],
   "source": [
    "def matmul(A,B):\n",
    "    \"\"\"Produto de matrizes quadradas de mesma ordem\n",
    "\n",
    "    Parametros obrigatorios\n",
    "    ----------\n",
    "    A , B : Array-like de dimensao 2\n",
    "        Matrizes quadradas de mesma ordem\n",
    "\n",
    "    Saída\n",
    "    ----------\n",
    "    C : Array-like de dimensão 2\n",
    "        Produto C = AB\n",
    "        \n",
    "    Num_op : Numero de operacoes\"\"\"\n",
    "\n",
    "    num_op = 0    \n",
    "    n=A.shape[0]\n",
    "    \n",
    "    C = np.zeros((n,n))\n",
    "    \n",
    "    for i in range(n):\n",
    "        for j in range(n):\n",
    "            for k in range(n):\n",
    "                C[i,j] += A[i,k]*B[k,j]\n",
    "                num_op += 2\n",
    "                \n",
    "    return C, num_op"
   ]
  },
  {
   "cell_type": "code",
   "execution_count": 53,
   "metadata": {},
   "outputs": [
    {
     "name": "stdout",
     "output_type": "stream",
     "text": [
      "A@B: \n",
      "[[ -57.58110944  -89.55257571   94.82426988]\n",
      " [   3.48598787  -14.58739399   52.73419062]\n",
      " [ -30.91231995 -133.39562829  115.66007158]]\n",
      "\n",
      "C: \n",
      "[[ -57.58110944  -89.55257571   94.82426988]\n",
      " [   3.48598787  -14.58739399   52.73419062]\n",
      " [ -30.91231995 -133.39562829  115.66007158]]\n",
      "\n",
      "Numero de Operações: 54\n"
     ]
    }
   ],
   "source": [
    "ordem = 3\n",
    "A = 20*np.random.rand(ordem,ordem) -10 # Matriz triangular aleatória com entradas em [-10,10]\n",
    "B = 20*np.random.rand(ordem,ordem) -10 # Matriz triangular aleatória com entradas em [-10,10]\n",
    "\n",
    "C, num_operacoes =  matmul(A, B)\n",
    "print(f\"A@B: \\n{A@B}\")\n",
    "print(f\"\\nC: \\n{C}\")\n",
    "print(f\"\\nNumero de Operações: {num_operacoes}\")"
   ]
  },
  {
   "attachments": {},
   "cell_type": "markdown",
   "metadata": {},
   "source": [
    "> 7. Crie uma matriz aleatória $A$ de ordem $4\\times 4$ e um vetor $b$ de tamanho $4$, e resolva o sistema $A^{20}x = b$ por dois modos:\n",
    ">     - Utilizando o método do passo 4;\n",
    ">     - Calculando o produto $A^{20}=A\\cdot A\\cdots A$ com o algoritmo do passo 6, e resolvendo o sistema $(A^n)x = b$ diretamente com o algoritmo do passo 5.\n",
    ">\n",
    ">     Compare os números de operações e os resultados."
   ]
  },
  {
   "cell_type": "code",
   "execution_count": 54,
   "metadata": {},
   "outputs": [],
   "source": [
    "def decompoe_matriz_metodo_custoso (A, n, b):\n",
    "    '''Função decompor matriz em produto LU e calcular o sistema A^n x = b\n",
    "    \n",
    "    Parametros obrigatorios\n",
    "    ----------\n",
    "    A : Array-like\n",
    "        Matriz quadrada\n",
    "\n",
    "    n : int\n",
    "        Valor do expoente no cálculo\n",
    "\n",
    "    b : Array-like de dimensão 1\n",
    "        Vetor independente'''\n",
    "    \n",
    "    num_op_total = 0\n",
    "    \n",
    "    # Calcula A^n\n",
    "    A_ = A.copy()\n",
    "    for i in range(1, n):\n",
    "        A_, num_op = matmul(A_, A)\n",
    "        num_op_total += num_op\n",
    "\n",
    "    # Separa A_ em LU\n",
    "    L, U, num_op = crout_dolittle(A_)\n",
    "    num_op_total += num_op\n",
    "\n",
    "    \n",
    "    y, num_op = solve_triangular_inferior(L, b)\n",
    "    num_op_total += num_op\n",
    "\n",
    "    x, num_op = solve_triangular_superior(U, y)\n",
    "    num_op_total += num_op\n",
    "\n",
    "    return x, num_op_total"
   ]
  },
  {
   "cell_type": "code",
   "execution_count": 55,
   "metadata": {},
   "outputs": [
    {
     "name": "stdout",
     "output_type": "stream",
     "text": [
      "(A^3)x = b\n",
      "Nº Op.:  38120\n",
      "\n",
      "(A@A@A)x : \n",
      " [ 7.90142233  8.03625336  5.65934366 -3.101845   -3.65195726 -8.97527589\n",
      " -8.27011273 -4.04173851 -9.56860265  1.03716167 -3.75638549 -0.50246482\n",
      "  6.91009294 -4.87159621  8.22301776  4.44099574  4.90605966 -7.06830519\n",
      " -6.88178081  9.64951593]\n",
      "\n",
      "b: \n",
      " [ 7.90142233  8.03625336  5.65934366 -3.101845   -3.65195726 -8.97527589\n",
      " -8.27011273 -4.04173851 -9.56860265  1.03716167 -3.75638549 -0.50246482\n",
      "  6.91009294 -4.87159621  8.22301776  4.44099574  4.90605966 -7.06830519\n",
      " -6.88178081  9.64951593]\n"
     ]
    }
   ],
   "source": [
    "ordem = 20\n",
    "A = 20*np.random.rand(ordem,ordem) -10 # Matriz triangular aleatória com entradas em [-10,10]\n",
    "b = 20*np.random.rand(ordem) - 10 # Vetor aleatório com entradas em [-10,10]\n",
    "n = 3\n",
    "\n",
    "x, num_operacoes = decompoe_matriz_metodo_custoso(A, n, b)\n",
    "print(\"(A^3)x = b\")\n",
    "print(\"Nº Op.: \", num_operacoes)\n",
    "print(f\"\\n(A@A@A)x : \\n\", A@A@A@x)\n",
    "print(f\"\\nb: \\n\",b)"
   ]
  },
  {
   "attachments": {},
   "cell_type": "markdown",
   "metadata": {},
   "source": [
    "> Vamos comparar os resultados pelos métodos da questão 4 e 7"
   ]
  },
  {
   "cell_type": "code",
   "execution_count": 57,
   "metadata": {},
   "outputs": [
    {
     "name": "stdout",
     "output_type": "stream",
     "text": [
      "\n",
      "Matriz A: 4x4\n",
      "\n",
      "|   (M)    |       Nº Op.        |\n",
      "|    n     | Metodo 4 | Metodo 7 |\n",
      "|    1     |    72    |    72    |\n",
      "|    2     |   104    |   200    |\n",
      "|    3     |   136    |   328    |\n",
      "|    4     |   168    |   456    |\n",
      "|    5     |   200    |   584    |\n",
      "|    6     |   232    |   712    |\n",
      "|    7     |   264    |   840    |\n",
      "|    8     |   296    |   968    |\n",
      "|    9     |   328    |   1096   |\n",
      "|    10    |   360    |   1224   |\n",
      "|    11    |   392    |   1352   |\n",
      "|    12    |   424    |   1480   |\n",
      "|    13    |   456    |   1608   |\n",
      "|    14    |   488    |   1736   |\n",
      "|    15    |   520    |   1864   |\n",
      "|    16    |   552    |   1992   |\n",
      "|    17    |   584    |   2120   |\n",
      "|    18    |   616    |   2248   |\n",
      "|    19    |   648    |   2376   |\n",
      "|    20    |   680    |   2504   |\n"
     ]
    }
   ],
   "source": [
    "num_op_4, num_op_7 = 0, 0\n",
    "ordem = 4\n",
    "n_max = 20\n",
    "tabela = []\n",
    "\n",
    "A = 20*np.random.rand(ordem,ordem) -10 # Matriz triangular aleatória com entradas em [-10,10]\n",
    "b = 20*np.random.rand(ordem) - 10 # Vetor aleatório com entradas em [-10,10]\n",
    "\n",
    "for n in range(1, n_max+1):\n",
    "    _, num_op_4 = decompoe_matriz(A, n, b)\n",
    "    _, num_op_7 = decompoe_matriz_metodo_custoso(A, n, b)\n",
    "\n",
    "    tabela.append([n, num_op_4, num_op_7])\n",
    "\n",
    "\n",
    "print(f\"\\nMatriz A: {ordem}x{ordem}\")\n",
    "print(f\"\\n|{'(M)':^10}|{'Nº Op.':^21}|\")\n",
    "print(f\"|{'n':^10}|{'Metodo 4':^10}|{'Metodo 7':^10}|\")\n",
    "\n",
    "for linha in tabela:    \n",
    "    print(f\"|{linha[0]:^10}|{linha[1]:^10}|{linha[2]:^10}|\")"
   ]
  }
 ],
 "metadata": {
  "kernelspec": {
   "display_name": "Python 3",
   "language": "python",
   "name": "python3"
  },
  "language_info": {
   "codemirror_mode": {
    "name": "ipython",
    "version": 3
   },
   "file_extension": ".py",
   "mimetype": "text/x-python",
   "name": "python",
   "nbconvert_exporter": "python",
   "pygments_lexer": "ipython3",
   "version": "3.9.4"
  },
  "orig_nbformat": 4
 },
 "nbformat": 4,
 "nbformat_minor": 2
}
