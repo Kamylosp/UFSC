{
 "cells": [
  {
   "attachments": {},
   "cell_type": "markdown",
   "metadata": {},
   "source": [
    "> **Atividade** (Sendo aprimorada):\n",
    "> 1. Adapte o código acima para fazer com que a função `solve_triangular_superior()` também retorno o número de operações (somas, produtos, divisões e subtrações numéricas) que foram realizadas. (**Dica**: A resposta é $n^2$; tente deduzir este valor formalmente)."
   ]
  },
  {
   "cell_type": "code",
   "execution_count": 193,
   "metadata": {},
   "outputs": [],
   "source": [
    "import numpy as np"
   ]
  },
  {
   "cell_type": "code",
   "execution_count": 194,
   "metadata": {},
   "outputs": [],
   "source": [
    "def solve_triangular_superior(U, b):\n",
    "    '''Resolve um sistema triangular superior do tipo Ux = b.\n",
    "\n",
    "    Parametros obrigatorios\n",
    "    ----------\n",
    "    U : Array-like de dimensao 2\n",
    "        Matriz quadrada triangular superior inversível\n",
    "\n",
    "    b : Array-like de dimensão 1\n",
    "        Vetor independente\n",
    "\n",
    "    Saída\n",
    "    ----------\n",
    "    x : Array-like de dimensão 1\n",
    "        Solução do sistema Ux = b\n",
    "    \n",
    "    num_op : int \n",
    "        Número de operações'''\n",
    "\n",
    "    num_op = 0\n",
    "    n = U.shape[0]          # Ordem das matrizes\n",
    "    \n",
    "    # Cópias usuais para evitar problemas\n",
    "    x = b.copy().reshape(n)\n",
    "\n",
    "    # Vai linha-a-linha, de baixo para cima, escalonando a matriz utilizando o pivô na diagonal\n",
    "                        \n",
    "    for i in range(n-1,-1,-1):\n",
    "        x[i] /= U[i,i]     # Normaliza a i-ésima linha\n",
    "\n",
    "        num_op +=1\n",
    "        for j in range(i-1,-1,-1):\n",
    "            x[j] -= U[j,i]*x[i]     # Pivoteia a i-ésima coluna, utilizando a entrada diagonal como pivô\n",
    "            num_op += 2\n",
    "\n",
    "    return x, num_op"
   ]
  },
  {
   "cell_type": "code",
   "execution_count": 195,
   "metadata": {},
   "outputs": [],
   "source": [
    "tabela = []\n",
    "ordem = 5\n",
    "for tam in range(2, ordem+1):\n",
    "    U = 20*np.random.rand(tam,tam) -10 # Matriz triangular aleatória com entradas em [-10,10]\n",
    "\n",
    "    for i in range(tam):\n",
    "        for j in range(i):\n",
    "            U[i,j]=0.0        # Aniquila as entradas abaixo da diagonal principal para deixar triangular superior    \n",
    "            \n",
    "    b = 20*np.random.rand(tam) - 10 # Vetor aleatório com entradas em [-10,10]\n",
    "\n",
    "    x, num_operacoes = solve_triangular_superior(U,b) # Solução pretendida do sistema Ux = b\n",
    "    tabela.append([tam, num_operacoes])\n",
    "    # print(f\"\\nA matriz U é dada por\\n{U}\")\n",
    "    # print(f\"\\nO vetor b é dada por\\n{b}\")\n",
    "    # print(f\"\\nO vetor x é dada por\\n{x}\")\n",
    "    # print(f\"\\nO vetor Ux é dada por\\n{U@x}\")\n",
    "    # print(f\"---------------------------------\")\n",
    "\n",
    "# print(f\"\\nTabela relacionando a Ordem da matriz e o número de operações\")\n",
    "# print(f\"\\n|{'Ordem':^10}|{'Num. Op.':^10}|\")\n",
    "\n",
    "# for linha in tabela:    \n",
    "#     print(f\"|{linha[0]:^10}|{linha[1]:^10}|\")"
   ]
  },
  {
   "attachments": {},
   "cell_type": "markdown",
   "metadata": {},
   "source": [
    "> 2. Adapte o código acima para fazer o processo análogo (também contando operações), mas com matrizes triangulares _inferiores_."
   ]
  },
  {
   "cell_type": "code",
   "execution_count": 196,
   "metadata": {},
   "outputs": [],
   "source": [
    "def solve_triangular_inferior(L, b):\n",
    "    '''Resolve um sistema triangular inferior do tipo Lx = b.\n",
    "\n",
    "    Parametros obrigatorios\n",
    "    ----------\n",
    "    L : Array-like de dimensao 2\n",
    "        Matriz quadrada triangular inferior inversível\n",
    "\n",
    "    b : Array-like de dimensão 1\n",
    "        Vetor independente\n",
    "\n",
    "    Saída\n",
    "    ----------\n",
    "    x : Array-like de dimensão 1\n",
    "        Solução do sistema Lx = b\n",
    "    \n",
    "    num_op : int \n",
    "        Número de operações'''\n",
    "\n",
    "    num_op = 0\n",
    "    n = L.shape[0]          # Ordem das matrizes\n",
    "    \n",
    "    # Cópias usuais para evitar problemas\n",
    "    x = b.copy().reshape(n)\n",
    "                        \n",
    "    for i in range(n):\n",
    "        for j in range(i):\n",
    "            x[i] -= L[i][j] * x[j]\n",
    "            num_op += 2\n",
    "        x[i] /= L[i][i]\n",
    "        num_op += 1\n",
    "    return x, num_op"
   ]
  },
  {
   "cell_type": "code",
   "execution_count": 197,
   "metadata": {},
   "outputs": [
    {
     "name": "stdout",
     "output_type": "stream",
     "text": [
      "[[ 3.6073813   0.          0.        ]\n",
      " [-6.95415583 -0.72153856  0.        ]\n",
      " [ 3.93244989  3.06272085 -7.9391282 ]]\n",
      "\n",
      "A matriz L é dada por\n",
      "[[ 3.6073813   0.          0.        ]\n",
      " [-6.95415583 -0.72153856  0.        ]\n",
      " [ 3.93244989  3.06272085 -7.9391282 ]]\n",
      "\n",
      "O vetor b é dada por\n",
      "[-2.27588812  3.76339311 -8.34584024]\n",
      "\n",
      "O vetor x é dada por\n",
      "[-0.63089758  0.86477285  1.07233751]\n",
      "\n",
      "O vetor Lx é dada por\n",
      "[-2.27588812  3.76339311 -8.34584024]\n"
     ]
    }
   ],
   "source": [
    "ordem = 3\n",
    "L = 20*np.random.rand(ordem,ordem) -10 # Matriz triangular aleatória com entradas em [-10,10]\n",
    "# print (U)\n",
    "for i in range(ordem):\n",
    "    for j in range(ordem-1, i, -1):\n",
    "        L[i,j]=0.0        # Aniquila as entradas abaixo da diagonal principal para deixar triangular superior\n",
    "\n",
    "print(L)\n",
    "\n",
    "\n",
    "# print(U)    \n",
    "        \n",
    "b = 20*np.random.rand(ordem) - 10 # Vetor aleatório com entradas em [-10,10]\n",
    "\n",
    "x, num_operacoes = solve_triangular_inferior(L,b) # Solução pretendida do sistema Ux = b\n",
    "\n",
    "print(f\"\\nA matriz L é dada por\\n{L}\")\n",
    "print(f\"\\nO vetor b é dada por\\n{b}\")\n",
    "print(f\"\\nO vetor x é dada por\\n{x}\")\n",
    "print(f\"\\nO vetor Lx é dada por\\n{L@x}\")"
   ]
  },
  {
   "attachments": {},
   "cell_type": "markdown",
   "metadata": {},
   "source": [
    "> 3. Adapte o algoritmo de Crout&ndash;Dolittle, para fazer com que ele também retorne o número de operações realizadas."
   ]
  },
  {
   "cell_type": "code",
   "execution_count": 198,
   "metadata": {},
   "outputs": [],
   "source": [
    "def crout_dolittle(A):\n",
    "    ''' Decomposição LU de A pelo algoritmo de Crout'''\n",
    "\n",
    "    num_op = 0\n",
    "\n",
    "    m,n = np.shape(A)\n",
    "\n",
    "    L = np.zeros((n,n))\n",
    "    U = np.zeros((n,n))\n",
    "\n",
    "    L[0,0] = 1          # Escolha de Dolittle\n",
    "    U[0,0] = A[0,0]\n",
    "\n",
    "    for j in range(1,n):\n",
    "        U[0,j] = A[0,j]/L[0,0]      # Determina a primeira linha de U\n",
    "        L[j,0] = A[j,0]/U[0,0]      # Determina a primeira coluna de L\n",
    "        num_op += 2\n",
    "    \n",
    "    for i in range(1,n):\n",
    "        L[i,i]=1        # Escolha de Dolittle\n",
    "        \n",
    "        U[i,i] = A[i,i] - sum([L[i,k]*U[k,i] for k in range(i)])\n",
    "\n",
    "        num_op += 1     # Referente ao '-'\n",
    "        num_op += i-1   # Referente ao 'sum'\n",
    "        num_op += i     # Referente ao '*' \n",
    "\n",
    "        for j in range(i+1,n):\n",
    "            U[i,j] = (A[i,j] - sum([L[i,k]*U[k,j] for k in range(i)]))/L[i,i]       # Determina a i-ésima linha de U\n",
    "            L[j,i] = (A[j][i] - sum([L[j,k]*U[k,i] for k in range(i)]))/U[i,i]      # Determina a i-ésima coluna de L\n",
    "            num_op += 2*(i + (i-1) + 2)\n",
    "    return L , U, num_op"
   ]
  },
  {
   "cell_type": "code",
   "execution_count": 199,
   "metadata": {},
   "outputs": [
    {
     "name": "stdout",
     "output_type": "stream",
     "text": [
      "\n",
      "Tabela relacionando a Ordem da matriz e o número de operações\n",
      "\n",
      "|  Ordem   | Num. Op. | Equacao  |\n",
      "|    2     |    4     |    5     |\n",
      "|    3     |    16    |    17    |\n",
      "|    4     |    40    |    41    |\n",
      "|    5     |    80    |    81    |\n",
      "|    6     |   140    |   141    |\n",
      "|    7     |   224    |   225    |\n",
      "|    8     |   336    |   337    |\n",
      "|    9     |   480    |   481    |\n",
      "|    10    |   660    |   661    |\n"
     ]
    }
   ],
   "source": [
    "tabela = []\n",
    "ordem = 10\n",
    "for tam in range(2, ordem+1):\n",
    "    A = 20*np.random.rand(tam, tam) - 10.0       # Matriz aleatória com entradas entre -10 e 10\n",
    "\n",
    "    L , U, num_operacoes = crout_dolittle(A)               # Decomposição LU de $A$\n",
    "\n",
    "    tabela.append([tam, num_operacoes, int(2/3 * tam**3 - 2/3 * tam +1)])\n",
    "\n",
    "    # print(f\"A matriz A é dada por\\n{A}\")\n",
    "    # print(f\"\\nA matriz L é dada por\\n{L}\")\n",
    "    # print(f\"\\nA matriz U é dada por\\n{U}\")\n",
    "    # print(f\"\\n\\nO produto LU é dado por\\n{L@U}\")\n",
    "    # print(f\"---------------------------------\")\n",
    "\n",
    "print(f\"\\nTabela relacionando a Ordem da matriz e o número de operações\")\n",
    "print(f\"\\n|{'Ordem':^10}|{'Num. Op.':^10}|{'Equacao':^10}|\")\n",
    "\n",
    "for linha in tabela:    \n",
    "    print(f\"|{linha[0]:^10}|{linha[1]:^10}|{linha[2]:^10}|\")"
   ]
  },
  {
   "attachments": {},
   "cell_type": "markdown",
   "metadata": {},
   "source": [
    "> 4. Utilize as funções criadas no passo anterior para criar uma função que recebe uma matriz $A$, um inteiro positivo $n$ e um vetor $b$ e\n",
    ">     - Decompõe a matriz $A$ como $A=LU$.\n",
    ">     - Resolve o sistema linear $A^n x = b$, com aplicações sucessivas das funções criadas nos passos 1. e 2.\n",
    ">     - Conta o número de operações."
   ]
  },
  {
   "cell_type": "code",
   "execution_count": 200,
   "metadata": {},
   "outputs": [],
   "source": [
    "def decompoe_matriz (A, n, b):\n",
    "    '''Função decompor matriz em produto LU e calcular o sistema A^n x = b\n",
    "    \n",
    "    Parametros obrigatorios\n",
    "    ----------\n",
    "    A : Array-like\n",
    "        Matriz quadrada\n",
    "\n",
    "    n : int\n",
    "        Valor do expoente no cálculo\n",
    "\n",
    "    b : Array-like de dimensão 1\n",
    "        Vetor independente'''\n",
    "    num_op_total = 0\n",
    "    \n",
    "    # Primeiro Item\n",
    "    L, U, num_op = crout_dolittle(A)\n",
    "    num_op_total += num_op\n",
    "\n",
    "    # Segundo Item\n",
    "    x = b.copy()\n",
    "    for i in range(0, n):\n",
    "        y, num_op = solve_triangular_inferior(L, x)\n",
    "        num_op_total += num_op\n",
    "\n",
    "        x, num_op = solve_triangular_superior(U, y)\n",
    "        num_op_total += num_op\n",
    "    return x, num_op_total"
   ]
  },
  {
   "cell_type": "code",
   "execution_count": 201,
   "metadata": {},
   "outputs": [
    {
     "name": "stdout",
     "output_type": "stream",
     "text": [
      "(A^3)x = b\n",
      "Nº Op.:  7720\n",
      "\n",
      "(A@A@A)x : \n",
      " [-8.7129382   1.94038661  2.03908978  5.04347464 -3.45958402 -0.93876282\n",
      "  4.56535589 -5.75894992  6.82268792 -8.61396742  3.89956566  0.41902044\n",
      "  4.37706299 -5.8166166  -5.64063609 -8.06675003  6.10294674  0.56081486\n",
      "  7.92201007 -7.65610411]\n",
      "\n",
      "b: \n",
      " [-8.7129382   1.94038661  2.03908978  5.04347464 -3.45958402 -0.93876282\n",
      "  4.56535589 -5.75894992  6.82268792 -8.61396742  3.89956566  0.41902044\n",
      "  4.37706299 -5.8166166  -5.64063609 -8.06675003  6.10294674  0.56081486\n",
      "  7.92201007 -7.65610411]\n"
     ]
    }
   ],
   "source": [
    "ordem = 20\n",
    "A = 20*np.random.rand(ordem,ordem) -10 # Matriz triangular aleatória com entradas em [-10,10]\n",
    "b = b = 20*np.random.rand(ordem) - 10 # Vetor aleatório com entradas em [-10,10]\n",
    "n = 3\n",
    "\n",
    "x, num_operacoes = decompoe_matriz(A, n, b)\n",
    "print(\"(A^3)x = b\")\n",
    "print(\"Nº Op.: \", num_operacoes)\n",
    "print(f\"\\n(A@A@A)x : \\n\", A@A@A@x)\n",
    "print(f\"\\nb: \\n\",b)"
   ]
  },
  {
   "attachments": {},
   "cell_type": "markdown",
   "metadata": {},
   "source": [
    "> 5. Adapte o algoritmo de resolução de sistemas lineares da aula 9 para que ele conte o número de operações realizadas."
   ]
  },
  {
   "cell_type": "code",
   "execution_count": null,
   "metadata": {},
   "outputs": [],
   "source": []
  },
  {
   "attachments": {},
   "cell_type": "markdown",
   "metadata": {},
   "source": [
    "> 6. Adapte o algoritmo abaixo, que realiza o produto de duas matrizes $A$ e $B$, para que ele também conte o número de operações realizadas."
   ]
  },
  {
   "cell_type": "code",
   "execution_count": 202,
   "metadata": {},
   "outputs": [],
   "source": [
    "def matmul(A,B):\n",
    "    \"\"\"Produto de matrizes quadradas de mesma ordem\n",
    "\n",
    "    Parametros obrigatorios\n",
    "    ----------\n",
    "    A , B : Array-like de dimensao 2\n",
    "        Matrizes quadradas de mesma ordem\n",
    "\n",
    "    Saída\n",
    "    ----------\n",
    "    C : Array-like de dimensão 2\n",
    "        Produto C = AB\n",
    "        \n",
    "    Num_op : Numero de operacoes\"\"\"\n",
    "\n",
    "    num_op = 0    \n",
    "    n=A.shape[0]\n",
    "    \n",
    "    C = np.zeros((n,n))\n",
    "    \n",
    "    for i in range(n):\n",
    "        for j in range(n):\n",
    "            for k in range(n):\n",
    "                C[i,j] += A[i,k]*B[k,j]\n",
    "                num_op += 2\n",
    "                \n",
    "    return C, num_op"
   ]
  },
  {
   "cell_type": "code",
   "execution_count": 203,
   "metadata": {},
   "outputs": [
    {
     "name": "stdout",
     "output_type": "stream",
     "text": [
      "A@B: \n",
      "[[ -37.44327708   55.35381009  -74.95821458]\n",
      " [ -68.78359705   86.71092637 -114.49222271]\n",
      " [ -20.04934881   32.68727543  -47.91128797]]\n",
      "\n",
      "C: \n",
      "[[ -37.44327708   55.35381009  -74.95821458]\n",
      " [ -68.78359705   86.71092637 -114.49222271]\n",
      " [ -20.04934881   32.68727543  -47.91128797]]\n",
      "\n",
      "Numero de Operações: 54\n"
     ]
    }
   ],
   "source": [
    "ordem = 3\n",
    "A = 20*np.random.rand(ordem,ordem) -10 # Matriz triangular aleatória com entradas em [-10,10]\n",
    "B = 20*np.random.rand(ordem,ordem) -10 # Matriz triangular aleatória com entradas em [-10,10]\n",
    "\n",
    "C, num_operacoes =  matmul(A, B)\n",
    "print(f\"A@B: \\n{A@B}\")\n",
    "print(f\"\\nC: \\n{C}\")\n",
    "print(f\"\\nNumero de Operações: {num_operacoes}\")"
   ]
  },
  {
   "attachments": {},
   "cell_type": "markdown",
   "metadata": {},
   "source": [
    "> 7. Crie uma matriz aleatória $A$ de ordem $4\\times 4$ e um vetor $b$ de tamanho $4$, e resolva o sistema $A^{20}x = b$ por dois modos:\n",
    ">     - Utilizando o método do passo 4;\n",
    ">     - Calculando o produto $A^{20}=A\\cdot A\\cdots A$ com o algoritmo do passo 6, e resolvendo o sistema $(A^n)x = b$ diretamente com o algoritmo do passo 5.\n",
    ">\n",
    ">     Compare os números de operações e os resultados."
   ]
  },
  {
   "cell_type": "code",
   "execution_count": 204,
   "metadata": {},
   "outputs": [],
   "source": [
    "def decompoe_matriz_metodo_custoso (A, n, b):\n",
    "    '''Função decompor matriz em produto LU e calcular o sistema A^n x = b\n",
    "    \n",
    "    Parametros obrigatorios\n",
    "    ----------\n",
    "    A : Array-like\n",
    "        Matriz quadrada\n",
    "\n",
    "    n : int\n",
    "        Valor do expoente no cálculo\n",
    "\n",
    "    b : Array-like de dimensão 1\n",
    "        Vetor independente'''\n",
    "    \n",
    "    num_op_total = 0\n",
    "    \n",
    "    # Calcula A^n\n",
    "    A_ = A.copy()\n",
    "    for i in range(1, n):\n",
    "        A_, num_op = matmul(A_, A)\n",
    "        num_op_total += num_op\n",
    "\n",
    "    # Separa A_ em LU\n",
    "    L, U, num_op = crout_dolittle(A_)\n",
    "    num_op_total += num_op\n",
    "\n",
    "    \n",
    "    y, num_op = solve_triangular_inferior(L, b)\n",
    "    num_op_total += num_op\n",
    "\n",
    "    x, num_op = solve_triangular_superior(U, y)\n",
    "    num_op_total += num_op\n",
    "\n",
    "    return x, num_op_total"
   ]
  },
  {
   "cell_type": "code",
   "execution_count": 205,
   "metadata": {},
   "outputs": [
    {
     "name": "stdout",
     "output_type": "stream",
     "text": [
      "(A^3)x = b\n",
      "Nº Op.:  38120\n",
      "\n",
      "(A@A@A)x : \n",
      " [ 3.34984422 -2.48744676  7.22366847 -3.45656641 -9.19540552  8.58890619\n",
      "  2.0077102   5.63409796  1.98003992 -7.90389555 -1.95316338  7.52056326\n",
      " -1.26487624  9.18782204  6.70516954  6.82879959  1.74580398 -9.77473111\n",
      "  5.1320026   9.95789943]\n",
      "\n",
      "b: \n",
      " [ 3.34984422 -2.48744676  7.22366847 -3.45656641 -9.19540552  8.58890619\n",
      "  2.0077102   5.63409796  1.98003992 -7.90389555 -1.95316338  7.52056326\n",
      " -1.26487624  9.18782204  6.70516954  6.82879959  1.74580398 -9.77473111\n",
      "  5.1320026   9.95789943]\n"
     ]
    }
   ],
   "source": [
    "ordem = 20\n",
    "A = 20*np.random.rand(ordem,ordem) -10 # Matriz triangular aleatória com entradas em [-10,10]\n",
    "b = b = 20*np.random.rand(ordem) - 10 # Vetor aleatório com entradas em [-10,10]\n",
    "n = 3\n",
    "\n",
    "x, num_operacoes = decompoe_matriz_metodo_custoso(A, n, b)\n",
    "print(\"(A^3)x = b\")\n",
    "print(\"Nº Op.: \", num_operacoes)\n",
    "print(f\"\\n(A@A@A)x : \\n\", A@A@A@x)\n",
    "print(f\"\\nb: \\n\",b)"
   ]
  },
  {
   "attachments": {},
   "cell_type": "markdown",
   "metadata": {},
   "source": [
    "> Vamos comparar os resultados pelos métodos da questão 4 e 7"
   ]
  },
  {
   "cell_type": "code",
   "execution_count": null,
   "metadata": {},
   "outputs": [],
   "source": []
  }
 ],
 "metadata": {
  "kernelspec": {
   "display_name": "Python 3",
   "language": "python",
   "name": "python3"
  },
  "language_info": {
   "codemirror_mode": {
    "name": "ipython",
    "version": 3
   },
   "file_extension": ".py",
   "mimetype": "text/x-python",
   "name": "python",
   "nbconvert_exporter": "python",
   "pygments_lexer": "ipython3",
   "version": "3.9.4"
  },
  "orig_nbformat": 4
 },
 "nbformat": 4,
 "nbformat_minor": 2
}
