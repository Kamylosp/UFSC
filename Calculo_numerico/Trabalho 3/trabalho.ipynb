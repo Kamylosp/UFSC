{
 "cells": [
  {
   "cell_type": "code",
   "execution_count": 241,
   "metadata": {},
   "outputs": [],
   "source": [
    "import numpy as np\n",
    "import matplotlib.pyplot as plt\n",
    "\n",
    "tolerancia = 2**(-52)\n",
    "\n",
    "elipses = np.load(\"teste_e.npy\")"
   ]
  },
  {
   "cell_type": "code",
   "execution_count": 242,
   "metadata": {},
   "outputs": [],
   "source": [
    "def coeficientes_trajetoria(A):\n",
    "    \"\"\"Determina a trajetoria que melhor aproxima a feita por um objeto\n",
    "    celeste a partir de um conjunto de medicoes.\n",
    "\n",
    "    INPUT\n",
    "    -----\n",
    "    A : array_like de dimensao 2\n",
    "        Posicoes do objeto celeste. \n",
    "\n",
    "    OUTPUT\n",
    "    ------\n",
    "    coefs : array_like de ordem 6\n",
    "        Coeficientes [A,B,C,D,E,F] da conica que melhor aproxima a trajetoria\n",
    "        do objeto celeste no plano xy, por uma equacao do tipo\n",
    "            Ax^2 + 2Bxy + Cy^2 + 2Dx + 2Ey + F = 0.\n",
    "    \"\"\"\n",
    "    \n",
    "    # Copia a matriz para evitar erros\n",
    "    M = A.copy()\n",
    "\n",
    "    # Calcula o valor da linha de modo que [linha]@[coefs]^T = 0\n",
    "    linha = lambda x, y : [x*x, 2*x*y, y*y, 2*x, 2*y, 1]\n",
    "\n",
    "    D = []\n",
    "    for i in range(0, 6):\n",
    "        D.append(linha(M[i,0], M[i,1]))\n",
    "    \n",
    "    b = np.ones(len(D))\n",
    "\n",
    "\n",
    "    # resolve o sistema Dx = b\n",
    "    coefs = np.linalg.solve(D, b)\n",
    "\n",
    "    # Corrige o valor de F\n",
    "    coefs[5] -= 1\n",
    "\n",
    "    print(coefs)\n",
    "\n",
    "    return coefs*1e20"
   ]
  },
  {
   "cell_type": "code",
   "execution_count": 243,
   "metadata": {},
   "outputs": [],
   "source": [
    "def tipo_trajetoria(A):\n",
    "    \"\"\"Determina o tipo da trajetoria que melhor aproxima a feita por um objeto\n",
    "    celeste a partir de um conjunto de medicoes.\n",
    "\n",
    "    INPUT\n",
    "    -----\n",
    "    A : array_like de dimensao 2\n",
    "        Posicoes do objeto celeste. \n",
    "\n",
    "    OUTPUT\n",
    "    ------\n",
    "    tipo_trajetoria : inteiro (0, 1 ou 2)\n",
    "        Tipo de trajetória.\n",
    "            0: Trajetoria eliptica\n",
    "            1: Trajetoria parabolica\n",
    "            2: Trajetoria hiperbolica\n",
    "    \"\"\"\n",
    "    A, B, C, D, E, F = coeficientes_trajetoria(A)\n",
    "\n",
    "    print(np.linalg.det([[A,B,D], [B, C, E], [D, E, F]]))\n",
    "\n",
    "    det = A*C - B*B\n",
    "\n",
    "    if (det > tolerancia):\n",
    "        print(\"Eliptica\")\n",
    "        return 0\n",
    "    elif (abs(det) < tolerancia):\n",
    "        print(\"Parabolica\")\n",
    "        return 1\n",
    "    else:\n",
    "        print(\"Hiperbolica\")\n",
    "        return 2\n"
   ]
  },
  {
   "cell_type": "code",
   "execution_count": 244,
   "metadata": {},
   "outputs": [
    {
     "name": "stdout",
     "output_type": "stream",
     "text": [
      "[ 1.07794294e-29 -2.08104941e-31  1.02208596e-29 -4.39895918e-21\n",
      "  7.31869136e-21  6.84674539e-12]\n",
      "-7.719823264433975e-12\n",
      "Parabolica\n",
      "1\n"
     ]
    }
   ],
   "source": [
    "elipses = np.load(\"teste_e.npy\")\n",
    "\n",
    "# coeficientes_trajetoria(elipses[2])\n",
    "# print(elipses[0])\n",
    "\n",
    "print(tipo_trajetoria(elipses[2]))\n"
   ]
  },
  {
   "cell_type": "code",
   "execution_count": 245,
   "metadata": {},
   "outputs": [],
   "source": [
    "# import numpy as np\n",
    "\n",
    "# # Preencha as coordenadas dos pontos (x, y) conhecidos\n",
    "# # Substitua os valores de exemplo pelos seus próprios dados\n",
    "# x = elipses[0, :, 0]\n",
    "# y = elipses[0, :, 1]\n",
    "# # x = np.array([1, 2, 3, 4, 5, 6, 7, 8, 9, 10])\n",
    "# # y = np.array([2, 3, 5, 6, 8, 9, 11, 12, 20, 15])\n",
    "\n",
    "# # Crie a matriz de coeficientes\n",
    "# A = np.vstack([x**2, 2*x*y, y**2, 2*x, 2*y, np.ones_like(x)+1]).T\n",
    "\n",
    "# # Crie a matriz coluna de zeros\n",
    "# b = np.ones_like(x)\n",
    "\n",
    "# # Resolva o sistema linear\n",
    "# coefficients= np.linalg.lstsq(A, b, rcond=None)[0]\n",
    "\n",
    "# # Extraia os valores dos coeficientes\n",
    "# A, B, C, D, E, F = coefficients\n",
    "\n",
    "# # Imprima os valores dos coeficientes encontrados\n",
    "# print(\"Coeficientes encontrados:\")\n",
    "# print(\"A =\", A)\n",
    "# print(\"B =\", B)\n",
    "# print(\"C =\", C)\n",
    "# print(\"D =\", D)\n",
    "# print(\"E =\", E)\n",
    "# print(\"F =\", F)\n",
    "\n",
    "# print(coefficients@)\n"
   ]
  }
 ],
 "metadata": {
  "kernelspec": {
   "display_name": "Python 3",
   "language": "python",
   "name": "python3"
  },
  "language_info": {
   "codemirror_mode": {
    "name": "ipython",
    "version": 3
   },
   "file_extension": ".py",
   "mimetype": "text/x-python",
   "name": "python",
   "nbconvert_exporter": "python",
   "pygments_lexer": "ipython3",
   "version": "3.9.4"
  },
  "orig_nbformat": 4
 },
 "nbformat": 4,
 "nbformat_minor": 2
}
