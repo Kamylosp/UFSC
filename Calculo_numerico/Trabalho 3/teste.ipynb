{
 "cells": [
  {
   "cell_type": "code",
   "execution_count": 17,
   "metadata": {},
   "outputs": [],
   "source": [
    "import numpy as np"
   ]
  },
  {
   "cell_type": "code",
   "execution_count": 22,
   "metadata": {},
   "outputs": [],
   "source": [
    "elipses = np.load(\"teste_h.npy\")\n",
    "\n",
    "elipse1 = elipses[3]\n",
    "\n",
    "# Calcula o menor valor (em módulo do array)\n",
    "min = np.amin(abs(elipse1))\n",
    "\n",
    "# Reescala os dados\n",
    "el_min = elipse1/min"
   ]
  },
  {
   "cell_type": "code",
   "execution_count": 23,
   "metadata": {},
   "outputs": [],
   "source": [
    "linha = lambda x, y : [x*x, 2*x*y, y*y, 2*x, 2*y] \n",
    "\n",
    "# Dc=b, para F=1:\n",
    "# Ax² + 2Bxy + Cy² + 2Dx + 2Ey = -1\n",
    "\n",
    "D = []\n",
    "for i in range(0, len(el_min)):\n",
    "    D.append(linha(el_min[i,0], el_min[i,1]))\n",
    "\n",
    "# Define a matriz b como uma matriz: [-1, -1, ....., -1]\n",
    "b = -np.ones(len(D))\n",
    "\n",
    "# Calcula a transposta\n",
    "D_t = np.transpose(D)\n",
    "\n",
    "# Multiplica os dois lados da equação pela transposta de D\n",
    "A = D_t@D\n",
    "b = D_t@b"
   ]
  },
  {
   "cell_type": "code",
   "execution_count": 20,
   "metadata": {},
   "outputs": [],
   "source": [
    "def soluciona_sistema(A, b):\n",
    "    # Verificar se a matriz A é quadrada\n",
    "    if A.shape[0] != A.shape[1]:\n",
    "        raise ValueError(\"A matriz A deve ser quadrada.\")\n",
    "    \n",
    "    # Verificar se o número de colunas de A é igual ao número de elementos em b\n",
    "    if A.shape[1] != len(b):\n",
    "        raise ValueError(\"O número de colunas de A deve ser igual ao número de elementos em b.\")\n",
    "    \n",
    "    # Concatenar a matriz A com o vetor b\n",
    "    Ab = np.column_stack((A, b))\n",
    "    \n",
    "    # Aplicar o escalonamento\n",
    "    n = Ab.shape[0]\n",
    "    for i in range(n):\n",
    "        # Encontrar o pivô\n",
    "        pivot = Ab[i, i]\n",
    "        if pivot == 0:\n",
    "            raise ValueError(\"O pivô é zero. O sistema não tem solução única.\")\n",
    "        \n",
    "        # Normalizar a linha do pivô\n",
    "        Ab[i] = np.array(Ab[i] / pivot)\n",
    "        \n",
    "        # Eliminar as entradas abaixo do pivô\n",
    "        for j in range(i + 1, n):\n",
    "            multiplier = Ab[j, i]\n",
    "            Ab[j, :] -= multiplier * Ab[i, :]\n",
    "    \n",
    "    # Resolver o sistema triangular superior resultante\n",
    "    x = np.zeros(n)\n",
    "    for i in range(n - 1, -1, -1):\n",
    "        x[i] = Ab[i, -1]\n",
    "        for j in range(i + 1, n):\n",
    "            x[i] -= Ab[i, j] * x[j]\n",
    "    \n",
    "    return x"
   ]
  },
  {
   "cell_type": "code",
   "execution_count": 26,
   "metadata": {},
   "outputs": [
    {
     "name": "stdout",
     "output_type": "stream",
     "text": [
      "[-0.03628364  0.00495128  0.03835666  1.51633419  1.        ]\n",
      "(array([ 0.00124473, -0.00016986, -0.00131585, -0.05201882, -0.03430565]), array([0.01423322]), 5, array([1.34546418e+05, 1.00851747e+04, 1.81064874e+03, 1.28875943e+02,\n",
      "       4.51416191e+01]))\n"
     ]
    },
    {
     "name": "stderr",
     "output_type": "stream",
     "text": [
      "C:\\Users\\Windows 10\\AppData\\Local\\Temp\\ipykernel_1788\\2864481878.py:3: FutureWarning: `rcond` parameter will change to the default of machine precision times ``max(M, N)`` where M and N are the input matrix dimensions.\n",
      "To use the future default and silence this warning we advise to pass `rcond=None`, to keep using the old, explicitly pass `rcond=-1`.\n",
      "  y = np.linalg.lstsq(D,-np.ones(30))\n"
     ]
    }
   ],
   "source": [
    "x = np.linalg.solve(A, b)\n",
    "\n",
    "y = np.linalg.lstsq(D,-np.ones(30))\n",
    "print(x/x[-1])\n",
    "print(y)"
   ]
  },
  {
   "cell_type": "code",
   "execution_count": 21,
   "metadata": {},
   "outputs": [
    {
     "name": "stdout",
     "output_type": "stream",
     "text": [
      "[ 0.00124473 -0.00016986 -0.00131585 -0.05201882 -0.03430565]\n",
      "[-0.99581392 -1.00312141 -1.00256062 -1.00584897 -0.99588337 -0.99165223\n",
      " -0.99542469 -0.99741109 -0.9994904  -0.99921513 -1.00166505 -0.99940042\n",
      " -1.00480036 -1.00032426 -1.0010971  -1.01099203 -1.01446591 -0.991463\n",
      " -0.98694357 -1.00147873 -0.96373373 -0.9812681  -0.97787816 -0.99393463\n",
      " -1.01717756 -1.05480313 -1.01490166 -1.06538846 -0.95307003 -0.96455905]\n",
      "-1.6667341852399167e-06\n"
     ]
    }
   ],
   "source": [
    "x = soluciona_sistema(A, b)\n",
    "\n",
    "print(x)\n",
    "\n",
    "print(D@x)\n",
    "\n",
    "print(x[0]*x[2] -x[1]**2)\n",
    "\n"
   ]
  }
 ],
 "metadata": {
  "kernelspec": {
   "display_name": "Python 3",
   "language": "python",
   "name": "python3"
  },
  "language_info": {
   "codemirror_mode": {
    "name": "ipython",
    "version": 3
   },
   "file_extension": ".py",
   "mimetype": "text/x-python",
   "name": "python",
   "nbconvert_exporter": "python",
   "pygments_lexer": "ipython3",
   "version": "3.9.4"
  },
  "orig_nbformat": 4
 },
 "nbformat": 4,
 "nbformat_minor": 2
}
