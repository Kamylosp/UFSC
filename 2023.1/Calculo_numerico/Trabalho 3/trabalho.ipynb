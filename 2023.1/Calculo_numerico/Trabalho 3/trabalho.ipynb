{
 "cells": [
  {
   "cell_type": "code",
   "execution_count": 45,
   "metadata": {},
   "outputs": [],
   "source": [
    "import numpy as np\n",
    "import matplotlib.pyplot as plt\n",
    "\n",
    "tolerancia = 2**(-52)"
   ]
  },
  {
   "cell_type": "code",
   "execution_count": 46,
   "metadata": {},
   "outputs": [],
   "source": [
    "def maximo(array):\n",
    "    if abs(array[0]) > abs(array[1]):\n",
    "        return abs(array[0])\n",
    "    else:\n",
    "        return abs(array[1])"
   ]
  },
  {
   "cell_type": "code",
   "execution_count": null,
   "metadata": {},
   "outputs": [],
   "source": [
    "# Função que soluciona Ax = b "
   ]
  },
  {
   "cell_type": "code",
   "execution_count": 47,
   "metadata": {},
   "outputs": [],
   "source": [
    "def coeficientes_trajetoria(A):\n",
    "    \"\"\"Determina a trajetoria que melhor aproxima a feita por um objeto\n",
    "    celeste a partir de um conjunto de medicoes.\n",
    "\n",
    "    INPUT\n",
    "    -----\n",
    "    A : array_like de dimensao 2\n",
    "        Posicoes do objeto celeste. \n",
    "\n",
    "    OUTPUT\n",
    "    ------\n",
    "    coefs : array_like de ordem 6\n",
    "        Coeficientes [A,B,C,D,E,F] da conica que melhor aproxima a trajetoria\n",
    "        do objeto celeste no plano xy, por uma equacao do tipo\n",
    "            Ax^2 + 2Bxy + Cy^2 + 2Dx + 2Ey + F = 0.\n",
    "    \"\"\"\n",
    "    \n",
    "    # Copia a matriz para evitar erros\n",
    "    M = A.copy()\n",
    "\n",
    "    M_reescalada = []\n",
    "\n",
    "    for i in range(len(M)):\n",
    "        maxi = maximo(M[i])\n",
    "        # print(maxi)\n",
    "        M_reescalada.append([(M[i,j]/maxi) for j in range(len(M[i]))])\n",
    "\n",
    "    print(M_reescalada)\n",
    "\n",
    "    L = np.array(M_reescalada)\n",
    "\n",
    "    # Calcula o valor da linha de modo que [linha]@[coefs]^T = 0\n",
    "    linha = lambda x, y : [x*x, 2*x*y, y*y, 2*x, 2*y, 1] \n",
    "\n",
    "    print(len(L))\n",
    "    \n",
    "    print(L[0])\n",
    "    print(linha(L[0,0], L[0,1]))\n",
    "\n",
    "    print(L[1])\n",
    "    print(linha(L[1,0], L[1,1]))\n",
    "\n",
    "    D = []\n",
    "    for i in range(0, len(L)):\n",
    "        D.append(linha(L[i,0], L[i,1]))\n",
    "\n",
    "    print(len(D))\n",
    "    print(len(D[0]))\n",
    "    \n",
    "    b = np.ones(len(D))\n",
    "    # b = np.zeros(len(D))\n",
    "\n",
    "    # resolve o sistema Dx = b\n",
    "        \n",
    "    coefs = np.linalg.solve(np.transpose(D)@D, np.transpose(D)@b)\n",
    "\n",
    "    # Corrige o valor de F\n",
    "    coefs[5] -= 1\n",
    "\n",
    "    # print(coefs)\n",
    "\n",
    "    return coefs"
   ]
  },
  {
   "cell_type": "code",
   "execution_count": 48,
   "metadata": {},
   "outputs": [],
   "source": [
    "def tipo_trajetoria(A):\n",
    "    \"\"\"Determina o tipo da trajetoria que melhor aproxima a feita por um objeto\n",
    "    celeste a partir de um conjunto de medicoes.\n",
    "\n",
    "    INPUT\n",
    "    -----\n",
    "    A : array_like de dimensao 2\n",
    "        Posicoes do objeto celeste. \n",
    "\n",
    "    OUTPUT\n",
    "    ------\n",
    "    tipo_trajetoria : inteiro (0, 1 ou 2)\n",
    "        Tipo de trajetória.\n",
    "            0: Trajetoria eliptica\n",
    "            1: Trajetoria parabolica\n",
    "            2: Trajetoria hiperbolica\n",
    "    \"\"\"\n",
    "    A, B, C, D, E, F = coeficientes_trajetoria(A)\n",
    "\n",
    "    print(f\"A: {A}\")\n",
    "    print(f\"B: {B}\")\n",
    "    print(f\"C: {C}\")\n",
    "    print(f\"D: {D}\")\n",
    "    print(f\"E: {E}\")\n",
    "    print(f\"F: {F}\")\n",
    "\n",
    "    print(np.linalg.det([[A,B,D], [B, C, E], [D, E, F]]))\n",
    "\n",
    "    det = A*C - B*B\n",
    "\n",
    "    if (det > tolerancia):\n",
    "        print(\"Eliptica\")\n",
    "        return 0\n",
    "    elif (abs(det) < tolerancia):\n",
    "        print(\"Parabolica\")\n",
    "        return 1\n",
    "    else:\n",
    "        print(\"Hiperbolica\")\n",
    "        return 2"
   ]
  },
  {
   "cell_type": "code",
   "execution_count": 49,
   "metadata": {},
   "outputs": [
    {
     "name": "stdout",
     "output_type": "stream",
     "text": [
      "[[-1.0, 0.08037740039968572], [-1.0, 0.22210182625508873], [-1.0, 0.05362580311609577], [-1.0, -0.054000744057480767], [-1.0, -0.06535403405208715], [-1.0, 0.04262377904420985], [-1.0, 0.21927733665584606], [-1.0, 0.08786052792686154], [-1.0, -0.039543432108993505], [-1.0, -0.07169504608854606], [-1.0, 0.009590386264045576], [-1.0, 0.1943287263843228], [-1.0, 0.1263760590298765], [-1.0, -0.021095698669897824], [-1.0, -0.0733460074427473], [-1.0, -0.017882068406438037], [-1.0, 0.1571662879360333], [-1.0, 0.1670153899438781], [-1.0, 0.0012350373947202491], [-1.0, -0.07038365987749921], [-1.0, -0.039618511972625385], [-1.0, 0.11577151894976348], [-1.0, 0.203505302126279], [-1.0, 0.027615187488328256], [-1.0, -0.06339901278895098], [-1.0, -0.05576322275875315], [-1.0, 0.07487633200482623], [-1.0, 0.222910561103296], [-1.0, 0.05824827259588587], [-1.0, -0.05213585431101475]]\n",
      "30\n",
      "[-1.         0.0803774]\n",
      "[1.0, -0.16075480079937143, 0.006460526495011398, -2.0, 0.16075480079937143, 1]\n",
      "[-1.          0.22210183]\n",
      "[1.0, -0.44420365251017746, 0.04932922122584562, -2.0, 0.44420365251017746, 1]\n",
      "30\n",
      "6\n"
     ]
    },
    {
     "ename": "LinAlgError",
     "evalue": "Singular matrix",
     "output_type": "error",
     "traceback": [
      "\u001b[1;31m---------------------------------------------------------------------------\u001b[0m",
      "\u001b[1;31mLinAlgError\u001b[0m                               Traceback (most recent call last)",
      "Cell \u001b[1;32mIn[49], line 3\u001b[0m\n\u001b[0;32m      1\u001b[0m elipses \u001b[39m=\u001b[39m np\u001b[39m.\u001b[39mload(\u001b[39m\"\u001b[39m\u001b[39mteste_e.npy\u001b[39m\u001b[39m\"\u001b[39m)\n\u001b[1;32m----> 3\u001b[0m \u001b[39mprint\u001b[39m(tipo_trajetoria(elipses[\u001b[39m0\u001b[39;49m]))\n\u001b[0;32m      4\u001b[0m \u001b[39mprint\u001b[39m(tipo_trajetoria(elipses[\u001b[39m1\u001b[39m]))\n\u001b[0;32m      5\u001b[0m \u001b[39mprint\u001b[39m(tipo_trajetoria(elipses[\u001b[39m2\u001b[39m]))\n",
      "Cell \u001b[1;32mIn[48], line 18\u001b[0m, in \u001b[0;36mtipo_trajetoria\u001b[1;34m(A)\u001b[0m\n\u001b[0;32m      1\u001b[0m \u001b[39mdef\u001b[39;00m \u001b[39mtipo_trajetoria\u001b[39m(A):\n\u001b[0;32m      2\u001b[0m \u001b[39m    \u001b[39m\u001b[39m\"\"\"Determina o tipo da trajetoria que melhor aproxima a feita por um objeto\u001b[39;00m\n\u001b[0;32m      3\u001b[0m \u001b[39m    celeste a partir de um conjunto de medicoes.\u001b[39;00m\n\u001b[0;32m      4\u001b[0m \n\u001b[1;32m   (...)\u001b[0m\n\u001b[0;32m     16\u001b[0m \u001b[39m            2: Trajetoria hiperbolica\u001b[39;00m\n\u001b[0;32m     17\u001b[0m \u001b[39m    \"\"\"\u001b[39;00m\n\u001b[1;32m---> 18\u001b[0m     A, B, C, D, E, F \u001b[39m=\u001b[39m coeficientes_trajetoria(A)\n\u001b[0;32m     20\u001b[0m     \u001b[39mprint\u001b[39m(\u001b[39mf\u001b[39m\u001b[39m\"\u001b[39m\u001b[39mA: \u001b[39m\u001b[39m{\u001b[39;00mA\u001b[39m}\u001b[39;00m\u001b[39m\"\u001b[39m)\n\u001b[0;32m     21\u001b[0m     \u001b[39mprint\u001b[39m(\u001b[39mf\u001b[39m\u001b[39m\"\u001b[39m\u001b[39mB: \u001b[39m\u001b[39m{\u001b[39;00mB\u001b[39m}\u001b[39;00m\u001b[39m\"\u001b[39m)\n",
      "Cell \u001b[1;32mIn[47], line 55\u001b[0m, in \u001b[0;36mcoeficientes_trajetoria\u001b[1;34m(A)\u001b[0m\n\u001b[0;32m     50\u001b[0m b \u001b[39m=\u001b[39m np\u001b[39m.\u001b[39mones(\u001b[39mlen\u001b[39m(D))\n\u001b[0;32m     51\u001b[0m \u001b[39m# b = np.zeros(len(D))\u001b[39;00m\n\u001b[0;32m     52\u001b[0m \n\u001b[0;32m     53\u001b[0m \u001b[39m# resolve o sistema Dx = b\u001b[39;00m\n\u001b[1;32m---> 55\u001b[0m coefs \u001b[39m=\u001b[39m np\u001b[39m.\u001b[39;49mlinalg\u001b[39m.\u001b[39;49msolve(np\u001b[39m.\u001b[39;49mtranspose(D)\u001b[39m@D\u001b[39;49m, np\u001b[39m.\u001b[39;49mtranspose(D)\u001b[39m@b\u001b[39;49m)\n\u001b[0;32m     57\u001b[0m \u001b[39m# Corrige o valor de F\u001b[39;00m\n\u001b[0;32m     58\u001b[0m coefs[\u001b[39m5\u001b[39m] \u001b[39m-\u001b[39m\u001b[39m=\u001b[39m \u001b[39m1\u001b[39m\n",
      "File \u001b[1;32m<__array_function__ internals>:5\u001b[0m, in \u001b[0;36msolve\u001b[1;34m(*args, **kwargs)\u001b[0m\n",
      "File \u001b[1;32mc:\\Users\\Windows 10\\AppData\\Local\\Programs\\Python\\Python39\\lib\\site-packages\\numpy\\linalg\\linalg.py:393\u001b[0m, in \u001b[0;36msolve\u001b[1;34m(a, b)\u001b[0m\n\u001b[0;32m    391\u001b[0m signature \u001b[39m=\u001b[39m \u001b[39m'\u001b[39m\u001b[39mDD->D\u001b[39m\u001b[39m'\u001b[39m \u001b[39mif\u001b[39;00m isComplexType(t) \u001b[39melse\u001b[39;00m \u001b[39m'\u001b[39m\u001b[39mdd->d\u001b[39m\u001b[39m'\u001b[39m\n\u001b[0;32m    392\u001b[0m extobj \u001b[39m=\u001b[39m get_linalg_error_extobj(_raise_linalgerror_singular)\n\u001b[1;32m--> 393\u001b[0m r \u001b[39m=\u001b[39m gufunc(a, b, signature\u001b[39m=\u001b[39;49msignature, extobj\u001b[39m=\u001b[39;49mextobj)\n\u001b[0;32m    395\u001b[0m \u001b[39mreturn\u001b[39;00m wrap(r\u001b[39m.\u001b[39mastype(result_t, copy\u001b[39m=\u001b[39m\u001b[39mFalse\u001b[39;00m))\n",
      "File \u001b[1;32mc:\\Users\\Windows 10\\AppData\\Local\\Programs\\Python\\Python39\\lib\\site-packages\\numpy\\linalg\\linalg.py:88\u001b[0m, in \u001b[0;36m_raise_linalgerror_singular\u001b[1;34m(err, flag)\u001b[0m\n\u001b[0;32m     87\u001b[0m \u001b[39mdef\u001b[39;00m \u001b[39m_raise_linalgerror_singular\u001b[39m(err, flag):\n\u001b[1;32m---> 88\u001b[0m     \u001b[39mraise\u001b[39;00m LinAlgError(\u001b[39m\"\u001b[39m\u001b[39mSingular matrix\u001b[39m\u001b[39m\"\u001b[39m)\n",
      "\u001b[1;31mLinAlgError\u001b[0m: Singular matrix"
     ]
    }
   ],
   "source": [
    "elipses = np.load(\"teste_e.npy\")\n",
    "\n",
    "print(tipo_trajetoria(elipses[0]))\n",
    "print(tipo_trajetoria(elipses[1]))\n",
    "print(tipo_trajetoria(elipses[2]))\n"
   ]
  }
 ],
 "metadata": {
  "kernelspec": {
   "display_name": "Python 3",
   "language": "python",
   "name": "python3"
  },
  "language_info": {
   "codemirror_mode": {
    "name": "ipython",
    "version": 3
   },
   "file_extension": ".py",
   "mimetype": "text/x-python",
   "name": "python",
   "nbconvert_exporter": "python",
   "pygments_lexer": "ipython3",
   "version": "3.9.4"
  },
  "orig_nbformat": 4
 },
 "nbformat": 4,
 "nbformat_minor": 2
}
