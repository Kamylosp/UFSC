{
 "cells": [
  {
   "attachments": {},
   "cell_type": "markdown",
   "metadata": {},
   "source": [
    "## Atividade prática 10\n",
    "\n",
    "> Considere pelo menos um dos seguintes algoritmos: <br>\n",
    "> - Decomposição LU (com o algoritmo de Crout-Dolittle).\n",
    "> - Resolução de sistema triangular superior seguida de sistema triangular inferior.\n",
    "> - Resolução de sistema linear por eliminação Gaussiana\n",
    "> - ★ Resolução de sistema linear pelo método de Gauss-Seidel ou de Jacobi.\n",
    "> - Cálculo de determinante por escalonamento\n",
    "> - Cálculo de determinante por expansão de Laplace <br><br>\n",
    "> Realize vários testes com inputs de diferentes tamanos para o algoritmo que você escolheu. Grave o tempo que o algoritmo leva para ser realizado e crie um gráfico. Faça uma regressão, utilizando um tipo apropriado de função, para dar uma estimativa empírica do <br>\n",
    ">(Observação: Não há fórmula assintótica para o método de Gauss-Seidel em geral. Normalmente o tempo de execução é menor do que $O(n^2)$.) <br>\n",
    "> Utilize a biblioteca matplotlib para criar gráficos. Você pode utilizar a biblioteca tqdm para exibir uma barra de carregamento nos seus laços."
   ]
  },
  {
   "cell_type": "code",
   "execution_count": 48,
   "metadata": {},
   "outputs": [],
   "source": [
    "import numpy as np\n",
    "import time\n",
    "import matplotlib.pyplot as plt\n",
    "from tqdm import tqdm"
   ]
  },
  {
   "cell_type": "code",
   "execution_count": 49,
   "metadata": {},
   "outputs": [],
   "source": [
    "def solve_determinante (A):\n",
    "    '''Resolve o determinante por escalonamento\n",
    "    \n",
    "    Parâmetros obrigatórios\n",
    "    ---------------------------\n",
    "    A : Array-like de dimensao 2\n",
    "        Matriz quadrada\n",
    "    \n",
    "    Saída\n",
    "    ---------------------------\n",
    "    det : float\n",
    "          Determinante da matriz recebida\n",
    "    '''\n",
    "    n = len(A)\n",
    "\n",
    "    # Escalonando a matriz\n",
    "    for i in range(0, n):\n",
    "        for j in range(i+1, n):\n",
    "            coef = A[j, i]/A[i,i]\n",
    "            \n",
    "            A[j][:] -= coef * A[i][:]\n",
    "\n",
    "    out = 1\n",
    "    for i in range(n):\n",
    "        out *= A[i, i]\n",
    "\n",
    "    return out\n"
   ]
  },
  {
   "cell_type": "code",
   "execution_count": 50,
   "metadata": {},
   "outputs": [
    {
     "name": "stderr",
     "output_type": "stream",
     "text": [
      "  0%|          | 0/80 [00:00<?, ?it/s]C:\\Users\\Windows 10\\AppData\\Local\\Temp\\ipykernel_7480\\2306982173.py:19: RuntimeWarning: divide by zero encountered in double_scalars\n",
      "  coef = A[j, i]/A[i,i]\n",
      "C:\\Users\\Windows 10\\AppData\\Local\\Temp\\ipykernel_7480\\2306982173.py:21: RuntimeWarning: invalid value encountered in multiply\n",
      "  A[j][:] -= coef * A[i][:]\n",
      "C:\\Users\\Windows 10\\AppData\\Local\\Temp\\ipykernel_7480\\2306982173.py:19: RuntimeWarning: invalid value encountered in double_scalars\n",
      "  coef = A[j, i]/A[i,i]\n",
      "C:\\Users\\Windows 10\\AppData\\Local\\Temp\\ipykernel_7480\\2306982173.py:25: RuntimeWarning: invalid value encountered in double_scalars\n",
      "  out *= A[i, i]\n",
      "100%|██████████| 80/80 [00:06<00:00, 12.39it/s] \n"
     ]
    }
   ],
   "source": [
    "n = 80\n",
    "\n",
    "tabela = np.zeros((2, n + 2))\n",
    "\n",
    "for i in range(1, n + 2):\n",
    "    tabela[0, i] = i\n",
    "\n",
    "for i in tqdm(range(2, n + 2)):\n",
    "\n",
    "    aux = True\n",
    "    while aux:\n",
    "        try:\n",
    "            A = (np.random.randint(-10, 10, (i,i))).astype(float)\n",
    "            tempo_inicio = time.time()\n",
    "\n",
    "            for j in range(10):\n",
    "                _ = solve_determinante(A)  # Decomposição LU de $A$\n",
    "\n",
    "            tempo_final = time.time()\n",
    "\n",
    "            tabela[1, i] = (tempo_final - tempo_inicio) / 10\n",
    "            aux = False\n",
    "\n",
    "        except:\n",
    "            pass\n"
   ]
  },
  {
   "cell_type": "code",
   "execution_count": 51,
   "metadata": {},
   "outputs": [],
   "source": [
    "def f(a, x):\n",
    "    out = 0\n",
    "    for i in range(len(a)):\n",
    "        out += a[i] * (x**(i))"
   ]
  },
  {
   "cell_type": "code",
   "execution_count": 52,
   "metadata": {},
   "outputs": [],
   "source": [
    "tabela = tabela.transpose()\n",
    "m = tabela.shape[0]\n",
    "dominio = np.linspace(0, n + 1, 1000)\n",
    "\n",
    "coeficientes = []"
   ]
  },
  {
   "cell_type": "code",
   "execution_count": 53,
   "metadata": {},
   "outputs": [
    {
     "name": "stdout",
     "output_type": "stream",
     "text": [
      "\n",
      "------------------------------\n",
      "Regressão Cúbica\n",
      "Coefs:  [-3.14714236e-05  5.93404926e-05  2.63674054e-06 -2.80678488e-09]\n"
     ]
    }
   ],
   "source": [
    "# Define a matriz de coeficientes\n",
    "A = np.zeros((m, 4))\n",
    "for i in range(m):\n",
    "    A[i, 0] = 1\n",
    "    A[i, 1] = tabela[i, 0]\n",
    "    A[i, 2] = tabela[i, 0] ** 2\n",
    "    A[i, 3] = tabela[i, 0] ** 3\n",
    "\n",
    "# Define o vetor independente\n",
    "b = tabela[:, 1]\n",
    "B = A.transpose() @ A\n",
    "c = A.transpose() @ b\n",
    "\n",
    "alpha = np.linalg.solve(B, c)\n",
    "\n",
    "coeficientes.append(alpha)\n",
    "\n",
    "print()\n",
    "print(\"-\"*30)\n",
    "print(\"Regressão Cúbica\")\n",
    "print(\"Coefs: \", alpha)"
   ]
  },
  {
   "cell_type": "code",
   "execution_count": 54,
   "metadata": {},
   "outputs": [
    {
     "ename": "IndexError",
     "evalue": "index 2 is out of bounds for axis 0 with size 2",
     "output_type": "error",
     "traceback": [
      "\u001b[1;31m---------------------------------------------------------------------------\u001b[0m",
      "\u001b[1;31mIndexError\u001b[0m                                Traceback (most recent call last)",
      "Cell \u001b[1;32mIn[54], line 6\u001b[0m\n\u001b[0;32m      4\u001b[0m \u001b[39mfor\u001b[39;00m i \u001b[39min\u001b[39;00m \u001b[39mrange\u001b[39m(m):\n\u001b[0;32m      5\u001b[0m     A[i, \u001b[39m0\u001b[39m] \u001b[39m=\u001b[39m \u001b[39m1\u001b[39m\n\u001b[1;32m----> 6\u001b[0m     A[i, \u001b[39m1\u001b[39m] \u001b[39m=\u001b[39m tabela[i, \u001b[39m0\u001b[39;49m]\n\u001b[0;32m      7\u001b[0m     A[i, \u001b[39m2\u001b[39m] \u001b[39m=\u001b[39m tabela[i, \u001b[39m0\u001b[39m] \u001b[39m*\u001b[39m\u001b[39m*\u001b[39m \u001b[39m2\u001b[39m\n\u001b[0;32m      9\u001b[0m \u001b[39m# Define o vetor independente\u001b[39;00m\n",
      "\u001b[1;31mIndexError\u001b[0m: index 2 is out of bounds for axis 0 with size 2"
     ]
    }
   ],
   "source": [
    "tabela = tabela.transpose()\n",
    "\n",
    "A = np.zeros((m, 3))\n",
    "for i in range(m):\n",
    "    A[i, 0] = 1\n",
    "    A[i, 1] = tabela[i, 0]\n",
    "    A[i, 2] = tabela[i, 0] ** 2\n",
    "\n",
    "# Define o vetor independente\n",
    "b = tabela[:, 1]\n",
    "B = A.transpose() @ A\n",
    "c = A.transpose() @ b\n",
    "\n",
    "alpha = np.linalg.solve(B, c)\n",
    "\n",
    "coeficientes.append(alpha)\n",
    "\n",
    "print()\n",
    "print(\"-\"*30)\n",
    "print(\"Regressão Quadrática\")\n",
    "print(\"Coefs: \", alpha)"
   ]
  },
  {
   "cell_type": "code",
   "execution_count": null,
   "metadata": {},
   "outputs": [
    {
     "name": "stdout",
     "output_type": "stream",
     "text": [
      "\n",
      "------------------------------\n",
      "Regressão Linear\n",
      "Coefs:  [-0.00968673  0.00044411]\n"
     ]
    },
    {
     "data": {
      "image/png": "[encoded data removed]",
      "text/plain": [
       "<Figure size 640x480 with 1 Axes>"
      ]
     },
     "metadata": {},
     "output_type": "display_data"
    }
   ],
   "source": [
    "A = np.zeros((m, 2))\n",
    "for i in range(m):\n",
    "    A[i, 0] = 1\n",
    "    A[i, 1] = tabela[i, 0]\n",
    "\n",
    "# Define o vetor independente\n",
    "b = tabela[:, 1]\n",
    "B = A.transpose() @ A\n",
    "c = A.transpose() @ b\n",
    "\n",
    "alpha = np.linalg.solve(B, c)\n",
    "\n",
    "coeficientes.append(alpha)\n",
    "\n",
    "print()\n",
    "print(\"-\"*30)\n",
    "print(\"Regressão Linear\")\n",
    "print(\"Coefs: \", alpha)"
   ]
  },
  {
   "cell_type": "code",
   "execution_count": null,
   "metadata": {},
   "outputs": [],
   "source": [
    "fig, axs = plt.subplots(1, 1, figsize=(6, 6))\n",
    "\n",
    "axs.set_title(\"Tempo de criação das listas\")\n",
    "axs.set_xlabel(\"Tamanho da lista\")\n",
    "axs.set_ylabel(\"Tempo (s)\")\n",
    "tabela = tabela.transpose()\n",
    "x, y = tabela[0, :], tabela[1, :]\n",
    "\n",
    "# Plotando os pontos\n",
    "plt.plot(x, y, 'ro')\n",
    "# axs.plot(x, y, 'ro',alpha=0.5, label=\"Testes\")\n",
    "\n",
    "\n",
    "im = [f(coeficientes[0], t) for t in dominio]\n",
    "plt.plot(dominio, im, 'b', label=\"Regressão cubica\")\n",
    "\n",
    "im = [f(coeficientes[1], t)  for t in dominio]\n",
    "plt.plot(dominio, im, 'g', label=\"Regressão quadrada\")\n",
    "\n",
    "im = [f(coeficientes[2], t)  for t in dominio]\n",
    "plt.plot(dominio, im, 'y', label=\"Regressão linear\")\n",
    "\n",
    "plt.show()"
   ]
  }
 ],
 "metadata": {
  "kernelspec": {
   "display_name": "Python 3",
   "language": "python",
   "name": "python3"
  },
  "language_info": {
   "codemirror_mode": {
    "name": "ipython",
    "version": 3
   },
   "file_extension": ".py",
   "mimetype": "text/x-python",
   "name": "python",
   "nbconvert_exporter": "python",
   "pygments_lexer": "ipython3",
   "version": "3.9.4"
  },
  "orig_nbformat": 4
 },
 "nbformat": 4,
 "nbformat_minor": 2
}
