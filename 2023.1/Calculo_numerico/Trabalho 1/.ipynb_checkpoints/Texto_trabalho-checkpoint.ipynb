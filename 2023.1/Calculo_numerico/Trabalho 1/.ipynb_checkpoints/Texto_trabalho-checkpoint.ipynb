{
 "cells": [
  {
   "cell_type": "markdown",
   "metadata": {},
   "source": [
    "## <center>**Binary16**</center>"
   ]
  },
  {
   "cell_type": "markdown",
   "metadata": {},
   "source": [
    "**Alunos:** Elison Maiko, Italo Kusmin, Kamylo Porto, Lucas Barcaro. \n",
    "<br> **Disciplina:** Calculo Numérico"
   ]
  },
  {
   "cell_type": "markdown",
   "metadata": {},
   "source": [
    "# 1 Introdução\n",
    "&emsp;&emsp;&emsp;O Sistema de Numeração Decimal é o sistema de numeração que nós usamos. Ele foi concebido pelos povos que moravam na atual Índia e divulgado no ocidente pelos árabes, por isso, é também chamado \"sistema de numeração indo-arábico\". É um sistema que utiliza base 10, ou seja, representada por dez dígitos (0, 1, 2, 3, 4, 5, 6, 7, 8 e 9), com os quais formamos infinitos números. \n",
    "<br>&emsp;&emsp;&emsp;Já os computadores funcionam com uma arquitetura diferente, eles utilizam a base 2 (sistema binário), representada por 0 e 1. Isso acontece pois internamente, as máquinas interpretam os números 0 e 1, como nível lógico baixo (*LOW*) e alto (*HIGH*) de tensão. Esses zeros e uns são chamados de dígitos binários ou somente bit, que é a menor unidade de informação dos computadores (Linha de código - editar). Uma sequência de 8 bits formam 1 byte e uma sequência de bytes formam qualquer tipo de informação. \n",
    "<br>&emsp;&emsp;&emsp;No entanto, como podemos imaginar, se as duas bases são diferentes, haverá, necessariamente, uma conversão entre bases. Para números inteiros, essa conversão é bastante simples. Sobretudo, o problema começa quando estamos trabalhando com números decimais, mais conhecidos como números float. \n",
    "<br>&emsp;&emsp;&emsp;Alguns desses números float podem ser representados pelo que é chamado de ponto fixo, quando ocorre apenas um deslocamento da vírgula separadora da parte inteira e da mantissa do número. Entretanto, nos casos em que a fração possui um divisor diferente de uma combinação dos primos da base (2 e 5 para base 10 e apenas 2 para a base 2), alguns números da base 10, como por exemplo o número 0,1 não podem ser representados por frações múltiplas de 12 ou necessitam de infinitos bits para serem representados. O mesmo acontece na base 10: o número 13 não é possível escrever usando apenas 2 e 5. E a memória disponível é limitada. Graças a isso, em algum momento temos que arredondar os números reais que queremos armazenar. A dificuldade está em decidir quanta informação precisamos armazenar e a forma e a forma deste armazenamento para garantir que os computadores sejam úteis resolvendo problemas reais. Uma das soluções encontradas foi o uso de números em ponto flutuante.\n",
    "<br>&emsp;&emsp;&emsp;Esses números de pontos flutuantes podem ocupar diversos tamanhos na memória, quanto mais espaço na memória, ou seja, mais bytes designados para tal, maior a precisão daquele número. Tudo vai depender da necessidade da aplicação, por exemplo, em uma missão espacial, a precisão dos cálculos são extremamentes importantes, pois qualquer arredondamento pode causar um grande estrago.\n",
    "<br>&emsp;&emsp;&emsp;O objetivo deste trabalho é tratar sobre os números decimais armazenados em 16 bits da memória, também conhecidos como números de ponto flutuante de meia precisão. Abordaremos quais aplicações eles são mais indicados e traremos uma utilização prática no armazenamento de imagem.\n"
   ]
  },
  {
   "cell_type": "markdown",
   "metadata": {},
   "source": [
    "# 2 Desenvolvimento\n",
    "&emsp;&emsp;&emsp;Em meio ao cenário de constante evolução computacional, surgiu a necessidade de processar números reais de forma cada vez mais eficiente, assim surgiram vários formatos numéricos, entre eles o ponto flutuante. Um ponto flutuante é capaz de representar um número real com precisão relativamente alta utilizando uma mantissa e um expoente de base 2, desde números muito pequenos a extremamente grandes conforme a precisão formato.\n",
    "<br>&emsp;&emsp;&emsp;Um ponto flutuante pode ser considerado em diversos formatos, meia precisão (16 bits), precisão simples (32 bits), dupla precisão (64 bits), entre outros. Logicamente, quanto maior a precisão do formato maior a precisão decimal, e maior o intervalo de representação, por outro lado, também demanda uma maior capacidade de armazenamento, um fato que pode ser custoso dependendo da finalidade desejada. Portanto, deve-se ponderar o melhor tipo de ponto flutuante para cada caso, balanceando o nível de precisão necessário com a capacidade de armazenamento a ser gasta.\n",
    "<br>&emsp;&emsp;&emsp;O ponto flutuante de meia precisão, também conhecido como *Binary16*  especialmente utilizado em dispositivos com recursos limitados e para o tratamento de imagem. Apesar de algumas limitações, o *Binary16* é suficiente para aplicações como renderização de imagens, processamento de sinais e redes neurais de baixa complexidade. Além disso, esse formato permite uma otimização do hardware, resultando em dispositivos mais compactos com melhor desempenho devido a maior velocidade de processamento e menor uso da memória, um exemplo bom é a presença do Binary16 em arduinos e conversores de sinais."
   ]
  },
  {
   "cell_type": "markdown",
   "metadata": {},
   "source": [
    "## 2.1 Funcionamento\n",
    "O formato Binary16 usa 1 bit para para o **sinal**, 5 bits para o **expoente** (base 2) e 10 bits para **mantissa**."
   ]
  },
  {
   "cell_type": "markdown",
   "metadata": {},
   "source": [
    "<center><img src=\"Imagem01.png\\\"/> <center>"
   ]
  },
  {
   "cell_type": "markdown",
   "metadata": {},
   "source": [
    "<ul>\n",
    "<br> <li>**Sinal:** representado pelo primeiro bit, se o numero é positivo o bit de sinal é igual a 0, caso seja negativo o bit de sinal indica o valor 1.</li>\n",
    "<li>**Expoente:** É composto por 5 bits, permitindo um total de 32 valores diferentes ($2^5$). O menor valor possível para o expoente é $-14$ ($00001_2$) e o maior valor é $15$ ($11110_2$). (Lucão pfv explica o excesso de 15)\n",
    "O valor do expoente $00000_2$ e $11111_2$ são reservados para valores especiais como zero, infinito, e NaN (Not a Number).</li>\n",
    "<li>**Mantissa:** Representada por 10 bits, é a parte fracionária do número, sendo normalizada de forma que o primeiro dígito sempre seja igual a 1. Isso permite a mantissa representar números na faixa de $1$ a $2^{-10}$, aproximadamente (0.00098). </li>\n",
    "</ul>\n",
    "&emsp;&emsp;&emsp;O *Binary16* assim como as outras formas de representação apresenta limitações quanto a precisão e capacidade, entre elas:\n",
    "<ol>\n",
    "<li>Baixa precisão: Como já citado anteriormente, esse formato possui 10 bits de mantissa, o que nos entrega uma precisão de 3 a casas decimais após a vírgula. Isso pode ser insuficiente em aplicações que requerem maior precisão, como é o caso de cálculos financeiros.</li>\n",
    "\n",
    "<li>Faixa de números representados: É capaz de representar números de aproximadamente $6.1 \\cdot 10^{-5}$ até $6.5\\cdot10^4$, números acima ou abaixo desse intervalo não são representados.</li>\n",
    "\n",
    "<li>Perda de precisão: Em alguns casos as operações matemáticas podem gerar perda de precisão. Erros de arredondamento ou truncamento acabam afetando os resultados.</li>\n",
    "<ol>"
   ]
  },
  {
   "cell_type": "markdown",
   "metadata": {},
   "source": [
    "# 3 Conclusão"
   ]
  },
  {
   "cell_type": "markdown",
   "metadata": {},
   "source": [
    "# 4 Referências\n",
    "https://docs.python.org/3/tutorial/floatingpoint.html"
   ]
  }
 ],
 "metadata": {
  "kernelspec": {
   "display_name": "Python 3 (ipykernel)",
   "language": "python",
   "name": "python3"
  },
  "language_info": {
   "codemirror_mode": {
    "name": "ipython",
    "version": 3
   },
   "file_extension": ".py",
   "mimetype": "text/x-python",
   "name": "python",
   "nbconvert_exporter": "python",
   "pygments_lexer": "ipython3",
   "version": "3.9.4"
  }
 },
 "nbformat": 4,
 "nbformat_minor": 2
}
