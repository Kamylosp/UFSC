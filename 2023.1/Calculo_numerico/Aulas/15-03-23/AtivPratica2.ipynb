{
 "cells": [
  {
   "attachments": {},
   "cell_type": "markdown",
   "metadata": {},
   "source": [
    "# Atividade da aula prática 2\n",
    "\n",
    "Crie um programa intitulado pratica_2.py contendo uma função positivas(L) que recebe uma lista L de números e retorna a quantidade de entradas positivas (estritamente maiores do que 0) dessa lista.\n",
    "\n",
    "A função deve ser implementada de modo recursivo. Não utilize nenhuma estrutura de laço nem compreensão de lista."
   ]
  },
  {
   "cell_type": "code",
   "execution_count": 6,
   "metadata": {},
   "outputs": [
    {
     "name": "stdout",
     "output_type": "stream",
     "text": [
      "3\n"
     ]
    }
   ],
   "source": [
    "def positivas (L):\n",
    "    if (len(L) > 0):\n",
    "        x = 0\n",
    "        if L[0] > 0:\n",
    "            x = 1\n",
    "        return x + positivas(L[1:])\n",
    "    else:\n",
    "        return 0\n",
    "\n",
    "lista = [1, -2, 5, -9, 1, 0]\n",
    "print(positivas(lista))"
   ]
  }
 ],
 "metadata": {
  "kernelspec": {
   "display_name": "Python 3",
   "language": "python",
   "name": "python3"
  },
  "language_info": {
   "codemirror_mode": {
    "name": "ipython",
    "version": 3
   },
   "file_extension": ".py",
   "mimetype": "text/x-python",
   "name": "python",
   "nbconvert_exporter": "python",
   "pygments_lexer": "ipython3",
   "version": "3.9.4"
  },
  "orig_nbformat": 4
 },
 "nbformat": 4,
 "nbformat_minor": 2
}
