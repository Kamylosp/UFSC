{
 "cells": [
  {
   "attachments": {},
   "cell_type": "markdown",
   "metadata": {},
   "source": [
    "### Questão 1"
   ]
  },
  {
   "cell_type": "code",
   "execution_count": 609,
   "metadata": {},
   "outputs": [],
   "source": [
    "import numpy as np\n",
    "tolerancia = 2**(-30)"
   ]
  },
  {
   "cell_type": "code",
   "execution_count": 610,
   "metadata": {},
   "outputs": [],
   "source": [
    "def g(x, f, intervalo):\n",
    "    ''' Calcula g(x) tal que g(x) = I[c->d] f(x,y) dy pelo método do trapézio\n",
    "    \n",
    "    Parametros\n",
    "    x : valor de x\n",
    "    f : função de duas variáveis\n",
    "    intervalo : array com os valores entre c e d já discretizados\n",
    "    \n",
    "    Retornos\n",
    "    integral : valor de g(x)'''\n",
    "\n",
    "    integral = 0\n",
    "    for i in range(len(intervalo)-1):\n",
    "        integral += (f(x, intervalo[i]) + f(x, intervalo[i+1]))/2 * (intervalo[i+1] - intervalo[i])\n",
    "        \n",
    "    return integral\n",
    "\n",
    "def Trapezio2D (f, a, b, c, d, m, n):\n",
    "    '''Calcula integral dupla na função f pelo método do trapézio\n",
    "    \n",
    "    Parametros\n",
    "    f : função \n",
    "    a : limite inferior da integração em x\n",
    "    b : limite superior da integração em x\n",
    "    c : limite inferior da integração em y\n",
    "    d : limite superior da integração em y\n",
    "    m : número de discretizações a serem feitas no intervalo a-b\n",
    "    n : número de discretizações a serem feitas no intervalo c-d\n",
    "    \n",
    "    Retornos\n",
    "    integral_dupla : valor da integral dupla da função nos parâmetros fornecidos'''\n",
    "\n",
    "    int_a_b = np.linspace(a, b, m+1)\n",
    "    int_c_d = np.linspace(c, d, n+1)\n",
    "\n",
    "    integral_dupla = 0\n",
    "\n",
    "    for i in range(m):\n",
    "        integral_dupla += (g(int_a_b[i],f, int_c_d) + g(int_a_b[i+1], f, int_c_d))/2 * (int_a_b[i+1] - int_a_b[i])\n",
    "    \n",
    "    return integral_dupla\n"
   ]
  },
  {
   "cell_type": "code",
   "execution_count": 611,
   "metadata": {},
   "outputs": [],
   "source": [
    "def f(x, y):\n",
    "    return 4*x + (3*x*x*y)/2 + (y**3)/3"
   ]
  },
  {
   "cell_type": "code",
   "execution_count": 612,
   "metadata": {},
   "outputs": [
    {
     "data": {
      "text/plain": [
       "32.83334953703704"
      ]
     },
     "execution_count": 612,
     "metadata": {},
     "output_type": "execute_result"
    }
   ],
   "source": [
    "Trapezio2D(f, 1, 2, 3, 4, 300, 300)"
   ]
  },
  {
   "attachments": {},
   "cell_type": "markdown",
   "metadata": {},
   "source": [
    "### Questão 2"
   ]
  },
  {
   "cell_type": "code",
   "execution_count": 613,
   "metadata": {},
   "outputs": [],
   "source": [
    "def g2(x, f, intervalo):\n",
    "    ''' Calcula g(x) tal que g(x) = I[c->d] f(x,y) dy pelo método de Simpson\n",
    "    \n",
    "    Parametros\n",
    "    x : valor de x\n",
    "    f : função de duas variáveis\n",
    "    intervalo : array com os valores entre c e d já discretizados\n",
    "    \n",
    "    Retornos\n",
    "    integral : valor de g(x)'''\n",
    "\n",
    "    c = intervalo[0]\n",
    "    d = intervalo[-1]\n",
    "\n",
    "    n = (int)((len(intervalo)-1)/2)\n",
    "\n",
    "    h = (d-c)/(2*n)\n",
    "\n",
    "    y = f(x, c)\n",
    "\n",
    "    for i in range(1, n):\n",
    "        y += 2*f(x, intervalo[2*i])\n",
    "    \n",
    "    for i in range(1, n+1):\n",
    "        y += 4 * f(x, intervalo[2*i-1])\n",
    "\n",
    "    y += f(x, intervalo[2*n])\n",
    "    \n",
    "    return (h*y)/3\n",
    "\n",
    "\n",
    "def Simpson2D( f, a, b, c, d, m, n):\n",
    "    '''Calcula integral dupla na função f pelo método de Simpson\n",
    "    \n",
    "    Parametros\n",
    "    f : função \n",
    "    a : limite inferior da integração em x\n",
    "    b : limite superior da integração em x\n",
    "    c : limite inferior da integração em y\n",
    "    d : limite superior da integração em y\n",
    "    m : número de discretizações a serem feitas no intervalo a-b\n",
    "    n : número de discretizações a serem feitas no intervalo c-d\n",
    "    \n",
    "    Retornos\n",
    "    integral_dupla : valor da integral dupla da função nos parâmetros fornecidos'''\n",
    "    \n",
    "    h = (b-a)/(2*n)\n",
    "\n",
    "    intervalo_a_b = np.linspace(a, b, 2*m+1)\n",
    "    intervalo_c_d = np.linspace(c, d, 2*n+1)\n",
    "\n",
    "    y = g2(a, f, intervalo_c_d)\n",
    "\n",
    "    for i in range(1, m):\n",
    "        y += 2 * g2(intervalo_a_b[2*i], f, intervalo_c_d)\n",
    "    \n",
    "    for i in range(1, m+1):\n",
    "        y += 4 * g2(intervalo_a_b[2*i-1], f, intervalo_c_d)\n",
    "\n",
    "    y += g2(b, f, intervalo_c_d)\n",
    "    \n",
    "    return (h*y)/3\n",
    "    "
   ]
  },
  {
   "cell_type": "code",
   "execution_count": 614,
   "metadata": {},
   "outputs": [
    {
     "data": {
      "text/plain": [
       "32.833333333333364"
      ]
     },
     "execution_count": 614,
     "metadata": {},
     "output_type": "execute_result"
    }
   ],
   "source": [
    "Simpson2D(f, 1, 2, 3, 4, 300, 300)"
   ]
  },
  {
   "attachments": {},
   "cell_type": "markdown",
   "metadata": {},
   "source": [
    "### Questão 3"
   ]
  },
  {
   "cell_type": "code",
   "execution_count": 615,
   "metadata": {},
   "outputs": [],
   "source": [
    "nos_Gauss = {2:[np.sqrt(3)/3 , -np.sqrt(3)/3] ,\n",
    "             3: [0,np.sqrt(15)/5, -np.sqrt(15)/5] ,\n",
    "             4: [(1/35)*np.sqrt(525-70*np.sqrt(30)) , -(1/35)*np.sqrt(525-70*np.sqrt(30)), (1/35)*np.sqrt(525+70*np.sqrt(30)), -(1/35)*np.sqrt(525+70*np.sqrt(30))],\n",
    "             5: [0 , (1/21)*np.sqrt(245-14*np.sqrt(70)), -(1/21)*np.sqrt(245-14*np.sqrt(70)), (1/21)*np.sqrt(245+14*np.sqrt(70)), -(1/21)*np.sqrt(245+14*np.sqrt(70))]}\n",
    "pesos_Gauss = {\n",
    "    2:  [1,1],\n",
    "    3: [8/9,5/9,5/9],\n",
    "    4: [(1/36)*(18+np.sqrt(30)),(1/36)*(18+np.sqrt(30)) , (1/36)*(18-np.sqrt(30)), (1/36)*(18-np.sqrt(30))],\n",
    "    5: [128/225 , (1/900)*(322+13*np.sqrt(70)) , (1/900)*(322+13*np.sqrt(70)) , (1/900)*(322-13*np.sqrt(70)) , (1/900)*(322-13*np.sqrt(70))]\n",
    "}"
   ]
  },
  {
   "cell_type": "code",
   "execution_count": 616,
   "metadata": {},
   "outputs": [],
   "source": [
    "def g3 (f, x, c, d, n):\n",
    "    ''' Calcula g(x) tal que g(x) = I[c->d] f(x,y) dy\n",
    "        pelo método de Quadratura Gaussiana.\n",
    "    \n",
    "    Parametros\n",
    "    f : função de duas variáveis\n",
    "    x : valor de x\n",
    "    c : limite inferior do intervalo de integração\n",
    "    d : limite superior do intervalo de integração\n",
    "    n : número de nós\n",
    "    \n",
    "    Retornos\n",
    "    integral : valor de g(x)'''\n",
    "\n",
    "    integral = 0\n",
    "\n",
    "    g = lambda x, t : f(x, c+(d-c)/2 * (t+1))\n",
    "\n",
    "    for k in range(n):\n",
    "        integral += pesos_Gauss[n][k]*g(x, nos_Gauss[n][k])\n",
    "\n",
    "    return (d-c)/2 * integral\n",
    "\n",
    "def Gauss2D(f, a, b, c, d, m, n):\n",
    "    '''Calcula integral dupla na função f pelo \n",
    "    método de Quadratura Gaussiana\n",
    "    \n",
    "    Parametros\n",
    "    f : função \n",
    "    a : limite inferior da integração em x\n",
    "    b : limite superior da integração em x\n",
    "    c : limite inferior da integração em y\n",
    "    d : limite superior da integração em y\n",
    "    m : número de nós no intervalo a-b\n",
    "    n : número de nós no intervalo c-d\n",
    "    \n",
    "    Retornos\n",
    "    integral_dupla : valor da integral dupla da função nos parâmetros fornecidos'''\n",
    "    \n",
    "    integral_dupla = 0\n",
    "\n",
    "    g = lambda t : g3(f, a+(b-a)/2 * (t+1), c, d, n)\n",
    "\n",
    "    for k in range(m):\n",
    "        integral_dupla += pesos_Gauss[m][k]*g(nos_Gauss[m][k])\n",
    "\n",
    "    return (b-a)/2 * integral_dupla"
   ]
  },
  {
   "cell_type": "code",
   "execution_count": 617,
   "metadata": {},
   "outputs": [
    {
     "name": "stdout",
     "output_type": "stream",
     "text": [
      "Integral por Gaussiana com 2 nós: 32.833333333333336\n",
      "Integral por Gaussiana com 3 nós: 32.833333333333336\n",
      "Integral por Gaussiana com 4 nós: 32.833333333333336\n",
      "Integral por Gaussiana com 5 nós: 32.833333333333336\n"
     ]
    }
   ],
   "source": [
    "a = 1\n",
    "b = 2\n",
    "c = 3\n",
    "d = 4\n",
    "\n",
    "for i in range (2,6):\n",
    "    print(\n",
    "        f\"Integral por Gaussiana com {i} nós: {Gauss2D(f, a, b, c, d, 5, 5)}\"\n",
    "    )"
   ]
  },
  {
   "attachments": {},
   "cell_type": "markdown",
   "metadata": {},
   "source": [
    "### Questão 4\n",
    "Nesta questão foi calculado o volume da seguinte maneira:\n",
    "- Foram criados 1000 triangulos no plano xy e calculado a área desse triangulo. \n",
    "- Conhecendo a área, foi realizado o produto da área com o valor de z (z = f(x, y)). O valor de x e y é o baricentro do triangulo no plano xy."
   ]
  },
  {
   "attachments": {
    "image.png": {
     "image/png": "[encoded data removed]"
    }
   },
   "cell_type": "markdown",
   "metadata": {},
   "source": [
    "![image.png](attachment:image.png)"
   ]
  },
  {
   "cell_type": "code",
   "execution_count": 618,
   "metadata": {},
   "outputs": [],
   "source": [
    "def z_ponto(x, y, P1, P2, P3):\n",
    "    A = np.array([[P1[0], P1[1], 1], [P2[0], P2[1], 1], [P3[0], P3[1], 1]])\n",
    "    B = np.array([P1[2], P2[2], P3[2]])\n",
    "\n",
    "    coef = np.linalg.lstsq(A, B, rcond=None)[0]\n",
    "\n",
    "    return coef[0] * x + coef[1] * y + coef[2]\n",
    "\n",
    "def area_triangulo_Heron (a, b, c):\n",
    "    ''' Cálcula a área do triângulo a partir das três arestas\n",
    "    \n",
    "    Parâmetros\n",
    "    a : double\n",
    "        primeira aresta do triângulo\n",
    "\n",
    "    b : double\n",
    "        segunda aresta do triângulo \n",
    "\n",
    "    c : double\n",
    "        terceira aresta do triângulo\n",
    "    \n",
    "    Retornos\n",
    "    area : double\n",
    "        area do triângulo'''\n",
    "    \n",
    "    p = (abs(a)+abs(b)+abs(c))/2\n",
    "    return np.sqrt(p*(p-abs(a))*(p-abs(b))*(p-abs(c)))\n",
    "\n",
    "def diagonais_triangulo (ponto_1, ponto_2, ponto_3):\n",
    "    ''' Calcula as distâncias a, b e c do triângulo a\n",
    "        partir de três pontos recebidos\n",
    "        \n",
    "    Parâmetros :\n",
    "    ponto_1 : array-like dimensão 2\n",
    "        coordenada do primeiro ponto\n",
    "\n",
    "    ponto_2 : array-like dimensão 2\n",
    "        coordenada do segundo ponto\n",
    "            \n",
    "    ponto_3 : array-like dimensão 2\n",
    "        coordenada do terceiro ponto\n",
    "    \n",
    "    Retornos:\n",
    "    a : double \n",
    "        distância entre ponto 1 e ponto 2 \n",
    "\n",
    "    b : double \n",
    "        distância entre ponto 2 e ponto 3 \n",
    "        \n",
    "    c : double \n",
    "        distância entre ponto 1 e ponto 3'''\n",
    "    \n",
    "    a = np.sqrt((ponto_2[0]-ponto_1[0])**2 + (ponto_2[1]-ponto_1[1])**2)\n",
    "    b = np.sqrt((ponto_3[0]-ponto_2[0])**2 + (ponto_3[1]-ponto_2[1])**2)\n",
    "    c = np.sqrt((ponto_3[0]-ponto_1[0])**2 + (ponto_3[1]-ponto_1[1])**2)\n",
    "\n",
    "    return a, b, c"
   ]
  },
  {
   "cell_type": "code",
   "execution_count": 619,
   "metadata": {},
   "outputs": [],
   "source": [
    "def integralTriangulo(P1, P2, P3, z1, z2, z3):\n",
    "    p1 = [P1[0], P1[1], z1]\n",
    "    p2 = [P2[0], P2[1], z2]\n",
    "    p3 = [P3[0], P3[1], z3]\n",
    "    qtdd_delta = 1000\n",
    "\n",
    "    a, b, c = diagonais_triangulo(P1, P2, P3)\n",
    "\n",
    "    volume = 0\n",
    "\n",
    "    if a > b and a > c:     # a maior lado\n",
    "        intervalo = np.linspace(P1[0],P2[0], qtdd_delta)\n",
    "\n",
    "        reta = lambda x : (P2[1]-P1[1])/(P2[0]-P1[0]) * (x-P1[0]) + P1[1]\n",
    "\n",
    "        for i in range(1, qtdd_delta):\n",
    "            ponto2 = [intervalo[i-1], reta(intervalo[i-1])]\n",
    "            ponto3 = [intervalo[i], reta(intervalo[i])]\n",
    "            a1, b1, c1 = diagonais_triangulo(P3, ponto2, ponto3)\n",
    "\n",
    "            area_triangulo = area_triangulo_Heron(a1, b1, c1)\n",
    "\n",
    "            x_medio = (P3[0] + ponto2[0] + ponto3[0])/3\n",
    "            y_medio = (P3[1] + ponto2[1] + ponto3[1])/3\n",
    "\n",
    "            volume += area_triangulo*z_ponto(x_medio, y_medio, p1, p2, p3)\n",
    "\n",
    "\n",
    "\n",
    "    elif b > a and b > c:   # b maior lado\n",
    "        intervalo = np.linspace(P1[0],P2[0], qtdd_delta)\n",
    "\n",
    "        reta = lambda x : (P3[1]-P1[1])/(P3[0]-P1[0]) * (x-P1[0]) + P1[1]\n",
    "\n",
    "        for i in range(1, qtdd_delta):\n",
    "            ponto2 = [intervalo[i-1], reta(intervalo[i-1])]\n",
    "            ponto3 = [intervalo[i], reta(intervalo[i])]\n",
    "            a1, b1, c1 = diagonais_triangulo(P2, ponto2, ponto3)\n",
    "\n",
    "            area_triangulo = area_triangulo_Heron(a1, b1, c1)\n",
    "\n",
    "            x_medio = (P2[0] + ponto2[0] + ponto3[0])/3\n",
    "            y_medio = (P2[1] + ponto2[1] + ponto3[1])/3\n",
    "\n",
    "            volume += area_triangulo*z_ponto(x_medio, y_medio, p1, p2, p3)\n",
    "\n",
    "\n",
    "            \n",
    "    else:                   # c maior lado\n",
    "        intervalo = np.linspace(P2[0],P3[0], qtdd_delta)\n",
    "\n",
    "        reta = lambda x : (P3[1]-P2[1])/(P3[0]-P2[0]) * (x-P2[0]) + P2[1]\n",
    "\n",
    "        for i in range(1, qtdd_delta):\n",
    "            ponto2 = [intervalo[i-1], reta(intervalo[i-1])]\n",
    "            ponto3 = [intervalo[i], reta(intervalo[i])]\n",
    "            a1, b1, c1 = diagonais_triangulo(P1, ponto2, ponto3)\n",
    "\n",
    "            area_triangulo = area_triangulo_Heron(a1, b1, c1)\n",
    "\n",
    "            x_medio = (P1[0] + ponto2[0] + ponto3[0])/3\n",
    "            y_medio = (P1[1] + ponto2[1] + ponto3[1])/3\n",
    "\n",
    "            volume += area_triangulo*z_ponto(x_medio, y_medio, p1, p2, p3)\n",
    "        \n",
    "    return volume"
   ]
  },
  {
   "attachments": {},
   "cell_type": "markdown",
   "metadata": {},
   "source": [
    "Para verificar se está funcionando corretamente, o programa foi testado em uma figura composta por um prisma de base triangular com uma pirâmide de base triangular encima. Os volumes são:\n",
    "- $V_{prisma} = A_{base} \\cdot h = 2 \\cdot 5 = 10$ UA \n",
    "- $V_{pirâmide} = \\frac {A_{base} \\cdot h} {3} = \\frac {2 \\cdot 3} {3} = 2$ UA\n",
    "\n",
    "Somando as duas temos $12$ UA"
   ]
  },
  {
   "cell_type": "code",
   "execution_count": 620,
   "metadata": {},
   "outputs": [
    {
     "name": "stdout",
     "output_type": "stream",
     "text": [
      "Volume pelo método de Heron:  12.000000000000185\n"
     ]
    }
   ],
   "source": [
    "P1 = [0, 0]\n",
    "P2 = [2, 0]\n",
    "P3 = [1, 2]\n",
    "z1 = 5\n",
    "z2 = 5\n",
    "z3 = 8\n",
    "\n",
    "print(\"Volume pelo método de Heron: \", integralTriangulo(P1, P2, P3, z1, z2, z3))"
   ]
  }
 ],
 "metadata": {
  "kernelspec": {
   "display_name": "Python 3",
   "language": "python",
   "name": "python3"
  },
  "language_info": {
   "codemirror_mode": {
    "name": "ipython",
    "version": 3
   },
   "file_extension": ".py",
   "mimetype": "text/x-python",
   "name": "python",
   "nbconvert_exporter": "python",
   "pygments_lexer": "ipython3",
   "version": "3.9.4"
  },
  "orig_nbformat": 4
 },
 "nbformat": 4,
 "nbformat_minor": 2
}
